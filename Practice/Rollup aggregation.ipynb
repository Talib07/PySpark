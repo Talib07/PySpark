{
 "cells": [
  {
   "cell_type": "code",
   "execution_count": 1,
   "id": "3481d517-739c-4991-b7a3-2e588957d6b6",
   "metadata": {},
   "outputs": [
    {
     "name": "stderr",
     "output_type": "stream",
     "text": [
      "Setting default log level to \"WARN\".\n",
      "To adjust logging level use sc.setLogLevel(newLevel). For SparkR, use setLogLevel(newLevel).\n",
      "23/08/23 11:33:43 WARN NativeCodeLoader: Unable to load native-hadoop library for your platform... using builtin-java classes where applicable\n"
     ]
    }
   ],
   "source": [
    "from pyspark.sql import SparkSession\n",
    "from pyspark.sql.functions import *\n",
    "\n",
    "spark = SparkSession.builder.appName('Test').getOrCreate()"
   ]
  },
  {
   "cell_type": "code",
   "execution_count": 2,
   "id": "767a16e4-9bce-4f02-bdbb-d58a492bd529",
   "metadata": {},
   "outputs": [
    {
     "name": "stderr",
     "output_type": "stream",
     "text": [
      "                                                                                \r"
     ]
    }
   ],
   "source": [
    "ordersDF = spark.read.json('retail_db_json-main/orders/part-r-00000-990f5773-9005-49ba-b670-631286032674')"
   ]
  },
  {
   "cell_type": "code",
   "execution_count": 3,
   "id": "be63e430-d9a1-4df4-b05b-47c773003648",
   "metadata": {},
   "outputs": [
    {
     "name": "stdout",
     "output_type": "stream",
     "text": [
      "root\n",
      " |-- order_customer_id: long (nullable = true)\n",
      " |-- order_date: string (nullable = true)\n",
      " |-- order_id: long (nullable = true)\n",
      " |-- order_status: string (nullable = true)\n",
      "\n"
     ]
    }
   ],
   "source": [
    "ordersDF.printSchema()"
   ]
  },
  {
   "cell_type": "code",
   "execution_count": 4,
   "id": "f0671e6e-1c93-4f9a-9a64-b92449bf9535",
   "metadata": {},
   "outputs": [
    {
     "name": "stdout",
     "output_type": "stream",
     "text": [
      "+-----------------+---------------------+--------+---------------+\n",
      "|order_customer_id|order_date           |order_id|order_status   |\n",
      "+-----------------+---------------------+--------+---------------+\n",
      "|11599            |2013-07-25 00:00:00.0|1       |CLOSED         |\n",
      "|256              |2013-07-25 00:00:00.0|2       |PENDING_PAYMENT|\n",
      "|12111            |2013-07-25 00:00:00.0|3       |COMPLETE       |\n",
      "|8827             |2013-07-25 00:00:00.0|4       |CLOSED         |\n",
      "|11318            |2013-07-25 00:00:00.0|5       |COMPLETE       |\n",
      "+-----------------+---------------------+--------+---------------+\n",
      "only showing top 5 rows\n",
      "\n"
     ]
    }
   ],
   "source": [
    "ordersDF.show(5,truncate = False)"
   ]
  },
  {
   "cell_type": "code",
   "execution_count": 5,
   "id": "b481be61-7dfc-4503-b651-188bbb05b6f3",
   "metadata": {},
   "outputs": [
    {
     "data": {
      "text/plain": [
       "68883"
      ]
     },
     "execution_count": 5,
     "metadata": {},
     "output_type": "execute_result"
    }
   ],
   "source": [
    "ordersDF.count()"
   ]
  },
  {
   "cell_type": "code",
   "execution_count": 6,
   "id": "5d0ce2a8-329a-440a-87a4-16a790cc7e2d",
   "metadata": {},
   "outputs": [
    {
     "name": "stderr",
     "output_type": "stream",
     "text": [
      "[Stage 5:>                                                          (0 + 2) / 2]\r"
     ]
    },
    {
     "name": "stdout",
     "output_type": "stream",
     "text": [
      "+---------------------+-----------+\n",
      "|order_date           |order_count|\n",
      "+---------------------+-----------+\n",
      "|2013-08-13 00:00:00.0|73         |\n",
      "|2013-10-12 00:00:00.0|162        |\n",
      "|2013-11-15 00:00:00.0|135        |\n",
      "|2014-03-19 00:00:00.0|130        |\n",
      "|2013-09-16 00:00:00.0|121        |\n",
      "|2013-09-20 00:00:00.0|139        |\n",
      "|2013-12-31 00:00:00.0|266        |\n",
      "|2013-09-06 00:00:00.0|276        |\n",
      "|2013-12-24 00:00:00.0|170        |\n",
      "|2014-01-07 00:00:00.0|163        |\n",
      "|2013-10-14 00:00:00.0|139        |\n",
      "|2013-11-11 00:00:00.0|246        |\n",
      "|2014-01-27 00:00:00.0|163        |\n",
      "|2014-01-29 00:00:00.0|158        |\n",
      "|2014-02-14 00:00:00.0|174        |\n",
      "|2013-09-07 00:00:00.0|215        |\n",
      "|2013-09-11 00:00:00.0|109        |\n",
      "|2013-10-20 00:00:00.0|154        |\n",
      "|2014-01-09 00:00:00.0|207        |\n",
      "|2014-03-03 00:00:00.0|266        |\n",
      "+---------------------+-----------+\n",
      "only showing top 20 rows\n",
      "\n"
     ]
    },
    {
     "name": "stderr",
     "output_type": "stream",
     "text": [
      "                                                                                \r"
     ]
    }
   ],
   "source": [
    "ordersDF. \\\n",
    "    groupby('order_date'). \\\n",
    "    agg(count(lit(1)).alias('order_count')).show(truncate = False)"
   ]
  },
  {
   "cell_type": "code",
   "execution_count": 7,
   "id": "4b4cf5bc-8789-4771-90a1-dba0d4ea75ce",
   "metadata": {},
   "outputs": [
    {
     "data": {
      "text/plain": [
       "364"
      ]
     },
     "execution_count": 7,
     "metadata": {},
     "output_type": "execute_result"
    }
   ],
   "source": [
    "ordersDF. \\\n",
    "    groupby('order_date'). \\\n",
    "    agg(count(lit(1)).alias('orders_count')).count()"
   ]
  },
  {
   "cell_type": "code",
   "execution_count": 8,
   "id": "ee5ff0c4-12d6-4341-b6b0-21db169d3de3",
   "metadata": {},
   "outputs": [
    {
     "name": "stdout",
     "output_type": "stream",
     "text": [
      "+--------------------+-----------+\n",
      "|          order_date|order_count|\n",
      "+--------------------+-----------+\n",
      "|                null|      68883|\n",
      "|2013-07-25 00:00:...|        143|\n",
      "|2013-07-26 00:00:...|        269|\n",
      "|2013-07-27 00:00:...|        202|\n",
      "|2013-07-28 00:00:...|        187|\n",
      "|2013-07-29 00:00:...|        253|\n",
      "|2013-07-30 00:00:...|        227|\n",
      "|2013-07-31 00:00:...|        252|\n",
      "|2013-08-01 00:00:...|        246|\n",
      "|2013-08-02 00:00:...|        224|\n",
      "|2013-08-03 00:00:...|        183|\n",
      "|2013-08-04 00:00:...|        187|\n",
      "|2013-08-05 00:00:...|        153|\n",
      "|2013-08-06 00:00:...|        258|\n",
      "|2013-08-07 00:00:...|        203|\n",
      "|2013-08-08 00:00:...|        154|\n",
      "|2013-08-09 00:00:...|        125|\n",
      "|2013-08-10 00:00:...|        270|\n",
      "|2013-08-11 00:00:...|        154|\n",
      "|2013-08-12 00:00:...|        255|\n",
      "+--------------------+-----------+\n",
      "only showing top 20 rows\n",
      "\n"
     ]
    }
   ],
   "source": [
    "ordersDF. \\\n",
    "    rollup('order_date'). \\\n",
    "    agg(count(lit(1)).alias('order_count')). \\\n",
    "    orderBy('order_date'). \\\n",
    "    show()"
   ]
  },
  {
   "cell_type": "code",
   "execution_count": 9,
   "id": "844d5398-6432-4505-abb3-69cc865a0d00",
   "metadata": {},
   "outputs": [
    {
     "data": {
      "text/plain": [
       "365"
      ]
     },
     "execution_count": 9,
     "metadata": {},
     "output_type": "execute_result"
    }
   ],
   "source": [
    "ordersDF. \\\n",
    "    rollup('order_date'). \\\n",
    "    agg(count(lit(1)).alias('order_count')). \\\n",
    "    orderBy('order_date'). \\\n",
    "    count()"
   ]
  },
  {
   "cell_type": "code",
   "execution_count": 10,
   "id": "57374777-39f0-48ce-b634-40705afe2374",
   "metadata": {},
   "outputs": [
    {
     "name": "stdout",
     "output_type": "stream",
     "text": [
      "+-----------+--------------------+-----------+\n",
      "|order_month|          order_date|order_count|\n",
      "+-----------+--------------------+-----------+\n",
      "|     201307|2013-07-25 00:00:...|        143|\n",
      "|     201307|2013-07-26 00:00:...|        269|\n",
      "|     201307|2013-07-27 00:00:...|        202|\n",
      "|     201307|2013-07-28 00:00:...|        187|\n",
      "|     201307|2013-07-29 00:00:...|        253|\n",
      "|     201307|2013-07-30 00:00:...|        227|\n",
      "|     201307|2013-07-31 00:00:...|        252|\n",
      "|     201308|2013-08-01 00:00:...|        246|\n",
      "|     201308|2013-08-02 00:00:...|        224|\n",
      "|     201308|2013-08-03 00:00:...|        183|\n",
      "|     201308|2013-08-04 00:00:...|        187|\n",
      "|     201308|2013-08-05 00:00:...|        153|\n",
      "|     201308|2013-08-06 00:00:...|        258|\n",
      "|     201308|2013-08-07 00:00:...|        203|\n",
      "|     201308|2013-08-08 00:00:...|        154|\n",
      "|     201308|2013-08-09 00:00:...|        125|\n",
      "|     201308|2013-08-10 00:00:...|        270|\n",
      "|     201308|2013-08-11 00:00:...|        154|\n",
      "|     201308|2013-08-12 00:00:...|        255|\n",
      "|     201308|2013-08-13 00:00:...|         73|\n",
      "+-----------+--------------------+-----------+\n",
      "only showing top 20 rows\n",
      "\n"
     ]
    }
   ],
   "source": [
    "ordersDF. \\\n",
    "    groupBy(date_format('order_date', 'yyyyMM').alias('order_month'), 'order_date'). \\\n",
    "    agg(count(lit(1)).alias('order_count')). \\\n",
    "    orderBy('order_month', 'order_date'). \\\n",
    "    show()"
   ]
  },
  {
   "cell_type": "code",
   "execution_count": 11,
   "id": "e78a0c32-bb67-4852-b1e6-7a847b1499bf",
   "metadata": {},
   "outputs": [
    {
     "data": {
      "text/plain": [
       "364"
      ]
     },
     "execution_count": 11,
     "metadata": {},
     "output_type": "execute_result"
    }
   ],
   "source": [
    "ordersDF. \\\n",
    "    groupBy(date_format('order_date', 'yyyyMM').alias('order_month'), 'order_date'). \\\n",
    "    agg(count(lit(1)).alias('order_count')). \\\n",
    "    orderBy('order_month', 'order_date'). \\\n",
    "    count()"
   ]
  },
  {
   "cell_type": "code",
   "execution_count": 12,
   "id": "57cc90e4-bd31-4d1e-a3e1-8b9ccb545388",
   "metadata": {},
   "outputs": [
    {
     "name": "stdout",
     "output_type": "stream",
     "text": [
      "+-----------+--------------------+-----------+\n",
      "|order_month|          order_date|order_count|\n",
      "+-----------+--------------------+-----------+\n",
      "|       null|                null|      68883|\n",
      "|     201307|                null|       1533|\n",
      "|     201307|2013-07-25 00:00:...|        143|\n",
      "|     201307|2013-07-26 00:00:...|        269|\n",
      "|     201307|2013-07-27 00:00:...|        202|\n",
      "|     201307|2013-07-28 00:00:...|        187|\n",
      "|     201307|2013-07-29 00:00:...|        253|\n",
      "|     201307|2013-07-30 00:00:...|        227|\n",
      "|     201307|2013-07-31 00:00:...|        252|\n",
      "|     201308|                null|       5680|\n",
      "|     201308|2013-08-01 00:00:...|        246|\n",
      "|     201308|2013-08-02 00:00:...|        224|\n",
      "|     201308|2013-08-03 00:00:...|        183|\n",
      "|     201308|2013-08-04 00:00:...|        187|\n",
      "|     201308|2013-08-05 00:00:...|        153|\n",
      "|     201308|2013-08-06 00:00:...|        258|\n",
      "|     201308|2013-08-07 00:00:...|        203|\n",
      "|     201308|2013-08-08 00:00:...|        154|\n",
      "|     201308|2013-08-09 00:00:...|        125|\n",
      "|     201308|2013-08-10 00:00:...|        270|\n",
      "+-----------+--------------------+-----------+\n",
      "only showing top 20 rows\n",
      "\n"
     ]
    }
   ],
   "source": [
    "ordersDF. \\\n",
    "    rollup(date_format('order_date', 'yyyyMM').alias('order_month'), 'order_date'). \\\n",
    "    agg(count(lit(1)).alias('order_count')). \\\n",
    "    orderBy('order_month', 'order_date'). \\\n",
    "    show()"
   ]
  },
  {
   "cell_type": "code",
   "execution_count": 13,
   "id": "81055cb9-e09d-463f-b0f4-a0ed4befa1af",
   "metadata": {},
   "outputs": [
    {
     "data": {
      "text/plain": [
       "378"
      ]
     },
     "execution_count": 13,
     "metadata": {},
     "output_type": "execute_result"
    }
   ],
   "source": [
    "ordersDF. \\\n",
    "    rollup(date_format('order_date', 'yyyyMM').alias('order_month'), 'order_date'). \\\n",
    "    agg(count(lit(1)).alias('order_count')). \\\n",
    "    orderBy('order_month', 'order_date'). \\\n",
    "    count()"
   ]
  },
  {
   "cell_type": "code",
   "execution_count": 14,
   "id": "46e5b3c3-ed13-43a9-a8a7-970d9512e0a0",
   "metadata": {},
   "outputs": [
    {
     "name": "stdout",
     "output_type": "stream",
     "text": [
      "+----+------+--------------------+-----------+\n",
      "|Year| Month|          order_date|order_count|\n",
      "+----+------+--------------------+-----------+\n",
      "|2013|201309|2013-09-13 00:00:...|        103|\n",
      "|2013|201312|2013-12-06 00:00:...|        256|\n",
      "|2013|201310|2013-10-13 00:00:...|        277|\n",
      "|2013|201309|2013-09-01 00:00:...|        119|\n",
      "|2013|201310|2013-10-06 00:00:...|        249|\n",
      "|2014|201401|2014-01-14 00:00:...|        209|\n",
      "|2014|201401|2014-01-16 00:00:...|        194|\n",
      "|2014|201403|2014-03-18 00:00:...|        252|\n",
      "|2013|201309|2013-09-23 00:00:...|        177|\n",
      "|2013|201312|2013-12-23 00:00:...|        154|\n",
      "|2014|201402|2014-02-09 00:00:...|        240|\n",
      "|2013|201308|2013-08-13 00:00:...|         73|\n",
      "|2014|201403|2014-03-14 00:00:...|        201|\n",
      "|2014|201401|2014-01-04 00:00:...|        129|\n",
      "|2014|201401|2014-01-31 00:00:...|        223|\n",
      "|2013|201309|2013-09-11 00:00:...|        109|\n",
      "|2014|201401|2014-01-18 00:00:...|        139|\n",
      "|2013|201309|2013-09-16 00:00:...|        121|\n",
      "|2014|201401|2014-01-15 00:00:...|        243|\n",
      "|2013|201312|2013-12-05 00:00:...|        241|\n",
      "+----+------+--------------------+-----------+\n",
      "only showing top 20 rows\n",
      "\n"
     ]
    }
   ],
   "source": [
    "ordersDF. \\\n",
    "    groupby(year(col('order_date')).alias('Year'),date_format('order_date','yyyyMM').alias('Month'),'order_date'). \\\n",
    "    agg(count(lit(1)).alias('order_count')). \\\n",
    "    show()"
   ]
  },
  {
   "cell_type": "code",
   "execution_count": 15,
   "id": "2ab0e2b3-6010-48c5-81dd-84949db234a5",
   "metadata": {},
   "outputs": [
    {
     "data": {
      "text/plain": [
       "364"
      ]
     },
     "execution_count": 15,
     "metadata": {},
     "output_type": "execute_result"
    }
   ],
   "source": [
    "ordersDF. \\\n",
    "    groupby(year(col('order_date')).alias('Year'),date_format('order_date','yyyyMM').alias('Month'),'order_date'). \\\n",
    "    agg(count(lit(1)).alias('order_count')). \\\n",
    "    count()"
   ]
  },
  {
   "cell_type": "code",
   "execution_count": 16,
   "id": "d9893db5-f6df-46f5-b8c0-0e0007d99560",
   "metadata": {},
   "outputs": [
    {
     "name": "stdout",
     "output_type": "stream",
     "text": [
      "+----+------+--------------------+-----------+\n",
      "|Year| Month|          order_date|order_count|\n",
      "+----+------+--------------------+-----------+\n",
      "|2013|201312|2013-12-13 00:00:...|        135|\n",
      "|2013|201311|2013-11-06 00:00:...|        234|\n",
      "|2013|201309|2013-09-05 00:00:...|        261|\n",
      "|2013|201310|2013-10-03 00:00:...|        154|\n",
      "|2013|201311|2013-11-23 00:00:...|        251|\n",
      "|2014|201402|2014-02-15 00:00:...|        221|\n",
      "|2013|201308|                null|       5680|\n",
      "|2013|201308|2013-08-12 00:00:...|        255|\n",
      "|2013|201309|2013-09-24 00:00:...|        254|\n",
      "|2013|201309|2013-09-19 00:00:...|        206|\n",
      "|null|  null|                null|      68883|\n",
      "|2013|201307|2013-07-31 00:00:...|        252|\n",
      "|2013|201312|2013-12-31 00:00:...|        266|\n",
      "|2014|201402|2014-02-20 00:00:...|        145|\n",
      "|2014|201402|2014-02-07 00:00:...|        228|\n",
      "|2013|  null|                null|      30662|\n",
      "|2014|201401|2014-01-19 00:00:...|        217|\n",
      "|2014|201403|2014-03-14 00:00:...|        201|\n",
      "|2013|201309|2013-09-26 00:00:...|        252|\n",
      "|2013|201310|2013-10-27 00:00:...|        215|\n",
      "+----+------+--------------------+-----------+\n",
      "only showing top 20 rows\n",
      "\n"
     ]
    }
   ],
   "source": [
    "ordersDF. \\\n",
    "    rollup(year('order_date').alias('Year'),date_format('order_date','yyyyMM').alias('Month'),'order_date'). \\\n",
    "    agg(count(lit(1)).alias('order_count')).show()"
   ]
  },
  {
   "cell_type": "code",
   "execution_count": 17,
   "id": "8178bf06-66fb-417c-8d9b-2d96df08d38f",
   "metadata": {},
   "outputs": [
    {
     "data": {
      "text/plain": [
       "380"
      ]
     },
     "execution_count": 17,
     "metadata": {},
     "output_type": "execute_result"
    }
   ],
   "source": [
    "ordersDF. \\\n",
    "    rollup(year('order_date').alias('Year'),date_format('order_date','yyyyMM').alias('Month'),'order_date'). \\\n",
    "    agg(count(lit(1)).alias('order_count')).count()"
   ]
  },
  {
   "cell_type": "code",
   "execution_count": 19,
   "id": "2226d672-a581-4cb8-b5f0-ecb0e8a6c0c6",
   "metadata": {},
   "outputs": [
    {
     "name": "stdout",
     "output_type": "stream",
     "text": [
      "+-----------------+--------------------+--------+---------------+\n",
      "|order_customer_id|          order_date|order_id|   order_status|\n",
      "+-----------------+--------------------+--------+---------------+\n",
      "|            11599|2013-07-25 00:00:...|       1|         CLOSED|\n",
      "|              256|2013-07-25 00:00:...|       2|PENDING_PAYMENT|\n",
      "|            12111|2013-07-25 00:00:...|       3|       COMPLETE|\n",
      "|             8827|2013-07-25 00:00:...|       4|         CLOSED|\n",
      "|            11318|2013-07-25 00:00:...|       5|       COMPLETE|\n",
      "|             7130|2013-07-25 00:00:...|       6|       COMPLETE|\n",
      "|             4530|2013-07-25 00:00:...|       7|       COMPLETE|\n",
      "|             2911|2013-07-25 00:00:...|       8|     PROCESSING|\n",
      "|             5657|2013-07-25 00:00:...|       9|PENDING_PAYMENT|\n",
      "|             5648|2013-07-25 00:00:...|      10|PENDING_PAYMENT|\n",
      "|              918|2013-07-25 00:00:...|      11| PAYMENT_REVIEW|\n",
      "|             1837|2013-07-25 00:00:...|      12|         CLOSED|\n",
      "|             9149|2013-07-25 00:00:...|      13|PENDING_PAYMENT|\n",
      "|             9842|2013-07-25 00:00:...|      14|     PROCESSING|\n",
      "|             2568|2013-07-25 00:00:...|      15|       COMPLETE|\n",
      "|             7276|2013-07-25 00:00:...|      16|PENDING_PAYMENT|\n",
      "|             2667|2013-07-25 00:00:...|      17|       COMPLETE|\n",
      "|             1205|2013-07-25 00:00:...|      18|         CLOSED|\n",
      "|             9488|2013-07-25 00:00:...|      19|PENDING_PAYMENT|\n",
      "|             9198|2013-07-25 00:00:...|      20|     PROCESSING|\n",
      "+-----------------+--------------------+--------+---------------+\n",
      "only showing top 20 rows\n",
      "\n"
     ]
    }
   ],
   "source": [
    "ordersDF.show()"
   ]
  },
  {
   "cell_type": "code",
   "execution_count": 28,
   "id": "2a330927-7026-41b5-90fe-f0e15a37be78",
   "metadata": {},
   "outputs": [
    {
     "name": "stdout",
     "output_type": "stream",
     "text": [
      "+--------------------+-----------+\n",
      "|          order_date|order_count|\n",
      "+--------------------+-----------+\n",
      "|                null|      68883|\n",
      "|2013-07-25 00:00:...|        143|\n",
      "|2013-07-26 00:00:...|        269|\n",
      "|2013-07-27 00:00:...|        202|\n",
      "|2013-07-28 00:00:...|        187|\n",
      "|2013-07-29 00:00:...|        253|\n",
      "|2013-07-30 00:00:...|        227|\n",
      "|2013-07-31 00:00:...|        252|\n",
      "|2013-08-01 00:00:...|        246|\n",
      "|2013-08-02 00:00:...|        224|\n",
      "|2013-08-03 00:00:...|        183|\n",
      "|2013-08-04 00:00:...|        187|\n",
      "|2013-08-05 00:00:...|        153|\n",
      "|2013-08-06 00:00:...|        258|\n",
      "|2013-08-07 00:00:...|        203|\n",
      "|2013-08-08 00:00:...|        154|\n",
      "|2013-08-09 00:00:...|        125|\n",
      "|2013-08-10 00:00:...|        270|\n",
      "|2013-08-11 00:00:...|        154|\n",
      "|2013-08-12 00:00:...|        255|\n",
      "+--------------------+-----------+\n",
      "only showing top 20 rows\n",
      "\n"
     ]
    }
   ],
   "source": [
    "ordersDF. \\\n",
    "    cube('order_date'). \\\n",
    "    agg(count(lit(1)).alias('order_count')).orderBy('order_date').show()"
   ]
  },
  {
   "cell_type": "code",
   "execution_count": 22,
   "id": "a0ebf0c1-f29d-477c-9b7b-46c2acc1fe28",
   "metadata": {},
   "outputs": [
    {
     "data": {
      "text/plain": [
       "365"
      ]
     },
     "execution_count": 22,
     "metadata": {},
     "output_type": "execute_result"
    }
   ],
   "source": [
    "ordersDF. \\\n",
    "    cube('order_date'). \\\n",
    "    agg(count(lit(1)).alias('order_count')).count()"
   ]
  },
  {
   "cell_type": "code",
   "execution_count": 30,
   "id": "d8931bb4-2ec2-49f9-89aa-4d33b0cd72e0",
   "metadata": {},
   "outputs": [
    {
     "name": "stdout",
     "output_type": "stream",
     "text": [
      "+------+--------------------+-----------+\n",
      "| Month|          order_date|order_count|\n",
      "+------+--------------------+-----------+\n",
      "|201308|2013-08-18 00:00:...|        199|\n",
      "|201402|2014-02-02 00:00:...|        192|\n",
      "|201308|2013-08-19 00:00:...|         93|\n",
      "|201311|2013-11-23 00:00:...|        251|\n",
      "|201401|2014-01-20 00:00:...|        203|\n",
      "|201401|2014-01-27 00:00:...|        163|\n",
      "|201402|2014-02-18 00:00:...|        219|\n",
      "|201308|2013-08-16 00:00:...|        131|\n",
      "|201311|2013-11-08 00:00:...|        170|\n",
      "|201311|2013-11-19 00:00:...|        188|\n",
      "|201311|2013-11-25 00:00:...|        133|\n",
      "|201308|2013-08-04 00:00:...|        187|\n",
      "|201310|2013-10-18 00:00:...|        129|\n",
      "|201311|2013-11-06 00:00:...|        234|\n",
      "|201311|2013-11-13 00:00:...|        236|\n",
      "|201309|2013-09-11 00:00:...|        109|\n",
      "|201402|2014-02-20 00:00:...|        145|\n",
      "|201402|2014-02-08 00:00:...|        163|\n",
      "|201402|2014-02-19 00:00:...|        268|\n",
      "|201310|2013-10-16 00:00:...|        127|\n",
      "+------+--------------------+-----------+\n",
      "only showing top 20 rows\n",
      "\n"
     ]
    }
   ],
   "source": [
    "ordersDF. \\\n",
    "    groupby(date_format('order_date','yyyyMM').alias('Month'),'order_date'). \\\n",
    "    agg(count(lit(1)).alias('order_count')).show()"
   ]
  },
  {
   "cell_type": "code",
   "execution_count": 31,
   "id": "bf5825c8-db26-4e18-99ef-dc207e8e9e85",
   "metadata": {},
   "outputs": [
    {
     "data": {
      "text/plain": [
       "364"
      ]
     },
     "execution_count": 31,
     "metadata": {},
     "output_type": "execute_result"
    }
   ],
   "source": [
    "ordersDF. \\\n",
    "    groupby(date_format('order_date','yyyyMM').alias('Month'),'order_date'). \\\n",
    "    agg(count(lit(1)).alias('order_count')).count()"
   ]
  },
  {
   "cell_type": "code",
   "execution_count": 32,
   "id": "55c1ba7b-2804-4003-b938-e1a9d6cd990c",
   "metadata": {},
   "outputs": [
    {
     "name": "stdout",
     "output_type": "stream",
     "text": [
      "+------+--------------------+-----------+\n",
      "| Month|          order_date|order_count|\n",
      "+------+--------------------+-----------+\n",
      "|201309|2013-09-05 00:00:...|        261|\n",
      "|201401|2014-01-01 00:00:...|        135|\n",
      "|  null|2013-09-23 00:00:...|        177|\n",
      "|201309|2013-09-22 00:00:...|        192|\n",
      "|201312|2013-12-23 00:00:...|        154|\n",
      "|  null|2013-10-05 00:00:...|        215|\n",
      "|  null|2013-12-27 00:00:...|        162|\n",
      "|201308|2013-08-09 00:00:...|        125|\n",
      "|201401|2014-01-16 00:00:...|        194|\n",
      "|  null|2013-11-15 00:00:...|        135|\n",
      "|201311|2013-11-15 00:00:...|        135|\n",
      "|201402|2014-02-01 00:00:...|        278|\n",
      "|  null|2013-12-17 00:00:...|        132|\n",
      "|201401|2014-01-10 00:00:...|        241|\n",
      "|201403|2014-03-11 00:00:...|        204|\n",
      "|  null|2013-12-20 00:00:...|        259|\n",
      "|  null|2014-01-04 00:00:...|        129|\n",
      "|  null|2014-02-13 00:00:...|        203|\n",
      "|201308|2013-08-03 00:00:...|        183|\n",
      "|  null|2014-01-15 00:00:...|        243|\n",
      "+------+--------------------+-----------+\n",
      "only showing top 20 rows\n",
      "\n"
     ]
    }
   ],
   "source": [
    "ordersDF. \\\n",
    "    cube(date_format('order_date','yyyyMM').alias('Month'),'order_date'). \\\n",
    "    agg(count(lit(1)).alias('order_count')).show()"
   ]
  },
  {
   "cell_type": "code",
   "execution_count": 34,
   "id": "48e5af70-21b7-4ac0-b69d-fa0bec7300e8",
   "metadata": {},
   "outputs": [
    {
     "data": {
      "text/plain": [
       "742"
      ]
     },
     "execution_count": 34,
     "metadata": {},
     "output_type": "execute_result"
    }
   ],
   "source": [
    "ordersDF. \\\n",
    "    cube(date_format('order_date','yyyyMM').alias('Month'),'order_date'). \\\n",
    "    agg(count(lit(1)).alias('order_count')).count()"
   ]
  },
  {
   "cell_type": "code",
   "execution_count": 35,
   "id": "8e49d800-7714-47a2-8f7b-70b31d66d6fe",
   "metadata": {},
   "outputs": [
    {
     "name": "stdout",
     "output_type": "stream",
     "text": [
      "+----+------+--------------------+-----------+\n",
      "|Year| Month|          order_date|order_count|\n",
      "+----+------+--------------------+-----------+\n",
      "|2013|201309|2013-09-13 00:00:...|        103|\n",
      "|2013|201312|2013-12-06 00:00:...|        256|\n",
      "|2013|201310|2013-10-13 00:00:...|        277|\n",
      "|2013|201309|2013-09-01 00:00:...|        119|\n",
      "|2013|201310|2013-10-06 00:00:...|        249|\n",
      "|2014|201401|2014-01-14 00:00:...|        209|\n",
      "|2014|201401|2014-01-16 00:00:...|        194|\n",
      "|2014|201403|2014-03-18 00:00:...|        252|\n",
      "|2013|201309|2013-09-23 00:00:...|        177|\n",
      "|2013|201312|2013-12-23 00:00:...|        154|\n",
      "|2014|201402|2014-02-09 00:00:...|        240|\n",
      "|2013|201308|2013-08-13 00:00:...|         73|\n",
      "|2014|201403|2014-03-14 00:00:...|        201|\n",
      "|2014|201401|2014-01-04 00:00:...|        129|\n",
      "|2014|201401|2014-01-31 00:00:...|        223|\n",
      "|2013|201309|2013-09-11 00:00:...|        109|\n",
      "|2014|201401|2014-01-18 00:00:...|        139|\n",
      "|2013|201309|2013-09-16 00:00:...|        121|\n",
      "|2014|201401|2014-01-15 00:00:...|        243|\n",
      "|2013|201312|2013-12-05 00:00:...|        241|\n",
      "+----+------+--------------------+-----------+\n",
      "only showing top 20 rows\n",
      "\n"
     ]
    }
   ],
   "source": [
    "ordersDF. \\\n",
    "    groupby(year('order_date').alias('Year'), date_format('order_date','yyyyMM').alias('Month'),'order_date'). \\\n",
    "    agg(count(lit(1)).alias('order_count')).show()"
   ]
  },
  {
   "cell_type": "code",
   "execution_count": 36,
   "id": "509d3504-121f-418f-b8db-62c579a05df0",
   "metadata": {},
   "outputs": [
    {
     "data": {
      "text/plain": [
       "364"
      ]
     },
     "execution_count": 36,
     "metadata": {},
     "output_type": "execute_result"
    }
   ],
   "source": [
    "ordersDF. \\\n",
    "    groupby(year('order_date').alias('Year'), date_format('order_date','yyyyMM').alias('Month'),'order_date'). \\\n",
    "    agg(count(lit(1)).alias('order_count')).count()"
   ]
  },
  {
   "cell_type": "code",
   "execution_count": 37,
   "id": "4347346b-503f-4a77-9e85-b494f1f90210",
   "metadata": {},
   "outputs": [
    {
     "name": "stdout",
     "output_type": "stream",
     "text": [
      "+----+------+--------------------+-----------+\n",
      "|Year| Month|          order_date|order_count|\n",
      "+----+------+--------------------+-----------+\n",
      "|2013|201312|2013-12-13 00:00:...|        135|\n",
      "|2013|201311|2013-11-06 00:00:...|        234|\n",
      "|2013|201309|2013-09-05 00:00:...|        261|\n",
      "|2013|201310|2013-10-03 00:00:...|        154|\n",
      "|2013|201311|2013-11-23 00:00:...|        251|\n",
      "|2014|201402|2014-02-15 00:00:...|        221|\n",
      "|2013|201308|                null|       5680|\n",
      "|2013|201308|2013-08-12 00:00:...|        255|\n",
      "|2013|201309|2013-09-24 00:00:...|        254|\n",
      "|2013|201309|2013-09-19 00:00:...|        206|\n",
      "|null|  null|                null|      68883|\n",
      "|2013|201307|2013-07-31 00:00:...|        252|\n",
      "|2013|201312|2013-12-31 00:00:...|        266|\n",
      "|2014|201402|2014-02-20 00:00:...|        145|\n",
      "|2014|201402|2014-02-07 00:00:...|        228|\n",
      "|2013|  null|                null|      30662|\n",
      "|2014|201401|2014-01-19 00:00:...|        217|\n",
      "|2014|201403|2014-03-14 00:00:...|        201|\n",
      "|2013|201309|2013-09-26 00:00:...|        252|\n",
      "|2013|201310|2013-10-27 00:00:...|        215|\n",
      "+----+------+--------------------+-----------+\n",
      "only showing top 20 rows\n",
      "\n"
     ]
    }
   ],
   "source": [
    "ordersDF. \\\n",
    "    rollup(year('order_date').alias('Year'), date_format('order_date','yyyyMM').alias('Month'),'order_date'). \\\n",
    "    agg(count(lit(1)).alias('order_count')).show()"
   ]
  },
  {
   "cell_type": "code",
   "execution_count": 38,
   "id": "ffd470f6-61b8-40da-9220-d5d38c7b4bdb",
   "metadata": {},
   "outputs": [
    {
     "data": {
      "text/plain": [
       "380"
      ]
     },
     "execution_count": 38,
     "metadata": {},
     "output_type": "execute_result"
    }
   ],
   "source": [
    "ordersDF. \\\n",
    "    rollup(year('order_date').alias('Year'), date_format('order_date','yyyyMM').alias('Month'),'order_date'). \\\n",
    "    agg(count(lit(1)).alias('order_count')).count()"
   ]
  },
  {
   "cell_type": "code",
   "execution_count": 39,
   "id": "f7d07e6f-2054-48ff-b35d-2701a8ec572c",
   "metadata": {},
   "outputs": [
    {
     "name": "stdout",
     "output_type": "stream",
     "text": [
      "+----+------+--------------------+-----------+\n",
      "|Year| Month|          order_date|order_count|\n",
      "+----+------+--------------------+-----------+\n",
      "|2013|201312|2013-12-13 00:00:...|        135|\n",
      "|null|201308|2013-08-27 00:00:...|        188|\n",
      "|null|  null|2013-11-04 00:00:...|        254|\n",
      "|null|  null|2013-11-22 00:00:...|        249|\n",
      "|null|  null|2013-12-07 00:00:...|        234|\n",
      "|null|201401|2014-01-17 00:00:...|        149|\n",
      "|null|  null|2014-03-08 00:00:...|        100|\n",
      "|null|  null|2014-03-20 00:00:...|        177|\n",
      "|2013|201311|2013-11-06 00:00:...|        234|\n",
      "|null|  null|2013-07-27 00:00:...|        202|\n",
      "|2013|  null|2013-09-22 00:00:...|        192|\n",
      "|2013|  null|2013-12-08 00:00:...|        141|\n",
      "|2013|  null|2013-12-25 00:00:...|        217|\n",
      "|null|  null|2014-03-19 00:00:...|        130|\n",
      "|2013|201309|2013-09-05 00:00:...|        261|\n",
      "|2013|201310|2013-10-03 00:00:...|        154|\n",
      "|2013|  null|2013-08-17 00:00:...|        253|\n",
      "|2013|  null|2013-10-22 00:00:...|        125|\n",
      "|null|  null|2013-11-15 00:00:...|        135|\n",
      "|null|201403|2014-03-12 00:00:...|        238|\n",
      "+----+------+--------------------+-----------+\n",
      "only showing top 20 rows\n",
      "\n"
     ]
    }
   ],
   "source": [
    "ordersDF. \\\n",
    "    cube(year('order_date').alias('Year'), date_format('order_date','yyyyMM').alias('Month'),'order_date'). \\\n",
    "    agg(count(lit(1)).alias('order_count')).show()"
   ]
  },
  {
   "cell_type": "code",
   "execution_count": 40,
   "id": "44bc8c64-585d-45bd-95e2-744310190eff",
   "metadata": {},
   "outputs": [
    {
     "data": {
      "text/plain": [
       "1485"
      ]
     },
     "execution_count": 40,
     "metadata": {},
     "output_type": "execute_result"
    }
   ],
   "source": [
    "ordersDF. \\\n",
    "    cube(year('order_date').alias('Year'), date_format('order_date','yyyyMM').alias('Month'),'order_date'). \\\n",
    "    agg(count(lit(1)).alias('order_count')).count()"
   ]
  },
  {
   "cell_type": "code",
   "execution_count": null,
   "id": "2d2dcf90-62db-4f9d-8da8-88dc44ff163e",
   "metadata": {},
   "outputs": [],
   "source": []
  }
 ],
 "metadata": {
  "kernelspec": {
   "display_name": "Python 3 (ipykernel)",
   "language": "python",
   "name": "python3"
  },
  "language_info": {
   "codemirror_mode": {
    "name": "ipython",
    "version": 3
   },
   "file_extension": ".py",
   "mimetype": "text/x-python",
   "name": "python",
   "nbconvert_exporter": "python",
   "pygments_lexer": "ipython3",
   "version": "3.8.10"
  }
 },
 "nbformat": 4,
 "nbformat_minor": 5
}
