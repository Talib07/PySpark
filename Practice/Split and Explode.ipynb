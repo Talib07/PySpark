{
 "cells": [
  {
   "cell_type": "code",
   "execution_count": 1,
   "id": "359b57fa-1c1c-41e7-90e9-ab65cfb174bd",
   "metadata": {},
   "outputs": [],
   "source": [
    "from pyspark.sql import SparkSession\n",
    "from pyspark.sql.functions import *"
   ]
  },
  {
   "cell_type": "code",
   "execution_count": 2,
   "id": "e7f9b18f-31cd-421e-93da-1d6975ffabca",
   "metadata": {},
   "outputs": [
    {
     "name": "stderr",
     "output_type": "stream",
     "text": [
      "Setting default log level to \"WARN\".\n",
      "To adjust logging level use sc.setLogLevel(newLevel). For SparkR, use setLogLevel(newLevel).\n",
      "23/08/15 14:04:17 WARN NativeCodeLoader: Unable to load native-hadoop library for your platform... using builtin-java classes where applicable\n"
     ]
    }
   ],
   "source": [
    "spark = SparkSession.builder.appName('test').getOrCreate()"
   ]
  },
  {
   "cell_type": "code",
   "execution_count": 3,
   "id": "43201d1c-783d-478f-b054-c0c7d50bfe83",
   "metadata": {},
   "outputs": [],
   "source": [
    "l = [('X', )]"
   ]
  },
  {
   "cell_type": "code",
   "execution_count": 4,
   "id": "783c8708-91e9-4c04-85be-68e65ae80cf3",
   "metadata": {},
   "outputs": [],
   "source": [
    "df = spark.createDataFrame(l,schema = \"\"\"dummy STRING\"\"\")"
   ]
  },
  {
   "cell_type": "code",
   "execution_count": 5,
   "id": "3c70f797-29ea-4e12-a8da-1e1dbee444f2",
   "metadata": {},
   "outputs": [
    {
     "name": "stderr",
     "output_type": "stream",
     "text": [
      "                                                                                \r"
     ]
    },
    {
     "name": "stdout",
     "output_type": "stream",
     "text": [
      "+-----+\n",
      "|dummy|\n",
      "+-----+\n",
      "|    X|\n",
      "+-----+\n",
      "\n"
     ]
    }
   ],
   "source": [
    "df.show()"
   ]
  },
  {
   "cell_type": "code",
   "execution_count": 6,
   "id": "36ed4c53-18a3-4272-8c4b-bc35e445cedd",
   "metadata": {},
   "outputs": [
    {
     "name": "stdout",
     "output_type": "stream",
     "text": [
      "root\n",
      " |-- dummy: string (nullable = true)\n",
      "\n"
     ]
    }
   ],
   "source": [
    "df.printSchema()"
   ]
  },
  {
   "cell_type": "code",
   "execution_count": 7,
   "id": "d27fdf95-ff83-45c8-9210-2262f8dbc66b",
   "metadata": {},
   "outputs": [
    {
     "name": "stdout",
     "output_type": "stream",
     "text": [
      "+------------------------------------------------+\n",
      "|split(Hello, How are you?,  , -1) AS Splitted[1]|\n",
      "+------------------------------------------------+\n",
      "|How                                             |\n",
      "+------------------------------------------------+\n",
      "\n"
     ]
    }
   ],
   "source": [
    "df.select(split(lit(\"Hello, How are you?\"),\" \").alias('Splitted')[1]).show(truncate = False)"
   ]
  },
  {
   "cell_type": "code",
   "execution_count": 8,
   "id": "f814fd3a-75d0-4a84-bba8-90999d3cd5f1",
   "metadata": {},
   "outputs": [
    {
     "name": "stdout",
     "output_type": "stream",
     "text": [
      "+--------+\n",
      "|exploded|\n",
      "+--------+\n",
      "|   There|\n",
      "|     are|\n",
      "|       5|\n",
      "| pegions|\n",
      "|      on|\n",
      "|     the|\n",
      "|  branch|\n",
      "|      of|\n",
      "|   Mango|\n",
      "|    Tree|\n",
      "+--------+\n",
      "\n"
     ]
    }
   ],
   "source": [
    "df.select(explode(split(lit(\"There are 5 pegions on the branch of Mango Tree\"),\" \")).alias('exploded')).show()"
   ]
  },
  {
   "cell_type": "code",
   "execution_count": 9,
   "id": "80e2ba8d-ff59-40a7-943c-0cea1b36e013",
   "metadata": {},
   "outputs": [],
   "source": [
    "employees = [(1, \"Scott\", \"Tiger\", 1000.0, \n",
    "                      \"united states\", \"+1 123 456 7890,+1 234 567 8901\", \"123 45 6789\"\n",
    "                     ),\n",
    "                     (2, \"Henry\", \"Ford\", 1250.0, \n",
    "                      \"India\", \"+91 234 567 8901\", \"456 78 9123\"\n",
    "                     ),\n",
    "                     (3, \"Nick\", \"Junior\", 750.0, \n",
    "                      \"united KINGDOM\", \"+44 111 111 1111,+44 222 222 2222\", \"222 33 4444\"\n",
    "                     ),\n",
    "                     (4, \"Bill\", \"Gomes\", 1500.0, \n",
    "                      \"AUSTRALIA\", \"+61 987 654 3210,+61 876 543 2109\", \"789 12 6118\"\n",
    "                     )\n",
    "                ]"
   ]
  },
  {
   "cell_type": "code",
   "execution_count": 10,
   "id": "ab67d2b6-fb4a-43f9-bf03-2c4dcb355573",
   "metadata": {},
   "outputs": [],
   "source": [
    "employeesDF = spark.createDataFrame(employees,\n",
    "                    schema=\"\"\"employee_id INT, first_name STRING, \n",
    "                    last_name STRING, salary FLOAT, nationality STRING,\n",
    "                    phone_numbers STRING, ssn STRING\"\"\"\n",
    "                   )"
   ]
  },
  {
   "cell_type": "code",
   "execution_count": 11,
   "id": "10e95a55-ee84-4eb4-8c34-dac0ada2313b",
   "metadata": {},
   "outputs": [
    {
     "name": "stdout",
     "output_type": "stream",
     "text": [
      "+-----------+---------------------------------+\n",
      "|employee_id|phone_numbers                    |\n",
      "+-----------+---------------------------------+\n",
      "|1          |+1 123 456 7890,+1 234 567 8901  |\n",
      "|2          |+91 234 567 8901                 |\n",
      "|3          |+44 111 111 1111,+44 222 222 2222|\n",
      "|4          |+61 987 654 3210,+61 876 543 2109|\n",
      "+-----------+---------------------------------+\n",
      "\n"
     ]
    }
   ],
   "source": [
    "employeesDF. \\\n",
    "    select('employee_id', 'phone_numbers'). \\\n",
    "    show(truncate=False)"
   ]
  },
  {
   "cell_type": "code",
   "execution_count": 12,
   "id": "16eba040-53a1-44d9-9138-03f614a9be3b",
   "metadata": {},
   "outputs": [],
   "source": [
    "empDF = employeesDF. \\\n",
    "    select('employee_id','phone_numbers','ssn'). \\\n",
    "    withColumn('distinct numbers', explode(split('phone_numbers', ',')))"
   ]
  },
  {
   "cell_type": "code",
   "execution_count": 13,
   "id": "8e271bd1-68d5-4eea-876d-5ad65bfcf7bb",
   "metadata": {},
   "outputs": [
    {
     "name": "stdout",
     "output_type": "stream",
     "text": [
      "+-----------+--------------------+-----------+----------------+\n",
      "|employee_id|       phone_numbers|        ssn|distinct numbers|\n",
      "+-----------+--------------------+-----------+----------------+\n",
      "|          1|+1 123 456 7890,+...|123 45 6789| +1 123 456 7890|\n",
      "|          1|+1 123 456 7890,+...|123 45 6789| +1 234 567 8901|\n",
      "|          2|    +91 234 567 8901|456 78 9123|+91 234 567 8901|\n",
      "|          3|+44 111 111 1111,...|222 33 4444|+44 111 111 1111|\n",
      "|          3|+44 111 111 1111,...|222 33 4444|+44 222 222 2222|\n",
      "|          4|+61 987 654 3210,...|789 12 6118|+61 987 654 3210|\n",
      "|          4|+61 987 654 3210,...|789 12 6118|+61 876 543 2109|\n",
      "+-----------+--------------------+-----------+----------------+\n",
      "\n"
     ]
    }
   ],
   "source": [
    "empDF.show()"
   ]
  },
  {
   "cell_type": "code",
   "execution_count": 16,
   "id": "5572bad0-0dfa-4ba5-a3d6-d8a92df339bd",
   "metadata": {},
   "outputs": [
    {
     "name": "stdout",
     "output_type": "stream",
     "text": [
      "root\n",
      " |-- employee_id: integer (nullable = true)\n",
      " |-- distinct numbers: string (nullable = false)\n",
      " |-- ssn: string (nullable = true)\n",
      " |-- area code: integer (nullable = true)\n",
      " |-- phone last 4: integer (nullable = true)\n",
      " |-- ssn last 4: integer (nullable = true)\n",
      "\n"
     ]
    }
   ],
   "source": [
    "empDF. \\\n",
    "    select('employee_id','distinct numbers','ssn'). \\\n",
    "    withColumn('area code',split('distinct numbers',' ')[1].cast('int')). \\\n",
    "    withColumn('phone last 4',split('distinct numbers',' ')[3].cast('int')). \\\n",
    "    withColumn('ssn last 4',split('ssn',' ')[2].cast('int')).printSchema()"
   ]
  },
  {
   "cell_type": "code",
   "execution_count": 17,
   "id": "97272d9d-7ded-4e48-8640-f910de132cb0",
   "metadata": {},
   "outputs": [
    {
     "name": "stdout",
     "output_type": "stream",
     "text": [
      "+-----------+----------------+-----------+---------+------------+----------+\n",
      "|employee_id|distinct numbers|ssn        |area code|phone last 4|ssn last 4|\n",
      "+-----------+----------------+-----------+---------+------------+----------+\n",
      "|1          |+1 123 456 7890 |123 45 6789|123      |7890        |6789      |\n",
      "|1          |+1 234 567 8901 |123 45 6789|234      |8901        |6789      |\n",
      "|2          |+91 234 567 8901|456 78 9123|234      |8901        |9123      |\n",
      "|3          |+44 111 111 1111|222 33 4444|111      |1111        |4444      |\n",
      "|3          |+44 222 222 2222|222 33 4444|222      |2222        |4444      |\n",
      "|4          |+61 987 654 3210|789 12 6118|987      |3210        |6118      |\n",
      "|4          |+61 876 543 2109|789 12 6118|876      |2109        |6118      |\n",
      "+-----------+----------------+-----------+---------+------------+----------+\n",
      "\n"
     ]
    }
   ],
   "source": [
    "empDF. \\\n",
    "    select('employee_id','distinct numbers','ssn'). \\\n",
    "    withColumn('area code',split('distinct numbers',' ')[1].cast('int')). \\\n",
    "    withColumn('phone last 4',split('distinct numbers',' ')[3].cast('int')). \\\n",
    "    withColumn('ssn last 4',split('ssn',' ')[2].cast('int')).show(truncate = False)"
   ]
  },
  {
   "cell_type": "code",
   "execution_count": null,
   "id": "f53503e6-a1aa-4a87-a265-ba1588973b40",
   "metadata": {},
   "outputs": [],
   "source": []
  }
 ],
 "metadata": {
  "kernelspec": {
   "display_name": "Python 3 (ipykernel)",
   "language": "python",
   "name": "python3"
  },
  "language_info": {
   "codemirror_mode": {
    "name": "ipython",
    "version": 3
   },
   "file_extension": ".py",
   "mimetype": "text/x-python",
   "name": "python",
   "nbconvert_exporter": "python",
   "pygments_lexer": "ipython3",
   "version": "3.8.10"
  }
 },
 "nbformat": 4,
 "nbformat_minor": 5
}
