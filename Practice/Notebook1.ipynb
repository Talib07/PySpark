{
 "cells": [
  {
   "cell_type": "code",
   "execution_count": 1,
   "id": "b4903c5f-6aac-44bd-99dd-65022a6ba90f",
   "metadata": {},
   "outputs": [],
   "source": [
    "from pyspark.sql import SparkSession"
   ]
  },
  {
   "cell_type": "code",
   "execution_count": 2,
   "id": "2350cabd-9959-4c52-a760-5943fc06474d",
   "metadata": {},
   "outputs": [
    {
     "name": "stderr",
     "output_type": "stream",
     "text": [
      "Setting default log level to \"WARN\".\n",
      "To adjust logging level use sc.setLogLevel(newLevel). For SparkR, use setLogLevel(newLevel).\n",
      "23/08/05 19:28:22 WARN NativeCodeLoader: Unable to load native-hadoop library for your platform... using builtin-java classes where applicable\n"
     ]
    }
   ],
   "source": [
    "spark = SparkSession.builder.appName('test').getOrCreate()"
   ]
  },
  {
   "cell_type": "code",
   "execution_count": 4,
   "id": "d6d0314a-ac0c-4d05-ae9b-4784d2072f5b",
   "metadata": {},
   "outputs": [],
   "source": [
    "df = spark.read.csv('Titanic.csv',inferSchema = True,header = True)"
   ]
  },
  {
   "cell_type": "code",
   "execution_count": 5,
   "id": "13291ed1-b750-41c7-8b6d-8b291e7dc078",
   "metadata": {},
   "outputs": [
    {
     "name": "stdout",
     "output_type": "stream",
     "text": [
      "+-----------+--------+------+--------------------+------+----+-----+-----+----------------+-------+-----+--------+\n",
      "|PassengerId|Survived|Pclass|                Name|   Sex| Age|SibSp|Parch|          Ticket|   Fare|Cabin|Embarked|\n",
      "+-----------+--------+------+--------------------+------+----+-----+-----+----------------+-------+-----+--------+\n",
      "|        892|       0|     3|    Kelly, Mr. James|  male|34.5|    0|    0|          330911| 7.8292| null|       Q|\n",
      "|        893|       1|     3|Wilkes, Mrs. Jame...|female|47.0|    1|    0|          363272|    7.0| null|       S|\n",
      "|        894|       0|     2|Myles, Mr. Thomas...|  male|62.0|    0|    0|          240276| 9.6875| null|       Q|\n",
      "|        895|       0|     3|    Wirz, Mr. Albert|  male|27.0|    0|    0|          315154| 8.6625| null|       S|\n",
      "|        896|       1|     3|Hirvonen, Mrs. Al...|female|22.0|    1|    1|         3101298|12.2875| null|       S|\n",
      "|        897|       0|     3|Svensson, Mr. Joh...|  male|14.0|    0|    0|            7538|  9.225| null|       S|\n",
      "|        898|       1|     3|Connolly, Miss. Kate|female|30.0|    0|    0|          330972| 7.6292| null|       Q|\n",
      "|        899|       0|     2|Caldwell, Mr. Alb...|  male|26.0|    1|    1|          248738|   29.0| null|       S|\n",
      "|        900|       1|     3|Abrahim, Mrs. Jos...|female|18.0|    0|    0|            2657| 7.2292| null|       C|\n",
      "|        901|       0|     3|Davies, Mr. John ...|  male|21.0|    2|    0|       A/4 48871|  24.15| null|       S|\n",
      "|        902|       0|     3|    Ilieff, Mr. Ylio|  male|null|    0|    0|          349220| 7.8958| null|       S|\n",
      "|        903|       0|     1|Jones, Mr. Charle...|  male|46.0|    0|    0|             694|   26.0| null|       S|\n",
      "|        904|       1|     1|Snyder, Mrs. John...|female|23.0|    1|    0|           21228|82.2667|  B45|       S|\n",
      "|        905|       0|     2|Howard, Mr. Benjamin|  male|63.0|    1|    0|           24065|   26.0| null|       S|\n",
      "|        906|       1|     1|Chaffee, Mrs. Her...|female|47.0|    1|    0|     W.E.P. 5734| 61.175|  E31|       S|\n",
      "|        907|       1|     2|del Carlo, Mrs. S...|female|24.0|    1|    0|   SC/PARIS 2167|27.7208| null|       C|\n",
      "|        908|       0|     2|   Keane, Mr. Daniel|  male|35.0|    0|    0|          233734|  12.35| null|       Q|\n",
      "|        909|       0|     3|   Assaf, Mr. Gerios|  male|21.0|    0|    0|            2692|  7.225| null|       C|\n",
      "|        910|       1|     3|Ilmakangas, Miss....|female|27.0|    1|    0|STON/O2. 3101270|  7.925| null|       S|\n",
      "|        911|       1|     3|\"Assaf Khalil, Mr...|female|45.0|    0|    0|            2696|  7.225| null|       C|\n",
      "+-----------+--------+------+--------------------+------+----+-----+-----+----------------+-------+-----+--------+\n",
      "only showing top 20 rows\n",
      "\n"
     ]
    }
   ],
   "source": [
    "df.show()"
   ]
  },
  {
   "cell_type": "code",
   "execution_count": 18,
   "id": "05f7f626-5383-42c3-bc24-46a4ba110bec",
   "metadata": {},
   "outputs": [],
   "source": [
    "df1 = spark.read.json('TestP.json',multiLine = True)\n"
   ]
  },
  {
   "cell_type": "code",
   "execution_count": 19,
   "id": "c13c6d2f-463b-469f-b238-51616ea1f7a5",
   "metadata": {},
   "outputs": [
    {
     "name": "stdout",
     "output_type": "stream",
     "text": [
      "+-------+------------+--------------+----------------+--------------+---------+--------------+------------+\n",
      "|assists|goals_scored|matches_played|passes_completed|        player|red_cards|          team|yellow_cards|\n",
      "+-------+------------+--------------+----------------+--------------+---------+--------------+------------+\n",
      "|      5|          12|            20|             350|    John Smith|        0|    Red Tigers|           2|\n",
      "|     10|           7|            19|             300|  Mike Johnson|        1|    Blue Lions|           3|\n",
      "|      8|           3|            18|             280|   Sarah White|        0|Green Panthers|           1|\n",
      "|      4|          15|            20|             400|   David Brown|        0| Yellow Wolves|           2|\n",
      "|      6|           9|            19|             320|   Emily Davis|        0|Purple Jaguars|           2|\n",
      "|      3|          18|            20|             390| Alex Martinez|        1| Orange Tigers|           1|\n",
      "|     12|           4|            18|             310|    Sophia Lee|        0|   Black Lions|           2|\n",
      "|      7|           6|            19|             280|Michael Garcia|        0| Gray Panthers|           0|\n",
      "|      9|          10|            20|             350|Emma Rodriguez|        0|  White Wolves|           1|\n",
      "|      6|           5|            19|             270| Daniel Thomas|        1|Silver Jaguars|           3|\n",
      "+-------+------------+--------------+----------------+--------------+---------+--------------+------------+\n",
      "\n"
     ]
    }
   ],
   "source": [
    "df1.show()"
   ]
  },
  {
   "cell_type": "code",
   "execution_count": 21,
   "id": "5d9cbc26-be99-4dcd-ae93-5e9fa8e95662",
   "metadata": {},
   "outputs": [],
   "source": [
    "airline = spark.read.text('airlines/part-00000')"
   ]
  },
  {
   "cell_type": "code",
   "execution_count": 22,
   "id": "95e6ec70-f58e-4909-9ade-40054a282cd6",
   "metadata": {},
   "outputs": [
    {
     "name": "stdout",
     "output_type": "stream",
     "text": [
      "+--------------------+\n",
      "|               value|\n",
      "+--------------------+\n",
      "|Year,Month,DayofM...|\n",
      "|1987,10,14,3,741,...|\n",
      "|1987,10,15,4,729,...|\n",
      "|1987,10,17,6,741,...|\n",
      "|1987,10,18,7,729,...|\n",
      "|1987,10,19,1,749,...|\n",
      "|1987,10,21,3,728,...|\n",
      "|1987,10,22,4,728,...|\n",
      "|1987,10,23,5,731,...|\n",
      "|1987,10,24,6,744,...|\n",
      "|1987,10,25,7,729,...|\n",
      "|1987,10,26,1,735,...|\n",
      "|1987,10,28,3,741,...|\n",
      "|1987,10,29,4,742,...|\n",
      "|1987,10,31,6,726,...|\n",
      "|1987,10,1,4,936,9...|\n",
      "|1987,10,2,5,918,9...|\n",
      "|1987,10,3,6,928,9...|\n",
      "|1987,10,4,7,914,9...|\n",
      "|1987,10,5,1,1042,...|\n",
      "+--------------------+\n",
      "only showing top 20 rows\n",
      "\n"
     ]
    }
   ],
   "source": [
    "airline.show()"
   ]
  },
  {
   "cell_type": "code",
   "execution_count": 23,
   "id": "73cd9b5f-5382-49fb-b687-9dc564af784a",
   "metadata": {},
   "outputs": [
    {
     "name": "stderr",
     "output_type": "stream",
     "text": [
      "                                                                                \r"
     ]
    }
   ],
   "source": [
    "airline1 = spark.read.csv('airlines/part-00000',header = True,inferSchema = True)"
   ]
  },
  {
   "cell_type": "code",
   "execution_count": 31,
   "id": "832a3cdc-f052-464a-97ce-c48af5de8572",
   "metadata": {},
   "outputs": [
    {
     "name": "stdout",
     "output_type": "stream",
     "text": [
      "+----+-----+----------+---------+-------+----------+-------+----------+-------------+---------+-------+-----------------+--------------+-------+--------+--------+------+----+--------+------+-------+---------+----------------+--------+------------+------------+--------+-------------+-----------------+------------+------------+\n",
      "|Year|Month|DayofMonth|DayOfWeek|DepTime|CRSDepTime|ArrTime|CRSArrTime|UniqueCarrier|FlightNum|TailNum|ActualElapsedTime|CRSElapsedTime|AirTime|ArrDelay|DepDelay|Origin|Dest|Distance|TaxiIn|TaxiOut|Cancelled|CancellationCode|Diverted|CarrierDelay|WeatherDelay|NASDelay|SecurityDelay|LateAircraftDelay|IsArrDelayed|IsDepDelayed|\n",
      "+----+-----+----------+---------+-------+----------+-------+----------+-------------+---------+-------+-----------------+--------------+-------+--------+--------+------+----+--------+------+-------+---------+----------------+--------+------------+------------+--------+-------------+-----------------+------------+------------+\n",
      "|1987|10   |14        |3        |741    |730       |912    |849       |PS           |1451     |NA     |91               |79            |NA     |23      |11      |SAN   |SFO |447     |NA    |NA     |0        |NA              |0       |NA          |NA          |NA      |NA           |NA               |YES         |YES         |\n",
      "|1987|10   |15        |4        |729    |730       |903    |849       |PS           |1451     |NA     |94               |79            |NA     |14      |-1      |SAN   |SFO |447     |NA    |NA     |0        |NA              |0       |NA          |NA          |NA      |NA           |NA               |YES         |NO          |\n",
      "|1987|10   |17        |6        |741    |730       |918    |849       |PS           |1451     |NA     |97               |79            |NA     |29      |11      |SAN   |SFO |447     |NA    |NA     |0        |NA              |0       |NA          |NA          |NA      |NA           |NA               |YES         |YES         |\n",
      "|1987|10   |18        |7        |729    |730       |847    |849       |PS           |1451     |NA     |78               |79            |NA     |-2      |-1      |SAN   |SFO |447     |NA    |NA     |0        |NA              |0       |NA          |NA          |NA      |NA           |NA               |NO          |NO          |\n",
      "|1987|10   |19        |1        |749    |730       |922    |849       |PS           |1451     |NA     |93               |79            |NA     |33      |19      |SAN   |SFO |447     |NA    |NA     |0        |NA              |0       |NA          |NA          |NA      |NA           |NA               |YES         |YES         |\n",
      "|1987|10   |21        |3        |728    |730       |848    |849       |PS           |1451     |NA     |80               |79            |NA     |-1      |-2      |SAN   |SFO |447     |NA    |NA     |0        |NA              |0       |NA          |NA          |NA      |NA           |NA               |NO          |NO          |\n",
      "|1987|10   |22        |4        |728    |730       |852    |849       |PS           |1451     |NA     |84               |79            |NA     |3       |-2      |SAN   |SFO |447     |NA    |NA     |0        |NA              |0       |NA          |NA          |NA      |NA           |NA               |YES         |NO          |\n",
      "|1987|10   |23        |5        |731    |730       |902    |849       |PS           |1451     |NA     |91               |79            |NA     |13      |1       |SAN   |SFO |447     |NA    |NA     |0        |NA              |0       |NA          |NA          |NA      |NA           |NA               |YES         |YES         |\n",
      "|1987|10   |24        |6        |744    |730       |908    |849       |PS           |1451     |NA     |84               |79            |NA     |19      |14      |SAN   |SFO |447     |NA    |NA     |0        |NA              |0       |NA          |NA          |NA      |NA           |NA               |YES         |YES         |\n",
      "|1987|10   |25        |7        |729    |730       |851    |849       |PS           |1451     |NA     |82               |79            |NA     |2       |-1      |SAN   |SFO |447     |NA    |NA     |0        |NA              |0       |NA          |NA          |NA      |NA           |NA               |YES         |NO          |\n",
      "|1987|10   |26        |1        |735    |730       |904    |849       |PS           |1451     |NA     |89               |79            |NA     |15      |5       |SAN   |SFO |447     |NA    |NA     |0        |NA              |0       |NA          |NA          |NA      |NA           |NA               |YES         |YES         |\n",
      "|1987|10   |28        |3        |741    |725       |919    |855       |PS           |1451     |NA     |98               |90            |NA     |24      |16      |SAN   |SFO |447     |NA    |NA     |0        |NA              |0       |NA          |NA          |NA      |NA           |NA               |YES         |YES         |\n",
      "|1987|10   |29        |4        |742    |725       |906    |855       |PS           |1451     |NA     |84               |90            |NA     |11      |17      |SAN   |SFO |447     |NA    |NA     |0        |NA              |0       |NA          |NA          |NA      |NA           |NA               |YES         |YES         |\n",
      "|1987|10   |31        |6        |726    |725       |848    |855       |PS           |1451     |NA     |82               |90            |NA     |-7      |1       |SAN   |SFO |447     |NA    |NA     |0        |NA              |0       |NA          |NA          |NA      |NA           |NA               |NO          |YES         |\n",
      "|1987|10   |1         |4        |936    |915       |1035   |1001      |PS           |1451     |NA     |59               |46            |NA     |34      |21      |SFO   |RNO |192     |NA    |NA     |0        |NA              |0       |NA          |NA          |NA      |NA           |NA               |YES         |YES         |\n",
      "|1987|10   |2         |5        |918    |915       |1017   |1001      |PS           |1451     |NA     |59               |46            |NA     |16      |3       |SFO   |RNO |192     |NA    |NA     |0        |NA              |0       |NA          |NA          |NA      |NA           |NA               |YES         |YES         |\n",
      "|1987|10   |3         |6        |928    |915       |1037   |1001      |PS           |1451     |NA     |69               |46            |NA     |36      |13      |SFO   |RNO |192     |NA    |NA     |0        |NA              |0       |NA          |NA          |NA      |NA           |NA               |YES         |YES         |\n",
      "|1987|10   |4         |7        |914    |915       |1003   |1001      |PS           |1451     |NA     |49               |46            |NA     |2       |-1      |SFO   |RNO |192     |NA    |NA     |0        |NA              |0       |NA          |NA          |NA      |NA           |NA               |YES         |NO          |\n",
      "|1987|10   |5         |1        |1042   |915       |1129   |1001      |PS           |1451     |NA     |47               |46            |NA     |88      |87      |SFO   |RNO |192     |NA    |NA     |0        |NA              |0       |NA          |NA          |NA      |NA           |NA               |YES         |YES         |\n",
      "|1987|10   |6         |2        |934    |915       |1024   |1001      |PS           |1451     |NA     |50               |46            |NA     |23      |19      |SFO   |RNO |192     |NA    |NA     |0        |NA              |0       |NA          |NA          |NA      |NA           |NA               |YES         |YES         |\n",
      "+----+-----+----------+---------+-------+----------+-------+----------+-------------+---------+-------+-----------------+--------------+-------+--------+--------+------+----+--------+------+-------+---------+----------------+--------+------------+------------+--------+-------------+-----------------+------------+------------+\n",
      "only showing top 20 rows\n",
      "\n"
     ]
    }
   ],
   "source": [
    "airline1.show(truncate = False)"
   ]
  },
  {
   "cell_type": "code",
   "execution_count": 32,
   "id": "bae5c429-4608-48fb-bfaf-cc8b011a8fb6",
   "metadata": {},
   "outputs": [],
   "source": [
    "schema = airline1.schema"
   ]
  },
  {
   "cell_type": "code",
   "execution_count": 33,
   "id": "23703223-1aaa-416e-a9a6-abab784f2ba3",
   "metadata": {},
   "outputs": [
    {
     "name": "stdout",
     "output_type": "stream",
     "text": [
      "StructType([StructField('Year', IntegerType(), True), StructField('Month', IntegerType(), True), StructField('DayofMonth', IntegerType(), True), StructField('DayOfWeek', IntegerType(), True), StructField('DepTime', StringType(), True), StructField('CRSDepTime', IntegerType(), True), StructField('ArrTime', StringType(), True), StructField('CRSArrTime', IntegerType(), True), StructField('UniqueCarrier', StringType(), True), StructField('FlightNum', IntegerType(), True), StructField('TailNum', StringType(), True), StructField('ActualElapsedTime', StringType(), True), StructField('CRSElapsedTime', IntegerType(), True), StructField('AirTime', StringType(), True), StructField('ArrDelay', StringType(), True), StructField('DepDelay', StringType(), True), StructField('Origin', StringType(), True), StructField('Dest', StringType(), True), StructField('Distance', StringType(), True), StructField('TaxiIn', StringType(), True), StructField('TaxiOut', StringType(), True), StructField('Cancelled', IntegerType(), True), StructField('CancellationCode', StringType(), True), StructField('Diverted', IntegerType(), True), StructField('CarrierDelay', StringType(), True), StructField('WeatherDelay', StringType(), True), StructField('NASDelay', StringType(), True), StructField('SecurityDelay', StringType(), True), StructField('LateAircraftDelay', StringType(), True), StructField('IsArrDelayed', StringType(), True), StructField('IsDepDelayed', StringType(), True)])\n"
     ]
    }
   ],
   "source": [
    "print(schema)"
   ]
  },
  {
   "cell_type": "code",
   "execution_count": 35,
   "id": "18322c8c-8213-41fd-94bf-a42cb16d48ba",
   "metadata": {},
   "outputs": [
    {
     "data": {
      "text/plain": [
       "['Year',\n",
       " 'Month',\n",
       " 'DayofMonth',\n",
       " 'DayOfWeek',\n",
       " 'DepTime',\n",
       " 'CRSDepTime',\n",
       " 'ArrTime',\n",
       " 'CRSArrTime',\n",
       " 'UniqueCarrier',\n",
       " 'FlightNum',\n",
       " 'TailNum',\n",
       " 'ActualElapsedTime',\n",
       " 'CRSElapsedTime',\n",
       " 'AirTime',\n",
       " 'ArrDelay',\n",
       " 'DepDelay',\n",
       " 'Origin',\n",
       " 'Dest',\n",
       " 'Distance',\n",
       " 'TaxiIn',\n",
       " 'TaxiOut',\n",
       " 'Cancelled',\n",
       " 'CancellationCode',\n",
       " 'Diverted',\n",
       " 'CarrierDelay',\n",
       " 'WeatherDelay',\n",
       " 'NASDelay',\n",
       " 'SecurityDelay',\n",
       " 'LateAircraftDelay',\n",
       " 'IsArrDelayed',\n",
       " 'IsDepDelayed']"
      ]
     },
     "execution_count": 35,
     "metadata": {},
     "output_type": "execute_result"
    }
   ],
   "source": [
    "airline1.columns"
   ]
  },
  {
   "cell_type": "code",
   "execution_count": 37,
   "id": "69ae6458-f543-481f-9f46-eeef55573fde",
   "metadata": {},
   "outputs": [
    {
     "name": "stdout",
     "output_type": "stream",
     "text": [
      "root\n",
      " |-- Year: integer (nullable = true)\n",
      " |-- Month: integer (nullable = true)\n",
      " |-- DayofMonth: integer (nullable = true)\n",
      " |-- DayOfWeek: integer (nullable = true)\n",
      " |-- DepTime: string (nullable = true)\n",
      " |-- CRSDepTime: integer (nullable = true)\n",
      " |-- ArrTime: string (nullable = true)\n",
      " |-- CRSArrTime: integer (nullable = true)\n",
      " |-- UniqueCarrier: string (nullable = true)\n",
      " |-- FlightNum: integer (nullable = true)\n",
      " |-- TailNum: string (nullable = true)\n",
      " |-- ActualElapsedTime: string (nullable = true)\n",
      " |-- CRSElapsedTime: integer (nullable = true)\n",
      " |-- AirTime: string (nullable = true)\n",
      " |-- ArrDelay: string (nullable = true)\n",
      " |-- DepDelay: string (nullable = true)\n",
      " |-- Origin: string (nullable = true)\n",
      " |-- Dest: string (nullable = true)\n",
      " |-- Distance: string (nullable = true)\n",
      " |-- TaxiIn: string (nullable = true)\n",
      " |-- TaxiOut: string (nullable = true)\n",
      " |-- Cancelled: integer (nullable = true)\n",
      " |-- CancellationCode: string (nullable = true)\n",
      " |-- Diverted: integer (nullable = true)\n",
      " |-- CarrierDelay: string (nullable = true)\n",
      " |-- WeatherDelay: string (nullable = true)\n",
      " |-- NASDelay: string (nullable = true)\n",
      " |-- SecurityDelay: string (nullable = true)\n",
      " |-- LateAircraftDelay: string (nullable = true)\n",
      " |-- IsArrDelayed: string (nullable = true)\n",
      " |-- IsDepDelayed: string (nullable = true)\n",
      "\n"
     ]
    }
   ],
   "source": [
    "airline1.printSchema()"
   ]
  },
  {
   "cell_type": "code",
   "execution_count": 39,
   "id": "581f196e-8224-488a-9314-12aca786edf0",
   "metadata": {},
   "outputs": [],
   "source": [
    "airline2 = spark.read.csv('airlines/part-00001',schema = schema,header = True)"
   ]
  },
  {
   "cell_type": "code",
   "execution_count": 40,
   "id": "ad647c04-99b4-4839-bc73-30cc6bedba4b",
   "metadata": {},
   "outputs": [
    {
     "name": "stderr",
     "output_type": "stream",
     "text": [
      "                                                                                \r"
     ]
    },
    {
     "data": {
      "text/plain": [
       "644477"
      ]
     },
     "execution_count": 40,
     "metadata": {},
     "output_type": "execute_result"
    }
   ],
   "source": [
    "airline2.count()"
   ]
  },
  {
   "cell_type": "code",
   "execution_count": 41,
   "id": "5e3948a0-b37b-4ec3-9f96-f63a08fe708a",
   "metadata": {},
   "outputs": [
    {
     "data": {
      "text/plain": [
       "645918"
      ]
     },
     "execution_count": 41,
     "metadata": {},
     "output_type": "execute_result"
    }
   ],
   "source": [
    "airline1.count()"
   ]
  },
  {
   "cell_type": "code",
   "execution_count": 42,
   "id": "1c8c79f9-7769-414d-90d4-f893c59b4170",
   "metadata": {},
   "outputs": [],
   "source": [
    "airlines = spark.read.csv('airlines/part-0000*',schema = schema,header = True)"
   ]
  },
  {
   "cell_type": "code",
   "execution_count": 43,
   "id": "8649109d-d311-47f6-af0a-008c688df555",
   "metadata": {},
   "outputs": [
    {
     "data": {
      "text/plain": [
       "pyspark.sql.dataframe.DataFrame"
      ]
     },
     "execution_count": 43,
     "metadata": {},
     "output_type": "execute_result"
    }
   ],
   "source": [
    "type(airlines)"
   ]
  },
  {
   "cell_type": "code",
   "execution_count": 44,
   "id": "65abf4e8-540a-442a-8430-b35575390593",
   "metadata": {},
   "outputs": [
    {
     "name": "stderr",
     "output_type": "stream",
     "text": [
      "                                                                                \r"
     ]
    },
    {
     "data": {
      "text/plain": [
       "1290395"
      ]
     },
     "execution_count": 44,
     "metadata": {},
     "output_type": "execute_result"
    }
   ],
   "source": [
    "airlines.count()"
   ]
  },
  {
   "cell_type": "code",
   "execution_count": 45,
   "id": "9306064b-c08e-4876-b715-dbf82648e10a",
   "metadata": {},
   "outputs": [
    {
     "name": "stderr",
     "output_type": "stream",
     "text": [
      "23/08/05 20:28:29 WARN CSVHeaderChecker: CSV header does not conform to the schema.\n",
      " Header: 1987, 11, 29, 7, 1239, 1224, 1430, 1423, PI, 542, NA, 111, 119, NA, 7, 15, CLT, BOS, 728, NA, NA, 0, NA, 0, NA, NA, NA, NA, NA, YES, YES\n",
      " Schema: Year, Month, DayofMonth, DayOfWeek, DepTime, CRSDepTime, ArrTime, CRSArrTime, UniqueCarrier, FlightNum, TailNum, ActualElapsedTime, CRSElapsedTime, AirTime, ArrDelay, DepDelay, Origin, Dest, Distance, TaxiIn, TaxiOut, Cancelled, CancellationCode, Diverted, CarrierDelay, WeatherDelay, NASDelay, SecurityDelay, LateAircraftDelay, IsArrDelayed, IsDepDelayed\n",
      "Expected: Year but found: 1987\n",
      "CSV file: file:///home/zedanhammadi/airlines/part-00001\n",
      "                                                                                \r"
     ]
    },
    {
     "data": {
      "text/plain": [
       "1290323"
      ]
     },
     "execution_count": 45,
     "metadata": {},
     "output_type": "execute_result"
    }
   ],
   "source": [
    "airlines.distinct().count()"
   ]
  },
  {
   "cell_type": "code",
   "execution_count": null,
   "id": "1ad79e49-f0cf-41ab-8cd7-b45b5eaed83a",
   "metadata": {},
   "outputs": [],
   "source": []
  }
 ],
 "metadata": {
  "kernelspec": {
   "display_name": "Python 3 (ipykernel)",
   "language": "python",
   "name": "python3"
  },
  "language_info": {
   "codemirror_mode": {
    "name": "ipython",
    "version": 3
   },
   "file_extension": ".py",
   "mimetype": "text/x-python",
   "name": "python",
   "nbconvert_exporter": "python",
   "pygments_lexer": "ipython3",
   "version": "3.8.10"
  }
 },
 "nbformat": 4,
 "nbformat_minor": 5
}
