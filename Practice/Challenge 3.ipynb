{
 "cells": [
  {
   "cell_type": "code",
   "execution_count": 1,
   "id": "cd0d9347-36ac-4e6d-bb32-89170fd3cf2e",
   "metadata": {},
   "outputs": [
    {
     "name": "stderr",
     "output_type": "stream",
     "text": [
      "Setting default log level to \"WARN\".\n",
      "To adjust logging level use sc.setLogLevel(newLevel). For SparkR, use setLogLevel(newLevel).\n",
      "23/08/23 18:46:34 WARN NativeCodeLoader: Unable to load native-hadoop library for your platform... using builtin-java classes where applicable\n"
     ]
    }
   ],
   "source": [
    "from pyspark.sql import SparkSession\n",
    "from pyspark.sql.functions import *\n",
    "\n",
    "spark = SparkSession.builder.appName('Challenge 3').getOrCreate()"
   ]
  },
  {
   "cell_type": "code",
   "execution_count": 2,
   "id": "3aa832c8-fca3-4a1f-838c-17b9ba5d1083",
   "metadata": {},
   "outputs": [],
   "source": [
    "path = 'airtrafficdata/airtraffic_all/airtraffic-part/flightmonth=200801'"
   ]
  },
  {
   "cell_type": "code",
   "execution_count": 3,
   "id": "f4d7a2ff-5c49-4a8c-a2ed-74a27354c965",
   "metadata": {},
   "outputs": [
    {
     "name": "stderr",
     "output_type": "stream",
     "text": [
      "                                                                                \r"
     ]
    }
   ],
   "source": [
    "airtraffic = spark.read.parquet(path)"
   ]
  },
  {
   "cell_type": "code",
   "execution_count": 4,
   "id": "bc0191fd-bcff-44af-b855-c958724a73f7",
   "metadata": {},
   "outputs": [
    {
     "name": "stdout",
     "output_type": "stream",
     "text": [
      "root\n",
      " |-- Year: integer (nullable = true)\n",
      " |-- Month: integer (nullable = true)\n",
      " |-- DayofMonth: integer (nullable = true)\n",
      " |-- DayOfWeek: integer (nullable = true)\n",
      " |-- DepTime: string (nullable = true)\n",
      " |-- CRSDepTime: integer (nullable = true)\n",
      " |-- ArrTime: string (nullable = true)\n",
      " |-- CRSArrTime: integer (nullable = true)\n",
      " |-- UniqueCarrier: string (nullable = true)\n",
      " |-- FlightNum: integer (nullable = true)\n",
      " |-- TailNum: string (nullable = true)\n",
      " |-- ActualElapsedTime: string (nullable = true)\n",
      " |-- CRSElapsedTime: integer (nullable = true)\n",
      " |-- AirTime: string (nullable = true)\n",
      " |-- ArrDelay: string (nullable = true)\n",
      " |-- DepDelay: string (nullable = true)\n",
      " |-- Origin: string (nullable = true)\n",
      " |-- Dest: string (nullable = true)\n",
      " |-- Distance: string (nullable = true)\n",
      " |-- TaxiIn: string (nullable = true)\n",
      " |-- TaxiOut: string (nullable = true)\n",
      " |-- Cancelled: integer (nullable = true)\n",
      " |-- CancellationCode: string (nullable = true)\n",
      " |-- Diverted: integer (nullable = true)\n",
      " |-- CarrierDelay: string (nullable = true)\n",
      " |-- WeatherDelay: string (nullable = true)\n",
      " |-- NASDelay: string (nullable = true)\n",
      " |-- SecurityDelay: string (nullable = true)\n",
      " |-- LateAircraftDelay: string (nullable = true)\n",
      " |-- IsArrDelayed: string (nullable = true)\n",
      " |-- IsDepDelayed: string (nullable = true)\n",
      "\n"
     ]
    }
   ],
   "source": [
    "airtraffic.printSchema()"
   ]
  },
  {
   "cell_type": "code",
   "execution_count": 20,
   "id": "9a0036d2-21b2-432f-a60e-d7a6cabc433b",
   "metadata": {},
   "outputs": [
    {
     "name": "stderr",
     "output_type": "stream",
     "text": [
      "[Stage 21:===========================================>              (3 + 1) / 4]\r"
     ]
    },
    {
     "name": "stdout",
     "output_type": "stream",
     "text": [
      "+------------+\n",
      "|IsDepDelayed|\n",
      "+------------+\n",
      "|         YES|\n",
      "|          NO|\n",
      "+------------+\n",
      "\n"
     ]
    },
    {
     "name": "stderr",
     "output_type": "stream",
     "text": [
      "                                                                                \r"
     ]
    }
   ],
   "source": [
    "airtraffic.select('IsDepDelayed').distinct().show()"
   ]
  },
  {
   "cell_type": "code",
   "execution_count": 6,
   "id": "5be58ebd-b1c9-45eb-bbde-bd10f21f0b51",
   "metadata": {},
   "outputs": [],
   "source": [
    "# Get all the flights which are departed late but arrived early or on time (IsArrDelayed is NO).\n",
    "\n",
    "# Output should contain - FlightCRSDepTime, UniqueCarrier, FlightNum, Origin, Dest, DepDelay, ArrDelay\n",
    "\n",
    "# FlightCRSDepTime need to be computed using Year, Month, DayOfMonth, CRSDepTime\n",
    "\n",
    "# FlightCRSDepTime should be displayed using yyyy-MM-dd HH:mm format.\n",
    "\n",
    "# Output should be sorted by FlightCRSDepTime and then by the difference between DepDelay and ArrDelay\n",
    "\n",
    "# Also get the count of such flights"
   ]
  },
  {
   "cell_type": "code",
   "execution_count": 30,
   "id": "cd56f29b-8247-4ff1-bacc-895ab947320b",
   "metadata": {},
   "outputs": [
    {
     "name": "stdout",
     "output_type": "stream",
     "text": [
      "+----------------+-------------+---------+------+----+--------+--------+\n",
      "|FlightCRSDepTime|UniqueCarrier|FlightNum|Origin|Dest|DepDelay|ArrDelay|\n",
      "+----------------+-------------+---------+------+----+--------+--------+\n",
      "|2008-01-01 00:55|           DL|      560|   LAX| ATL|      15|      -4|\n",
      "|2008-01-01 01:00|           AA|     2466|   SFO| DFW|       2|      -7|\n",
      "|2008-01-01 03:00|           CO|      488|   SJU| EWR|       3|     -12|\n",
      "|2008-01-01 04:00|           B6|      724|   BQN| MCO|       4|     -23|\n",
      "|2008-01-01 05:15|           XE|     2140|   SLC| IAH|       1|     -10|\n",
      "|2008-01-01 05:25|           XE|     2429|   MSP| IAH|       1|      -4|\n",
      "|2008-01-01 05:30|           XE|     2785|   BTR| IAH|       6|       0|\n",
      "|2008-01-01 05:40|           OO|     5793|   CIC| SFO|       1|      -4|\n",
      "|2008-01-01 05:40|           UA|      422|   SEA| DEN|       4|     -10|\n",
      "|2008-01-01 06:00|           DL|      970|   FLL| ATL|       2|       0|\n",
      "|2008-01-01 06:00|           AA|     1734|   SAT| DFW|       2|      -1|\n",
      "|2008-01-01 06:00|           MQ|     3191|   LAX| SJC|       2|      -3|\n",
      "|2008-01-01 06:00|           UA|     1294|   PDX| DEN|       2|      -3|\n",
      "|2008-01-01 06:00|           AA|     1157|   AUS| DFW|       1|      -6|\n",
      "|2008-01-01 06:00|           UA|      265|   ORD| DEN|       2|      -5|\n",
      "|2008-01-01 06:00|           AQ|      441|   LAS| OAK|       7|       0|\n",
      "|2008-01-01 06:00|           AA|      802|   LAX| DFW|       1|      -7|\n",
      "|2008-01-01 06:00|           EV|     4484|   DSM| ATL|       3|      -7|\n",
      "|2008-01-01 06:00|           AA|     1150|   LAS| DFW|       3|      -7|\n",
      "|2008-01-01 06:00|           OO|     1985|   MKE| ATL|       2|     -10|\n",
      "+----------------+-------------+---------+------+----+--------+--------+\n",
      "only showing top 20 rows\n",
      "\n"
     ]
    }
   ],
   "source": [
    "airtraffic. \\\n",
    "    filter((col('IsDepDelayed') == 'YES') & (col('Cancelled') == '0') & (col('IsArrDelayed') == 'NO')). \\\n",
    "    select(date_format(to_timestamp(concat(col('Year'),\n",
    "                          lpad(col('Month'),2,'0'),\n",
    "                          lpad(col('DayofMonth'),2,'0'),\n",
    "                          lpad(col('CRSDepTime'),4,'0')),'yyyyMMddHHmm'),'yyyy-MM-dd HH:mm'). \\\n",
    "           alias('FlightCRSDepTime'),'UniqueCarrier','FlightNum','Origin','Dest','DepDelay','ArrDelay'). \\\n",
    "    orderBy('FlightCRSDepTime',col('DepDelay') - col('ArrDelay')). \\\n",
    "    show()"
   ]
  },
  {
   "cell_type": "code",
   "execution_count": 31,
   "id": "8785178a-770e-4aec-9d84-56ded09b19e9",
   "metadata": {},
   "outputs": [
    {
     "data": {
      "text/plain": [
       "54233"
      ]
     },
     "execution_count": 31,
     "metadata": {},
     "output_type": "execute_result"
    }
   ],
   "source": [
    "airtraffic. \\\n",
    "    filter((col('IsDepDelayed') == 'YES') & (col('Cancelled') == '0') & (col('IsArrDelayed') == 'NO')). \\\n",
    "    select(date_format(to_timestamp(concat(col('Year'),\n",
    "                          lpad(col('Month'),2,'0'),\n",
    "                          lpad(col('DayofMonth'),2,'0'),\n",
    "                          lpad(col('CRSDepTime'),4,'0')),'yyyyMMddHHmm'),'yyyy-MM-dd HH:mm'). \\\n",
    "           alias('FlightCRSDepTime'),'UniqueCarrier','FlightNum','Origin','Dest','DepDelay','ArrDelay'). \\\n",
    "    orderBy('FlightCRSDepTime',col('DepDelay')-col('ArrDelay')). \\\n",
    "    count()"
   ]
  }
 ],
 "metadata": {
  "kernelspec": {
   "display_name": "Python 3 (ipykernel)",
   "language": "python",
   "name": "python3"
  },
  "language_info": {
   "codemirror_mode": {
    "name": "ipython",
    "version": 3
   },
   "file_extension": ".py",
   "mimetype": "text/x-python",
   "name": "python",
   "nbconvert_exporter": "python",
   "pygments_lexer": "ipython3",
   "version": "3.8.10"
  }
 },
 "nbformat": 4,
 "nbformat_minor": 5
}
