{
 "cells": [
  {
   "cell_type": "code",
   "execution_count": 2,
   "id": "17fbc8c2-8f9f-47d6-b22c-bebe1b5b6589",
   "metadata": {},
   "outputs": [],
   "source": [
    "from pyspark.sql.functions import *\n",
    "from pyspark.sql import SparkSession"
   ]
  },
  {
   "cell_type": "code",
   "execution_count": 3,
   "id": "e3dd254e-0d0f-4b38-9c50-cf42f7923677",
   "metadata": {},
   "outputs": [
    {
     "name": "stderr",
     "output_type": "stream",
     "text": [
      "Setting default log level to \"WARN\".\n",
      "To adjust logging level use sc.setLogLevel(newLevel). For SparkR, use setLogLevel(newLevel).\n",
      "23/08/15 14:25:51 WARN NativeCodeLoader: Unable to load native-hadoop library for your platform... using builtin-java classes where applicable\n",
      "23/08/15 14:25:52 WARN Utils: Service 'SparkUI' could not bind on port 4040. Attempting port 4041.\n"
     ]
    }
   ],
   "source": [
    "spark = SparkSession.builder.appName('Test').getOrCreate()"
   ]
  },
  {
   "cell_type": "code",
   "execution_count": 5,
   "id": "5ccccb01-d544-4460-9ea7-aa32abf8fc85",
   "metadata": {},
   "outputs": [],
   "source": [
    "l = [('X',)]"
   ]
  },
  {
   "cell_type": "code",
   "execution_count": 9,
   "id": "31951782-f7cc-411d-b47f-f1f638a60529",
   "metadata": {},
   "outputs": [],
   "source": [
    "df = spark.createDataFrame(l,schema = \"\"\"dummy STRING\"\"\")"
   ]
  },
  {
   "cell_type": "code",
   "execution_count": 12,
   "id": "58a834ea-ca6b-4573-9926-05c17cd99a1b",
   "metadata": {},
   "outputs": [
    {
     "name": "stdout",
     "output_type": "stream",
     "text": [
      "+----------+\n",
      "|     dummy|\n",
      "+----------+\n",
      "|-----Hello|\n",
      "+----------+\n",
      "\n"
     ]
    }
   ],
   "source": [
    "df.select(lpad(lit('Hello'),10,'-').alias('dummy')).show()"
   ]
  },
  {
   "cell_type": "code",
   "execution_count": 13,
   "id": "88802008-8de0-4ff9-9c6d-f42251ebe4a6",
   "metadata": {},
   "outputs": [],
   "source": [
    "employees = [(1, \"Scott\", \"Tiger\", 1000.0, \n",
    "                      \"united states\", \"+1 123 456 7890\", \"123 45 6789\"\n",
    "                     ),\n",
    "                     (2, \"Henry\", \"Ford\", 1250.0, \n",
    "                      \"India\", \"+91 234 567 8901\", \"456 78 9123\"\n",
    "                     ),\n",
    "                     (3, \"Nick\", \"Junior\", 750.0, \n",
    "                      \"united KINGDOM\", \"+44 111 111 1111\", \"222 33 4444\"\n",
    "                     ),\n",
    "                     (4, \"Bill\", \"Gomes\", 1500.0, \n",
    "                      \"AUSTRALIA\", \"+61 987 654 3210\", \"789 12 6118\"\n",
    "                     )\n",
    "                ]"
   ]
  },
  {
   "cell_type": "code",
   "execution_count": 14,
   "id": "840d2fa9-3a66-47c3-8e0d-335cb33e0fc2",
   "metadata": {},
   "outputs": [],
   "source": [
    "employeesDF = spark.createDataFrame(employees).toDF('emp_id','fname','lname','salary','country','phone','ssn')"
   ]
  },
  {
   "cell_type": "code",
   "execution_count": 15,
   "id": "3e1edd7d-57bf-4de7-8169-ab58bce7c4a8",
   "metadata": {},
   "outputs": [
    {
     "name": "stdout",
     "output_type": "stream",
     "text": [
      "+------+-----+------+------+--------------+----------------+-----------+\n",
      "|emp_id|fname| lname|salary|       country|           phone|        ssn|\n",
      "+------+-----+------+------+--------------+----------------+-----------+\n",
      "|     1|Scott| Tiger|1000.0| united states| +1 123 456 7890|123 45 6789|\n",
      "|     2|Henry|  Ford|1250.0|         India|+91 234 567 8901|456 78 9123|\n",
      "|     3| Nick|Junior| 750.0|united KINGDOM|+44 111 111 1111|222 33 4444|\n",
      "|     4| Bill| Gomes|1500.0|     AUSTRALIA|+61 987 654 3210|789 12 6118|\n",
      "+------+-----+------+------+--------------+----------------+-----------+\n",
      "\n"
     ]
    }
   ],
   "source": [
    "employeesDF.show()"
   ]
  },
  {
   "cell_type": "code",
   "execution_count": 16,
   "id": "931aa3b1-1efd-42df-888a-99a622ab59d5",
   "metadata": {},
   "outputs": [
    {
     "name": "stdout",
     "output_type": "stream",
     "text": [
      "root\n",
      " |-- emp_id: long (nullable = true)\n",
      " |-- fname: string (nullable = true)\n",
      " |-- lname: string (nullable = true)\n",
      " |-- salary: double (nullable = true)\n",
      " |-- country: string (nullable = true)\n",
      " |-- phone: string (nullable = true)\n",
      " |-- ssn: string (nullable = true)\n",
      "\n"
     ]
    }
   ],
   "source": [
    "employeesDF.printSchema()"
   ]
  },
  {
   "cell_type": "code",
   "execution_count": 21,
   "id": "09f76edc-9338-46f9-9186-634495015505",
   "metadata": {},
   "outputs": [],
   "source": [
    "empFixedDF = employeesDF.select(concat(lpad('emp_id',5,'-'),\n",
    "                          rpad('fname',10,'-'),\n",
    "                          rpad('lname',10,'-'),\n",
    "                          lpad(\"salary\", 10, \"0\"),\n",
    "                          rpad('country',15,'-'),\n",
    "                          rpad('phone',17,'-'),).alias('employee'))"
   ]
  },
  {
   "cell_type": "code",
   "execution_count": 22,
   "id": "f79ba0a2-ac07-4688-9832-7273a5bb2c3f",
   "metadata": {},
   "outputs": [
    {
     "name": "stdout",
     "output_type": "stream",
     "text": [
      "+-------------------------------------------------------------------+\n",
      "|employee                                                           |\n",
      "+-------------------------------------------------------------------+\n",
      "|----1Scott-----Tiger-----00001000.0united states--+1 123 456 7890--|\n",
      "|----2Henry-----Ford------00001250.0India----------+91 234 567 8901-|\n",
      "|----3Nick------Junior----00000750.0united KINGDOM-+44 111 111 1111-|\n",
      "|----4Bill------Gomes-----00001500.0AUSTRALIA------+61 987 654 3210-|\n",
      "+-------------------------------------------------------------------+\n",
      "\n"
     ]
    }
   ],
   "source": [
    "empFixedDF.show(truncate = False)"
   ]
  },
  {
   "cell_type": "code",
   "execution_count": null,
   "id": "ff116f80-3cd5-4ab2-be90-b9caec5824ac",
   "metadata": {},
   "outputs": [],
   "source": []
  }
 ],
 "metadata": {
  "kernelspec": {
   "display_name": "Python 3 (ipykernel)",
   "language": "python",
   "name": "python3"
  },
  "language_info": {
   "codemirror_mode": {
    "name": "ipython",
    "version": 3
   },
   "file_extension": ".py",
   "mimetype": "text/x-python",
   "name": "python",
   "nbconvert_exporter": "python",
   "pygments_lexer": "ipython3",
   "version": "3.8.10"
  }
 },
 "nbformat": 4,
 "nbformat_minor": 5
}
