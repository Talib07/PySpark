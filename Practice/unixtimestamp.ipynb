{
 "cells": [
  {
   "cell_type": "code",
   "execution_count": 1,
   "id": "bfa0fdd7-662b-4197-a70f-7be7a8639405",
   "metadata": {},
   "outputs": [],
   "source": [
    "from pyspark.sql.functions import *\n",
    "from pyspark.sql import SparkSession"
   ]
  },
  {
   "cell_type": "code",
   "execution_count": 2,
   "id": "9e700e18-c96e-47c5-82d3-c8f747b7cad4",
   "metadata": {},
   "outputs": [
    {
     "name": "stderr",
     "output_type": "stream",
     "text": [
      "Setting default log level to \"WARN\".\n",
      "To adjust logging level use sc.setLogLevel(newLevel). For SparkR, use setLogLevel(newLevel).\n",
      "23/08/18 15:21:14 WARN NativeCodeLoader: Unable to load native-hadoop library for your platform... using builtin-java classes where applicable\n"
     ]
    }
   ],
   "source": [
    "spark = SparkSession.builder.appName('Test').getOrCreate()"
   ]
  },
  {
   "cell_type": "code",
   "execution_count": 3,
   "id": "b2d8fc72-f780-49f3-9543-63d40b375295",
   "metadata": {},
   "outputs": [],
   "source": [
    "l = [(\"X\",)]"
   ]
  },
  {
   "cell_type": "code",
   "execution_count": 5,
   "id": "c3434a82-2484-4379-a7a4-146ec0b76685",
   "metadata": {},
   "outputs": [],
   "source": [
    "df = spark.createDataFrame(l).toDF('dummy')"
   ]
  },
  {
   "cell_type": "code",
   "execution_count": 6,
   "id": "faa68c58-1462-4147-a831-72c9c5f6cf11",
   "metadata": {},
   "outputs": [
    {
     "name": "stderr",
     "output_type": "stream",
     "text": [
      "                                                                                \r"
     ]
    },
    {
     "name": "stdout",
     "output_type": "stream",
     "text": [
      "+-----+\n",
      "|dummy|\n",
      "+-----+\n",
      "|    X|\n",
      "+-----+\n",
      "\n"
     ]
    }
   ],
   "source": [
    "df.show()"
   ]
  },
  {
   "cell_type": "code",
   "execution_count": 7,
   "id": "9d92ec39-cb6d-4003-a546-a48c7f6914a2",
   "metadata": {},
   "outputs": [
    {
     "name": "stdout",
     "output_type": "stream",
     "text": [
      "root\n",
      " |-- dummy: string (nullable = true)\n",
      "\n"
     ]
    }
   ],
   "source": [
    "df.printSchema()"
   ]
  },
  {
   "cell_type": "code",
   "execution_count": 8,
   "id": "6dc5f5e4-ce72-4b4b-a72d-9f368ecf05fa",
   "metadata": {},
   "outputs": [],
   "source": [
    "datetimes = [(20140228, \"2014-02-28\", \"2014-02-28 10:00:00.123\"),\n",
    "                     (20160229, \"2016-02-29\", \"2016-02-29 08:08:08.999\"),\n",
    "                     (20171031, \"2017-10-31\", \"2017-12-31 11:59:59.123\"),\n",
    "                     (20191130, \"2019-11-30\", \"2019-08-31 00:00:00.000\")\n",
    "                ]"
   ]
  },
  {
   "cell_type": "code",
   "execution_count": 12,
   "id": "a32c26b7-18f4-49fe-b623-cda380304977",
   "metadata": {},
   "outputs": [],
   "source": [
    "datetimeDF = spark.createDataFrame(datetimes).toDF('dateid','date','time')"
   ]
  },
  {
   "cell_type": "code",
   "execution_count": 14,
   "id": "26ce7371-18f3-4cd2-89f3-4d8478d6b85c",
   "metadata": {},
   "outputs": [
    {
     "name": "stdout",
     "output_type": "stream",
     "text": [
      "+--------+----------+-----------------------+\n",
      "|dateid  |date      |time                   |\n",
      "+--------+----------+-----------------------+\n",
      "|20140228|2014-02-28|2014-02-28 10:00:00.123|\n",
      "|20160229|2016-02-29|2016-02-29 08:08:08.999|\n",
      "|20171031|2017-10-31|2017-12-31 11:59:59.123|\n",
      "|20191130|2019-11-30|2019-08-31 00:00:00.000|\n",
      "+--------+----------+-----------------------+\n",
      "\n"
     ]
    }
   ],
   "source": [
    "datetimeDF.show(truncate = False)"
   ]
  },
  {
   "cell_type": "code",
   "execution_count": 20,
   "id": "c0a6840e-5331-4cb1-9b7c-c9133941c790",
   "metadata": {},
   "outputs": [
    {
     "name": "stdout",
     "output_type": "stream",
     "text": [
      "+--------+----------+--------------------+------------+----------+\n",
      "|  dateid|      date|                time|unix_date_id| unix_date|\n",
      "+--------+----------+--------------------+------------+----------+\n",
      "|20140228|2014-02-28|2014-02-28 10:00:...|  1393545600|1393545600|\n",
      "|20160229|2016-02-29|2016-02-29 08:08:...|  1456704000|1456704000|\n",
      "|20171031|2017-10-31|2017-12-31 11:59:...|  1509408000|1509408000|\n",
      "|20191130|2019-11-30|2019-08-31 00:00:...|  1575072000|1575072000|\n",
      "+--------+----------+--------------------+------------+----------+\n",
      "\n"
     ]
    }
   ],
   "source": [
    "datetimeDF. \\\n",
    "    withColumn(\"unix_date_id\", unix_timestamp(col(\"dateid\").cast(\"string\"), \"yyyyMMdd\")). \\\n",
    "    withColumn(\"unix_date\", unix_timestamp(\"date\", \"yyyy-MM-dd\")). \\\n",
    "    show()"
   ]
  },
  {
   "cell_type": "code",
   "execution_count": 21,
   "id": "ef9ed1d6-520a-41de-8316-8d4eea6d69ef",
   "metadata": {},
   "outputs": [],
   "source": [
    "unixtimes = [(1393561800, ),\n",
    "             (1456713488, ),\n",
    "             (1514701799, ),\n",
    "             (1567189800, )\n",
    "            ]"
   ]
  },
  {
   "cell_type": "code",
   "execution_count": 26,
   "id": "62a17ef7-dd3d-4633-bfc3-67b196a1aff3",
   "metadata": {},
   "outputs": [],
   "source": [
    "unixtimesDF = spark.createDataFrame(unixtimes).toDF('unixtime')"
   ]
  },
  {
   "cell_type": "code",
   "execution_count": 27,
   "id": "f1ba4aa5-dcf1-42f7-a863-d9bc8480426a",
   "metadata": {},
   "outputs": [
    {
     "name": "stdout",
     "output_type": "stream",
     "text": [
      "+----------+\n",
      "|  unixtime|\n",
      "+----------+\n",
      "|1393561800|\n",
      "|1456713488|\n",
      "|1514701799|\n",
      "|1567189800|\n",
      "+----------+\n",
      "\n"
     ]
    }
   ],
   "source": [
    "unixtimesDF.show()"
   ]
  },
  {
   "cell_type": "code",
   "execution_count": 28,
   "id": "48f7a437-2c3b-4d08-aaf2-a60ab04154eb",
   "metadata": {},
   "outputs": [
    {
     "name": "stdout",
     "output_type": "stream",
     "text": [
      "+----------+--------+-------------------+\n",
      "|  unixtime|    date|               time|\n",
      "+----------+--------+-------------------+\n",
      "|1393561800|20140228|2014-02-28 04:30:00|\n",
      "|1456713488|20160229|2016-02-29 02:38:08|\n",
      "|1514701799|20171231|2017-12-31 06:29:59|\n",
      "|1567189800|20190830|2019-08-30 18:30:00|\n",
      "+----------+--------+-------------------+\n",
      "\n"
     ]
    }
   ],
   "source": [
    "unixtimesDF. \\\n",
    "    withColumn(\"date\", from_unixtime(\"unixtime\", \"yyyyMMdd\")). \\\n",
    "    withColumn(\"time\", from_unixtime(\"unixtime\")). \\\n",
    "    show()\n",
    "#yyyyMMdd"
   ]
  },
  {
   "cell_type": "code",
   "execution_count": null,
   "id": "8c563d58-a41e-4eac-a013-faacf36b000f",
   "metadata": {},
   "outputs": [],
   "source": []
  }
 ],
 "metadata": {
  "kernelspec": {
   "display_name": "Python 3 (ipykernel)",
   "language": "python",
   "name": "python3"
  },
  "language_info": {
   "codemirror_mode": {
    "name": "ipython",
    "version": 3
   },
   "file_extension": ".py",
   "mimetype": "text/x-python",
   "name": "python",
   "nbconvert_exporter": "python",
   "pygments_lexer": "ipython3",
   "version": "3.8.10"
  }
 },
 "nbformat": 4,
 "nbformat_minor": 5
}
