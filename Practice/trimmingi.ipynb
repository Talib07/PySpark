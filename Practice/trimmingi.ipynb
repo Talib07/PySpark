{
 "cells": [
  {
   "cell_type": "code",
   "execution_count": 1,
   "id": "75b3dacf-2036-4888-9011-c34f2c8e5506",
   "metadata": {},
   "outputs": [],
   "source": [
    "from pyspark.sql.functions import *\n",
    "from pyspark.sql import SparkSession"
   ]
  },
  {
   "cell_type": "code",
   "execution_count": 2,
   "id": "228cc6fa-4f0c-4651-b8be-f27cd588cc07",
   "metadata": {},
   "outputs": [
    {
     "name": "stderr",
     "output_type": "stream",
     "text": [
      "Setting default log level to \"WARN\".\n",
      "To adjust logging level use sc.setLogLevel(newLevel). For SparkR, use setLogLevel(newLevel).\n",
      "23/08/15 14:51:58 WARN NativeCodeLoader: Unable to load native-hadoop library for your platform... using builtin-java classes where applicable\n",
      "23/08/15 14:51:59 WARN Utils: Service 'SparkUI' could not bind on port 4040. Attempting port 4041.\n",
      "23/08/15 14:51:59 WARN Utils: Service 'SparkUI' could not bind on port 4041. Attempting port 4042.\n"
     ]
    }
   ],
   "source": [
    "spark = SparkSession.builder.appName('Test').getOrCreate()"
   ]
  },
  {
   "cell_type": "code",
   "execution_count": 10,
   "id": "bf49b1e9-ce4c-4365-b625-9dd33dae85e4",
   "metadata": {},
   "outputs": [],
   "source": [
    "l = [(\"            Hello.            \",)]"
   ]
  },
  {
   "cell_type": "code",
   "execution_count": 11,
   "id": "afb6e4d4-f130-421c-9b3f-b5f4cdcc04b6",
   "metadata": {},
   "outputs": [],
   "source": [
    "df = spark.createDataFrame(l).toDF('dummy')"
   ]
  },
  {
   "cell_type": "code",
   "execution_count": 12,
   "id": "bbc452de-18c8-4b77-875e-b04e941a11fb",
   "metadata": {},
   "outputs": [
    {
     "name": "stdout",
     "output_type": "stream",
     "text": [
      "+------------------------------+\n",
      "|dummy                         |\n",
      "+------------------------------+\n",
      "|            Hello.            |\n",
      "+------------------------------+\n",
      "\n"
     ]
    }
   ],
   "source": [
    "df.show(truncate = False)"
   ]
  },
  {
   "cell_type": "code",
   "execution_count": 13,
   "id": "c58a2f90-b89d-4763-aa73-03407dbc5374",
   "metadata": {},
   "outputs": [
    {
     "name": "stdout",
     "output_type": "stream",
     "text": [
      "root\n",
      " |-- dummy: string (nullable = true)\n",
      "\n"
     ]
    }
   ],
   "source": [
    "df.printSchema()"
   ]
  },
  {
   "cell_type": "code",
   "execution_count": 16,
   "id": "a47a92ce-3562-4556-a9e2-5157535ae572",
   "metadata": {},
   "outputs": [
    {
     "name": "stdout",
     "output_type": "stream",
     "text": [
      "+------------------------------+------------------+------------------+------+\n",
      "|dummy                         |ltrim             |rtrim             |trim  |\n",
      "+------------------------------+------------------+------------------+------+\n",
      "|            Hello.            |Hello.            |            Hello.|Hello.|\n",
      "+------------------------------+------------------+------------------+------+\n",
      "\n"
     ]
    }
   ],
   "source": [
    "df.withColumn('ltrim',ltrim(\"dummy\")). \\\n",
    "withColumn('rtrim',rtrim(\"dummy\")). \\\n",
    "withColumn('trim',trim(\"dummy\")). \\\n",
    "show(truncate = False)"
   ]
  },
  {
   "cell_type": "code",
   "execution_count": 17,
   "id": "0cda64f1-9476-4684-ab49-3040bac2c097",
   "metadata": {},
   "outputs": [
    {
     "name": "stderr",
     "output_type": "stream",
     "text": [
      "23/08/15 15:00:02 WARN Analyzer$ResolveFunctions: Two-parameter TRIM/LTRIM/RTRIM function signatures are deprecated. Use SQL syntax `TRIM((BOTH | LEADING | TRAILING)? trimStr FROM str)` instead.\n"
     ]
    },
    {
     "name": "stdout",
     "output_type": "stream",
     "text": [
      "+--------------------+------------------+-----------------+------+\n",
      "|               dummy|             ltrim|            rtrim|  trim|\n",
      "+--------------------+------------------+-----------------+------+\n",
      "|            Hello...|Hello.            |            Hello|Hello.|\n",
      "+--------------------+------------------+-----------------+------+\n",
      "\n"
     ]
    }
   ],
   "source": [
    "# if we do not specify trimStr, it will be defaulted to space\n",
    "df.withColumn(\"ltrim\", expr(\"ltrim(dummy)\")). \\\n",
    "  withColumn(\"rtrim\", expr(\"rtrim('.', rtrim(dummy))\")). \\\n",
    "  withColumn(\"trim\", trim(col(\"dummy\"))). \\\n",
    "  show()"
   ]
  },
  {
   "cell_type": "code",
   "execution_count": 18,
   "id": "47117b8d-9366-486a-b3a5-aacba1bc731b",
   "metadata": {},
   "outputs": [
    {
     "name": "stdout",
     "output_type": "stream",
     "text": [
      "+--------------------+------------------+-----------------+------+\n",
      "|               dummy|             ltrim|            rtrim|  trim|\n",
      "+--------------------+------------------+-----------------+------+\n",
      "|            Hello...|Hello.            |            Hello|Hello.|\n",
      "+--------------------+------------------+-----------------+------+\n",
      "\n"
     ]
    }
   ],
   "source": [
    "df.withColumn(\"ltrim\", expr(\"trim(LEADING ' ' FROM dummy)\")). \\\n",
    "  withColumn(\"rtrim\", expr(\"trim(TRAILING '.' FROM rtrim(dummy))\")). \\\n",
    "  withColumn(\"trim\", expr(\"trim(BOTH ' ' FROM dummy)\")). \\\n",
    "  show()"
   ]
  },
  {
   "cell_type": "code",
   "execution_count": null,
   "id": "7ed7556d-0491-4a38-8e11-4f6835d1d120",
   "metadata": {},
   "outputs": [],
   "source": []
  }
 ],
 "metadata": {
  "kernelspec": {
   "display_name": "Python 3 (ipykernel)",
   "language": "python",
   "name": "python3"
  },
  "language_info": {
   "codemirror_mode": {
    "name": "ipython",
    "version": 3
   },
   "file_extension": ".py",
   "mimetype": "text/x-python",
   "name": "python",
   "nbconvert_exporter": "python",
   "pygments_lexer": "ipython3",
   "version": "3.8.10"
  }
 },
 "nbformat": 4,
 "nbformat_minor": 5
}
