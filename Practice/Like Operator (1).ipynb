{
 "cells": [
  {
   "cell_type": "code",
   "execution_count": 1,
   "id": "074f1662-20a2-437b-939a-30a540662857",
   "metadata": {},
   "outputs": [],
   "source": [
    "from pyspark.sql import SparkSession\n",
    "from pyspark.sql.functions import *"
   ]
  },
  {
   "cell_type": "code",
   "execution_count": 2,
   "id": "87a9c9e6-e5e3-416a-a713-958d6c80c64c",
   "metadata": {},
   "outputs": [
    {
     "name": "stderr",
     "output_type": "stream",
     "text": [
      "Setting default log level to \"WARN\".\n",
      "To adjust logging level use sc.setLogLevel(newLevel). For SparkR, use setLogLevel(newLevel).\n",
      "23/08/22 02:10:39 WARN NativeCodeLoader: Unable to load native-hadoop library for your platform... using builtin-java classes where applicable\n"
     ]
    }
   ],
   "source": [
    "spark = SparkSession.builder.appName('Test').getOrCreate()"
   ]
  },
  {
   "cell_type": "code",
   "execution_count": 3,
   "id": "2c82b7c4-20b2-4661-b5fd-3fe1c918ee4f",
   "metadata": {},
   "outputs": [],
   "source": [
    "employees = [(1, \"Scott\", \"Tiger\", 1000.0, 10,\n",
    "                      \"united states\", \"+1 123 456 7890\", \"123 45 6789\"\n",
    "                     ),\n",
    "                     (2, \"Henry\", \"Ford\", 1250.0, None,\n",
    "                      \"India\", \"+91 234 567 8901\", \"456 78 9123\"\n",
    "                     ),\n",
    "                     (3, \"Nick\", \"Junior\", 750.0, '',\n",
    "                      \"united KINGDOM\", \"+44 111 111 1111\", \"222 33 4444\"\n",
    "                     ),\n",
    "                     (4, \"Bill\", \"Gomes\", 1500.0, 10,\n",
    "                      \"AUSTRALIA\", \"+61 987 654 3210\", \"789 12 6118\"\n",
    "                     )\n",
    "                ]"
   ]
  },
  {
   "cell_type": "code",
   "execution_count": 8,
   "id": "f2979506-c0a1-48b0-b078-cee2592b8e52",
   "metadata": {},
   "outputs": [],
   "source": [
    "employeesDF = spark.createDataFrame(employees). \\\n",
    "    toDF('id','first_name','last_name','salary','bonus','nationality','phone_number','ssn')"
   ]
  },
  {
   "cell_type": "code",
   "execution_count": 9,
   "id": "46916f09-dec5-4713-a6fe-34e8732bd6a3",
   "metadata": {},
   "outputs": [
    {
     "name": "stderr",
     "output_type": "stream",
     "text": [
      "                                                                                \r"
     ]
    },
    {
     "name": "stdout",
     "output_type": "stream",
     "text": [
      "+---+----------+---------+------+-----+--------------+----------------+-----------+\n",
      "| id|first_name|last_name|salary|bonus|   nationality|    phone_number|        ssn|\n",
      "+---+----------+---------+------+-----+--------------+----------------+-----------+\n",
      "|  1|     Scott|    Tiger|1000.0|   10| united states| +1 123 456 7890|123 45 6789|\n",
      "|  2|     Henry|     Ford|1250.0| null|         India|+91 234 567 8901|456 78 9123|\n",
      "|  3|      Nick|   Junior| 750.0|     |united KINGDOM|+44 111 111 1111|222 33 4444|\n",
      "|  4|      Bill|    Gomes|1500.0|   10|     AUSTRALIA|+61 987 654 3210|789 12 6118|\n",
      "+---+----------+---------+------+-----+--------------+----------------+-----------+\n",
      "\n"
     ]
    }
   ],
   "source": [
    "employeesDF.show()"
   ]
  },
  {
   "cell_type": "code",
   "execution_count": 10,
   "id": "5d3c63e8-1d33-4cbf-96aa-3bef42f5ac15",
   "metadata": {},
   "outputs": [
    {
     "name": "stdout",
     "output_type": "stream",
     "text": [
      "root\n",
      " |-- id: long (nullable = true)\n",
      " |-- first_name: string (nullable = true)\n",
      " |-- last_name: string (nullable = true)\n",
      " |-- salary: double (nullable = true)\n",
      " |-- bonus: string (nullable = true)\n",
      " |-- nationality: string (nullable = true)\n",
      " |-- phone_number: string (nullable = true)\n",
      " |-- ssn: string (nullable = true)\n",
      "\n"
     ]
    }
   ],
   "source": [
    "employeesDF.printSchema()"
   ]
  },
  {
   "cell_type": "code",
   "execution_count": 11,
   "id": "9a07971d-1b2e-4d80-898f-cb6cfcdd1d24",
   "metadata": {},
   "outputs": [
    {
     "name": "stdout",
     "output_type": "stream",
     "text": [
      "+---+----------+---------+------+-----+-------------+---------------+-----------+\n",
      "| id|first_name|last_name|salary|bonus|  nationality|   phone_number|        ssn|\n",
      "+---+----------+---------+------+-----+-------------+---------------+-----------+\n",
      "|  1|     Scott|    Tiger|1000.0|   10|united states|+1 123 456 7890|123 45 6789|\n",
      "+---+----------+---------+------+-----+-------------+---------------+-----------+\n",
      "\n"
     ]
    }
   ],
   "source": [
    "employeedDF.filter(\"first_name like 'Sco%'\").show()"
   ]
  },
  {
   "cell_type": "code",
   "execution_count": 12,
   "id": "7e613592-19f7-436c-ab2a-07247252543b",
   "metadata": {},
   "outputs": [
    {
     "name": "stdout",
     "output_type": "stream",
     "text": [
      "+---+----------+---------+------+-----+-------------+---------------+-----------+\n",
      "| id|first_name|last_name|salary|bonus|  nationality|   phone_number|        ssn|\n",
      "+---+----------+---------+------+-----+-------------+---------------+-----------+\n",
      "|  1|     Scott|    Tiger|1000.0|   10|united states|+1 123 456 7890|123 45 6789|\n",
      "+---+----------+---------+------+-----+-------------+---------------+-----------+\n",
      "\n"
     ]
    }
   ],
   "source": [
    "employeedDF.filter(\"upper(first_name) like 'SCO%'\").show()"
   ]
  },
  {
   "cell_type": "code",
   "execution_count": 13,
   "id": "1891cb53-5015-4d39-892e-80503ef2870e",
   "metadata": {},
   "outputs": [
    {
     "name": "stdout",
     "output_type": "stream",
     "text": [
      "+---+----------+---------+------+-----+-------------+---------------+-----------+\n",
      "| id|first_name|last_name|salary|bonus|  nationality|   phone_number|        ssn|\n",
      "+---+----------+---------+------+-----+-------------+---------------+-----------+\n",
      "|  1|     Scott|    Tiger|1000.0|   10|united states|+1 123 456 7890|123 45 6789|\n",
      "+---+----------+---------+------+-----+-------------+---------------+-----------+\n",
      "\n"
     ]
    }
   ],
   "source": [
    "employeedDF.filter(col('first_name').like('Sco%')).show()"
   ]
  },
  {
   "cell_type": "code",
   "execution_count": 15,
   "id": "fa5e34dd-7c6d-4c8c-9002-f60512758f11",
   "metadata": {},
   "outputs": [
    {
     "name": "stdout",
     "output_type": "stream",
     "text": [
      "+---+----------+---------+------+-----+-------------+---------------+-----------+\n",
      "| id|first_name|last_name|salary|bonus|  nationality|   phone_number|        ssn|\n",
      "+---+----------+---------+------+-----+-------------+---------------+-----------+\n",
      "|  1|     Scott|    Tiger|1000.0|   10|united states|+1 123 456 7890|123 45 6789|\n",
      "+---+----------+---------+------+-----+-------------+---------------+-----------+\n",
      "\n"
     ]
    }
   ],
   "source": [
    "employeedDF.filter(upper(col('first_name')).like('SCO%')).show()"
   ]
  },
  {
   "cell_type": "code",
   "execution_count": 19,
   "id": "70219e10-a3a4-4bfa-90fe-0fb10b6512e4",
   "metadata": {},
   "outputs": [
    {
     "name": "stdout",
     "output_type": "stream",
     "text": [
      "+---+----------+---------+------+-----+-------------+---------------+-----------+\n",
      "| id|first_name|last_name|salary|bonus|  nationality|   phone_number|        ssn|\n",
      "+---+----------+---------+------+-----+-------------+---------------+-----------+\n",
      "|  1|     Scott|    Tiger|1000.0|   10|united states|+1 123 456 7890|123 45 6789|\n",
      "+---+----------+---------+------+-----+-------------+---------------+-----------+\n",
      "\n"
     ]
    }
   ],
   "source": [
    "employeesDF.filter(col('first_name').like('%ott%')).show()"
   ]
  },
  {
   "cell_type": "code",
   "execution_count": 20,
   "id": "0de0eb82-fa71-407e-ad35-f9c601477f34",
   "metadata": {},
   "outputs": [
    {
     "name": "stdout",
     "output_type": "stream",
     "text": [
      "+---+----------+---------+------+-----+-------------+----------------+-----------+\n",
      "| id|first_name|last_name|salary|bonus|  nationality|    phone_number|        ssn|\n",
      "+---+----------+---------+------+-----+-------------+----------------+-----------+\n",
      "|  1|     Scott|    Tiger|1000.0|   10|united states| +1 123 456 7890|123 45 6789|\n",
      "|  2|     Henry|     Ford|1250.0| null|        India|+91 234 567 8901|456 78 9123|\n",
      "|  4|      Bill|    Gomes|1500.0|   10|    AUSTRALIA|+61 987 654 3210|789 12 6118|\n",
      "+---+----------+---------+------+-----+-------------+----------------+-----------+\n",
      "\n"
     ]
    }
   ],
   "source": [
    "employeesDF.filter(~col('phone_number').like('+44%')).show()"
   ]
  },
  {
   "cell_type": "code",
   "execution_count": null,
   "id": "17295a37-fabd-4d9a-a186-3a5d0f5a3a80",
   "metadata": {},
   "outputs": [],
   "source": []
  }
 ],
 "metadata": {
  "kernelspec": {
   "display_name": "Python 3 (ipykernel)",
   "language": "python",
   "name": "python3"
  },
  "language_info": {
   "codemirror_mode": {
    "name": "ipython",
    "version": 3
   },
   "file_extension": ".py",
   "mimetype": "text/x-python",
   "name": "python",
   "nbconvert_exporter": "python",
   "pygments_lexer": "ipython3",
   "version": "3.8.10"
  }
 },
 "nbformat": 4,
 "nbformat_minor": 5
}
