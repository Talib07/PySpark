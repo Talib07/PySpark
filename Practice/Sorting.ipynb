{
 "cells": [
  {
   "cell_type": "code",
   "execution_count": 1,
   "id": "51954a65-2216-4a46-9ef8-a643bb94514c",
   "metadata": {},
   "outputs": [
    {
     "name": "stderr",
     "output_type": "stream",
     "text": [
      "Setting default log level to \"WARN\".\n",
      "To adjust logging level use sc.setLogLevel(newLevel). For SparkR, use setLogLevel(newLevel).\n",
      "23/08/23 12:51:58 WARN NativeCodeLoader: Unable to load native-hadoop library for your platform... using builtin-java classes where applicable\n"
     ]
    }
   ],
   "source": [
    "from pyspark.sql import SparkSession\n",
    "from pyspark.sql.functions import *\n",
    "\n",
    "spark = SparkSession.builder.appName('Test').getOrCreate()"
   ]
  },
  {
   "cell_type": "code",
   "execution_count": 2,
   "id": "64794b5a-3172-4557-8477-6d64d9b7749a",
   "metadata": {},
   "outputs": [],
   "source": [
    "path = 'airtrafficdata/airtraffic_all/airtraffic-part/flightmonth=200801/part-00252-5cde1303-4ebf-4a12-8fad-f5d9f9c9124a-Copy1.c000.snappy.parquet'"
   ]
  },
  {
   "cell_type": "code",
   "execution_count": 3,
   "id": "66b65086-d81e-4532-80fd-7ff07d212831",
   "metadata": {},
   "outputs": [
    {
     "name": "stderr",
     "output_type": "stream",
     "text": [
      "                                                                                \r"
     ]
    }
   ],
   "source": [
    "airtraffic = spark.read.parquet(path)"
   ]
  },
  {
   "cell_type": "code",
   "execution_count": 4,
   "id": "2f433be0-d1cd-4045-96bb-6340b30be37a",
   "metadata": {},
   "outputs": [
    {
     "name": "stdout",
     "output_type": "stream",
     "text": [
      "root\n",
      " |-- Year: integer (nullable = true)\n",
      " |-- Month: integer (nullable = true)\n",
      " |-- DayofMonth: integer (nullable = true)\n",
      " |-- DayOfWeek: integer (nullable = true)\n",
      " |-- DepTime: string (nullable = true)\n",
      " |-- CRSDepTime: integer (nullable = true)\n",
      " |-- ArrTime: string (nullable = true)\n",
      " |-- CRSArrTime: integer (nullable = true)\n",
      " |-- UniqueCarrier: string (nullable = true)\n",
      " |-- FlightNum: integer (nullable = true)\n",
      " |-- TailNum: string (nullable = true)\n",
      " |-- ActualElapsedTime: string (nullable = true)\n",
      " |-- CRSElapsedTime: integer (nullable = true)\n",
      " |-- AirTime: string (nullable = true)\n",
      " |-- ArrDelay: string (nullable = true)\n",
      " |-- DepDelay: string (nullable = true)\n",
      " |-- Origin: string (nullable = true)\n",
      " |-- Dest: string (nullable = true)\n",
      " |-- Distance: string (nullable = true)\n",
      " |-- TaxiIn: string (nullable = true)\n",
      " |-- TaxiOut: string (nullable = true)\n",
      " |-- Cancelled: integer (nullable = true)\n",
      " |-- CancellationCode: string (nullable = true)\n",
      " |-- Diverted: integer (nullable = true)\n",
      " |-- CarrierDelay: string (nullable = true)\n",
      " |-- WeatherDelay: string (nullable = true)\n",
      " |-- NASDelay: string (nullable = true)\n",
      " |-- SecurityDelay: string (nullable = true)\n",
      " |-- LateAircraftDelay: string (nullable = true)\n",
      " |-- IsArrDelayed: string (nullable = true)\n",
      " |-- IsDepDelayed: string (nullable = true)\n",
      "\n"
     ]
    }
   ],
   "source": [
    "airtraffic.printSchema()"
   ]
  },
  {
   "cell_type": "code",
   "execution_count": 5,
   "id": "f606779d-8a29-4d13-8ea8-a97cebeddd6e",
   "metadata": {},
   "outputs": [],
   "source": [
    "# Get daily count of cancelled flights where data is sorted in ascending order by count of cancelled flights."
   ]
  },
  {
   "cell_type": "code",
   "execution_count": 6,
   "id": "4bd65b0e-a648-4557-8ffe-63ff72a0e75a",
   "metadata": {},
   "outputs": [
    {
     "name": "stderr",
     "output_type": "stream",
     "text": [
      "[Stage 1:============================================>              (3 + 1) / 4]\r"
     ]
    },
    {
     "name": "stdout",
     "output_type": "stream",
     "text": [
      "+--------+---------------+\n",
      "|    Date|Cancelled Count|\n",
      "+--------+---------------+\n",
      "|20080112|            226|\n",
      "|20080118|            230|\n",
      "|20080120|            247|\n",
      "|20080115|            299|\n",
      "|20080124|            322|\n",
      "|20080110|            341|\n",
      "|20080113|            359|\n",
      "|20080109|            377|\n",
      "|20080126|            416|\n",
      "|20080105|            456|\n",
      "|20080108|            463|\n",
      "|20080103|            475|\n",
      "|20080121|            475|\n",
      "|20080102|            511|\n",
      "|20080111|            524|\n",
      "|20080125|            526|\n",
      "|20080123|            530|\n",
      "|20080116|            532|\n",
      "|20080101|            552|\n",
      "|20080107|            579|\n",
      "|20080127|            638|\n",
      "|20080128|            654|\n",
      "|20080106|            683|\n",
      "|20080130|            694|\n",
      "|20080104|            769|\n",
      "|20080122|            788|\n",
      "|20080117|            872|\n",
      "|20080119|            876|\n",
      "|20080129|            889|\n",
      "|20080114|            909|\n",
      "|20080131|           1081|\n",
      "+--------+---------------+\n",
      "\n"
     ]
    },
    {
     "name": "stderr",
     "output_type": "stream",
     "text": [
      "                                                                                \r"
     ]
    }
   ],
   "source": [
    "airtraffic.filter(col('Cancelled')==1). \\\n",
    "    groupby(concat(col('Year'),lpad(col('Month'),2,'0'),lpad(col('DayofMonth'),2,'0')).alias('Date')). \\\n",
    "    agg(count(lit('1')).alias('Cancelled Count')).orderBy('Cancelled Count').show(31)"
   ]
  },
  {
   "cell_type": "code",
   "execution_count": 7,
   "id": "fb8eee8d-e8e4-4133-9602-a7394528cded",
   "metadata": {},
   "outputs": [
    {
     "name": "stdout",
     "output_type": "stream",
     "text": [
      "+--------+---------------+\n",
      "|    Date|Cancelled Count|\n",
      "+--------+---------------+\n",
      "|20080131|           1081|\n",
      "|20080114|            909|\n",
      "|20080129|            889|\n",
      "|20080119|            876|\n",
      "|20080117|            872|\n",
      "|20080122|            788|\n",
      "|20080104|            769|\n",
      "|20080130|            694|\n",
      "|20080106|            683|\n",
      "|20080128|            654|\n",
      "|20080127|            638|\n",
      "|20080107|            579|\n",
      "|20080101|            552|\n",
      "|20080116|            532|\n",
      "|20080123|            530|\n",
      "|20080125|            526|\n",
      "|20080111|            524|\n",
      "|20080102|            511|\n",
      "|20080103|            475|\n",
      "|20080121|            475|\n",
      "|20080108|            463|\n",
      "|20080105|            456|\n",
      "|20080126|            416|\n",
      "|20080109|            377|\n",
      "|20080113|            359|\n",
      "|20080110|            341|\n",
      "|20080124|            322|\n",
      "|20080115|            299|\n",
      "|20080120|            247|\n",
      "|20080118|            230|\n",
      "|20080112|            226|\n",
      "+--------+---------------+\n",
      "\n"
     ]
    }
   ],
   "source": [
    "airtraffic.filter(col('Cancelled')==1). \\\n",
    "    groupby(concat(col('Year'),lpad(col('Month'),2,'0'),lpad(col('DayofMonth'),2,'0')).alias('Date')). \\\n",
    "    agg(count(lit('1')).alias('Cancelled Count')).orderBy(col('Cancelled Count').desc()).show(31)"
   ]
  },
  {
   "cell_type": "code",
   "execution_count": 8,
   "id": "dff63828-d1a5-4514-ac75-e5c23849c7c7",
   "metadata": {},
   "outputs": [],
   "source": [
    "#\n",
    "# Project Year, Month, DayOfMonth, CRSDepTime and Origin for this task.\n",
    "# Sort the data based up on year, month, day of month and then using scheduled time. \n",
    "# Data should be sorted in ascending order by year, month and day of month then in descending order by scheduled time.\n",
    "#"
   ]
  },
  {
   "cell_type": "code",
   "execution_count": 9,
   "id": "c42a03c1-8568-4a26-8bd0-0e724fa3487c",
   "metadata": {},
   "outputs": [
    {
     "name": "stdout",
     "output_type": "stream",
     "text": [
      "+----+-----+----------+----------+------+\n",
      "|Year|Month|DayOfMonth|CRSDepTime|Origin|\n",
      "+----+-----+----------+----------+------+\n",
      "|2008|    1|         1|      2359|   LAS|\n",
      "|2008|    1|         1|      2359|   LAS|\n",
      "|2008|    1|         1|      2359|   PHX|\n",
      "|2008|    1|         1|      2359|   LAS|\n",
      "|2008|    1|         1|      2359|   LAS|\n",
      "|2008|    1|         1|      2359|   LAS|\n",
      "|2008|    1|         1|      2359|   PHX|\n",
      "|2008|    1|         1|      2359|   SLC|\n",
      "|2008|    1|         1|      2359|   LAS|\n",
      "|2008|    1|         1|      2359|   TUS|\n",
      "|2008|    1|         1|      2359|   LAS|\n",
      "|2008|    1|         1|      2359|   LAS|\n",
      "|2008|    1|         1|      2359|   LAS|\n",
      "|2008|    1|         1|      2359|   LAS|\n",
      "|2008|    1|         1|      2359|   LAS|\n",
      "|2008|    1|         1|      2359|   SLC|\n",
      "|2008|    1|         1|      2359|   SEA|\n",
      "|2008|    1|         1|      2358|   LAS|\n",
      "|2008|    1|         1|      2358|   LAS|\n",
      "|2008|    1|         1|      2356|   LAS|\n",
      "+----+-----+----------+----------+------+\n",
      "only showing top 20 rows\n",
      "\n"
     ]
    }
   ],
   "source": [
    "airtraffic.select('Year','Month','DayOfMonth','CRSDepTime','Origin'). \\\n",
    "    orderBy('Year','Month','DayOfMonth',col('CRSDepTime').desc()). \\\n",
    "    show()"
   ]
  },
  {
   "cell_type": "code",
   "execution_count": 14,
   "id": "1b1afe20-8051-475f-a964-6bfd3465f2c4",
   "metadata": {},
   "outputs": [],
   "source": [
    "# Create employees Data Frame and get employees data in ascending order by nationality.\n",
    "# However, data related to United States should come at top always."
   ]
  },
  {
   "cell_type": "code",
   "execution_count": 10,
   "id": "5aeaf7a5-b399-4683-8826-e2364e357f2c",
   "metadata": {},
   "outputs": [],
   "source": [
    "employees = [(1, \"Scott\", \"Tiger\", 1000.0, 10,\n",
    "                      \"united states\", \"+1 123 456 7890\", \"123 45 6789\"\n",
    "                     ),\n",
    "                     (2, \"Henry\", \"Ford\", 1250.0, None,\n",
    "                      \"India\", \"+91 234 567 8901\", \"456 78 9123\"\n",
    "                     ),\n",
    "                     (3, \"Nick\", \"Junior\", 750.0, '',\n",
    "                      \"united KINGDOM\", \"+44 111 111 1111\", \"222 33 4444\"\n",
    "                     ),\n",
    "                     (4, \"Bill\", \"Gomes\", 1500.0, 2,\n",
    "                      \"AUSTRALIA\", \"+61 987 654 3210\", \"789 12 6118\"\n",
    "                     )\n",
    "                ]"
   ]
  },
  {
   "cell_type": "code",
   "execution_count": 11,
   "id": "31ed255b-0e1b-41ec-8cef-2a0b80e6a431",
   "metadata": {},
   "outputs": [],
   "source": [
    "employeesDF = spark.createDataFrame(employees).toDF('id','FName','Lname','Salary','Bonus','Country','Phone','SSN')"
   ]
  },
  {
   "cell_type": "code",
   "execution_count": 13,
   "id": "8e5bd61a-af87-4048-8a9f-f78d2f710974",
   "metadata": {},
   "outputs": [
    {
     "name": "stderr",
     "output_type": "stream",
     "text": [
      "                                                                                \r"
     ]
    },
    {
     "name": "stdout",
     "output_type": "stream",
     "text": [
      "+---+-----+------+------+-----+--------------+----------------+-----------+\n",
      "| id|FName| Lname|Salary|Bonus|       Country|           Phone|        SSN|\n",
      "+---+-----+------+------+-----+--------------+----------------+-----------+\n",
      "|  1|Scott| Tiger|1000.0|   10| united states| +1 123 456 7890|123 45 6789|\n",
      "|  2|Henry|  Ford|1250.0| null|         India|+91 234 567 8901|456 78 9123|\n",
      "|  3| Nick|Junior| 750.0|     |united KINGDOM|+44 111 111 1111|222 33 4444|\n",
      "|  4| Bill| Gomes|1500.0|    2|     AUSTRALIA|+61 987 654 3210|789 12 6118|\n",
      "+---+-----+------+------+-----+--------------+----------------+-----------+\n",
      "\n"
     ]
    }
   ],
   "source": [
    "employeesDF.show()"
   ]
  },
  {
   "cell_type": "code",
   "execution_count": 16,
   "id": "891976cb-c5dd-4b57-800a-3510b29f04de",
   "metadata": {},
   "outputs": [
    {
     "name": "stdout",
     "output_type": "stream",
     "text": [
      "+---+-----+------+------+-----+--------------+----------------+-----------+\n",
      "| id|FName| Lname|Salary|Bonus|       Country|           Phone|        SSN|\n",
      "+---+-----+------+------+-----+--------------+----------------+-----------+\n",
      "|  4| Bill| Gomes|1500.0|    2|     AUSTRALIA|+61 987 654 3210|789 12 6118|\n",
      "|  2|Henry|  Ford|1250.0| null|         India|+91 234 567 8901|456 78 9123|\n",
      "|  3| Nick|Junior| 750.0|     |united KINGDOM|+44 111 111 1111|222 33 4444|\n",
      "|  1|Scott| Tiger|1000.0|   10| united states| +1 123 456 7890|123 45 6789|\n",
      "+---+-----+------+------+-----+--------------+----------------+-----------+\n",
      "\n"
     ]
    }
   ],
   "source": [
    "employeesDF.orderBy('country').show()"
   ]
  },
  {
   "cell_type": "code",
   "execution_count": 19,
   "id": "b81e51ce-f48e-4378-821b-a3813ba82474",
   "metadata": {},
   "outputs": [
    {
     "name": "stdout",
     "output_type": "stream",
     "text": [
      "+---+-----+------+------+-----+--------------+----------------+-----------+----+\n",
      "| id|FName| Lname|Salary|Bonus|       Country|           Phone|        SSN|sort|\n",
      "+---+-----+------+------+-----+--------------+----------------+-----------+----+\n",
      "|  1|Scott| Tiger|1000.0|   10| united states| +1 123 456 7890|123 45 6789|   0|\n",
      "|  4| Bill| Gomes|1500.0|    2|     AUSTRALIA|+61 987 654 3210|789 12 6118|   1|\n",
      "|  2|Henry|  Ford|1250.0| null|         India|+91 234 567 8901|456 78 9123|   1|\n",
      "|  3| Nick|Junior| 750.0|     |united KINGDOM|+44 111 111 1111|222 33 4444|   1|\n",
      "+---+-----+------+------+-----+--------------+----------------+-----------+----+\n",
      "\n"
     ]
    }
   ],
   "source": [
    "employeesDF.withColumn('sort',when(upper(col('country')) == 'UNITED STATES','0').otherwise('1')).orderBy('sort','Country').show()"
   ]
  },
  {
   "cell_type": "code",
   "execution_count": 20,
   "id": "d5e6029b-221c-48d2-9c22-3d62fe8d43cc",
   "metadata": {},
   "outputs": [],
   "source": [
    "# Sort the data in employeesDF using bonus. Data should be sorted numerically and null and empty values should come at the end."
   ]
  },
  {
   "cell_type": "code",
   "execution_count": 42,
   "id": "619343da-a0a4-4798-916c-67bde23552af",
   "metadata": {},
   "outputs": [
    {
     "name": "stdout",
     "output_type": "stream",
     "text": [
      "+---+-----+------+------+-----+--------------+----------------+-----------+\n",
      "| id|FName| Lname|Salary|Bonus|       Country|           Phone|        SSN|\n",
      "+---+-----+------+------+-----+--------------+----------------+-----------+\n",
      "|  4| Bill| Gomes|1500.0|    2|     AUSTRALIA|+61 987 654 3210|789 12 6118|\n",
      "|  1|Scott| Tiger|1000.0|   10| united states| +1 123 456 7890|123 45 6789|\n",
      "|  3| Nick|Junior| 750.0|     |united KINGDOM|+44 111 111 1111|222 33 4444|\n",
      "|  2|Henry|  Ford|1250.0| null|         India|+91 234 567 8901|456 78 9123|\n",
      "+---+-----+------+------+-----+--------------+----------------+-----------+\n",
      "\n"
     ]
    }
   ],
   "source": [
    "employeesDF. \\\n",
    "    orderBy(col('Bonus').cast('int').asc_nulls_last()). \\\n",
    "    show()"
   ]
  },
  {
   "cell_type": "code",
   "execution_count": null,
   "id": "419476b3-7f2d-4857-9713-d7576c2a292b",
   "metadata": {},
   "outputs": [],
   "source": []
  },
  {
   "cell_type": "code",
   "execution_count": null,
   "id": "c323eb44-4a18-4bd4-b9f9-2f02c3527be0",
   "metadata": {},
   "outputs": [],
   "source": []
  }
 ],
 "metadata": {
  "kernelspec": {
   "display_name": "Python 3 (ipykernel)",
   "language": "python",
   "name": "python3"
  },
  "language_info": {
   "codemirror_mode": {
    "name": "ipython",
    "version": 3
   },
   "file_extension": ".py",
   "mimetype": "text/x-python",
   "name": "python",
   "nbconvert_exporter": "python",
   "pygments_lexer": "ipython3",
   "version": "3.8.10"
  }
 },
 "nbformat": 4,
 "nbformat_minor": 5
}
