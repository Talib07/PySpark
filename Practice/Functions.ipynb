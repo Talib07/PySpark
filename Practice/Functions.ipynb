{
 "cells": [
  {
   "cell_type": "code",
   "execution_count": 1,
   "id": "a20b577d-e6db-4501-947f-fe0684c40097",
   "metadata": {},
   "outputs": [],
   "source": [
    "from pyspark.sql import SparkSession\n",
    "from pyspark.sql import functions"
   ]
  },
  {
   "cell_type": "code",
   "execution_count": 2,
   "id": "2499cf3d-0ec7-4fe5-8c4b-449560a780ce",
   "metadata": {},
   "outputs": [
    {
     "name": "stderr",
     "output_type": "stream",
     "text": [
      "Setting default log level to \"WARN\".\n",
      "To adjust logging level use sc.setLogLevel(newLevel). For SparkR, use setLogLevel(newLevel).\n",
      "23/08/15 08:52:01 WARN NativeCodeLoader: Unable to load native-hadoop library for your platform... using builtin-java classes where applicable\n"
     ]
    }
   ],
   "source": [
    "spark = SparkSession.builder.appName('Test').getOrCreate()"
   ]
  },
  {
   "cell_type": "code",
   "execution_count": 6,
   "id": "067c72ca-3590-4495-89ee-a0f7122cf2cd",
   "metadata": {},
   "outputs": [],
   "source": [
    "orders = spark.read.csv('retail_db/orders/part-00000',\n",
    "                       schema = 'order_id INT, order_date STRING,customer_id INT, order_status STRING')"
   ]
  },
  {
   "cell_type": "code",
   "execution_count": 7,
   "id": "c4960ac4-c3c1-482b-9922-2517e3af18f5",
   "metadata": {},
   "outputs": [
    {
     "name": "stdout",
     "output_type": "stream",
     "text": [
      "+--------+--------------------+-----------+---------------+\n",
      "|order_id|          order_date|customer_id|   order_status|\n",
      "+--------+--------------------+-----------+---------------+\n",
      "|       1|2013-07-25 00:00:...|      11599|         CLOSED|\n",
      "|       2|2013-07-25 00:00:...|        256|PENDING_PAYMENT|\n",
      "|       3|2013-07-25 00:00:...|      12111|       COMPLETE|\n",
      "|       4|2013-07-25 00:00:...|       8827|         CLOSED|\n",
      "|       5|2013-07-25 00:00:...|      11318|       COMPLETE|\n",
      "|       6|2013-07-25 00:00:...|       7130|       COMPLETE|\n",
      "|       7|2013-07-25 00:00:...|       4530|       COMPLETE|\n",
      "|       8|2013-07-25 00:00:...|       2911|     PROCESSING|\n",
      "|       9|2013-07-25 00:00:...|       5657|PENDING_PAYMENT|\n",
      "|      10|2013-07-25 00:00:...|       5648|PENDING_PAYMENT|\n",
      "|      11|2013-07-25 00:00:...|        918| PAYMENT_REVIEW|\n",
      "|      12|2013-07-25 00:00:...|       1837|         CLOSED|\n",
      "|      13|2013-07-25 00:00:...|       9149|PENDING_PAYMENT|\n",
      "|      14|2013-07-25 00:00:...|       9842|     PROCESSING|\n",
      "|      15|2013-07-25 00:00:...|       2568|       COMPLETE|\n",
      "|      16|2013-07-25 00:00:...|       7276|PENDING_PAYMENT|\n",
      "|      17|2013-07-25 00:00:...|       2667|       COMPLETE|\n",
      "|      18|2013-07-25 00:00:...|       1205|         CLOSED|\n",
      "|      19|2013-07-25 00:00:...|       9488|PENDING_PAYMENT|\n",
      "|      20|2013-07-25 00:00:...|       9198|     PROCESSING|\n",
      "+--------+--------------------+-----------+---------------+\n",
      "only showing top 20 rows\n",
      "\n"
     ]
    }
   ],
   "source": [
    "orders.show()"
   ]
  },
  {
   "cell_type": "code",
   "execution_count": 8,
   "id": "40c0dfdb-0976-4ce3-a06a-aff5b6a3bc38",
   "metadata": {},
   "outputs": [
    {
     "name": "stdout",
     "output_type": "stream",
     "text": [
      "root\n",
      " |-- order_id: integer (nullable = true)\n",
      " |-- order_date: string (nullable = true)\n",
      " |-- customer_id: integer (nullable = true)\n",
      " |-- order_status: string (nullable = true)\n",
      "\n"
     ]
    }
   ],
   "source": [
    "orders.printSchema()"
   ]
  },
  {
   "cell_type": "code",
   "execution_count": 9,
   "id": "0bd7b8f4-68db-45f5-b4ea-f497f2c0e394",
   "metadata": {},
   "outputs": [],
   "source": [
    "from pyspark.sql.functions import date_format"
   ]
  },
  {
   "cell_type": "code",
   "execution_count": 13,
   "id": "cb76f909-78aa-428d-b0ba-a02f77ac6aed",
   "metadata": {},
   "outputs": [
    {
     "name": "stdout",
     "output_type": "stream",
     "text": [
      "+--------+--------------------+-----------+---------------+-----------+\n",
      "|order_id|          order_date|customer_id|   order_status|order_month|\n",
      "+--------+--------------------+-----------+---------------+-----------+\n",
      "|       1|2013-07-25 00:00:...|      11599|         CLOSED|     201307|\n",
      "|       2|2013-07-25 00:00:...|        256|PENDING_PAYMENT|     201307|\n",
      "|       3|2013-07-25 00:00:...|      12111|       COMPLETE|     201307|\n",
      "|       4|2013-07-25 00:00:...|       8827|         CLOSED|     201307|\n",
      "|       5|2013-07-25 00:00:...|      11318|       COMPLETE|     201307|\n",
      "|       6|2013-07-25 00:00:...|       7130|       COMPLETE|     201307|\n",
      "|       7|2013-07-25 00:00:...|       4530|       COMPLETE|     201307|\n",
      "|       8|2013-07-25 00:00:...|       2911|     PROCESSING|     201307|\n",
      "|       9|2013-07-25 00:00:...|       5657|PENDING_PAYMENT|     201307|\n",
      "|      10|2013-07-25 00:00:...|       5648|PENDING_PAYMENT|     201307|\n",
      "|      11|2013-07-25 00:00:...|        918| PAYMENT_REVIEW|     201307|\n",
      "|      12|2013-07-25 00:00:...|       1837|         CLOSED|     201307|\n",
      "|      13|2013-07-25 00:00:...|       9149|PENDING_PAYMENT|     201307|\n",
      "|      14|2013-07-25 00:00:...|       9842|     PROCESSING|     201307|\n",
      "|      15|2013-07-25 00:00:...|       2568|       COMPLETE|     201307|\n",
      "|      16|2013-07-25 00:00:...|       7276|PENDING_PAYMENT|     201307|\n",
      "|      17|2013-07-25 00:00:...|       2667|       COMPLETE|     201307|\n",
      "|      18|2013-07-25 00:00:...|       1205|         CLOSED|     201307|\n",
      "|      19|2013-07-25 00:00:...|       9488|PENDING_PAYMENT|     201307|\n",
      "|      20|2013-07-25 00:00:...|       9198|     PROCESSING|     201307|\n",
      "+--------+--------------------+-----------+---------------+-----------+\n",
      "only showing top 20 rows\n",
      "\n"
     ]
    }
   ],
   "source": [
    "orders.withColumn('order_month',date_format('order_date','yyyyMM')).show()"
   ]
  },
  {
   "cell_type": "code",
   "execution_count": 16,
   "id": "18fefcdd-338b-4fb9-aca2-7e7cb6487f90",
   "metadata": {},
   "outputs": [
    {
     "name": "stdout",
     "output_type": "stream",
     "text": [
      "+--------+--------------------+-----------+---------------+\n",
      "|order_id|          order_date|customer_id|   order_status|\n",
      "+--------+--------------------+-----------+---------------+\n",
      "|       1|2013-07-25 00:00:...|      11599|         CLOSED|\n",
      "|       2|2013-07-25 00:00:...|        256|PENDING_PAYMENT|\n",
      "|       3|2013-07-25 00:00:...|      12111|       COMPLETE|\n",
      "|       4|2013-07-25 00:00:...|       8827|         CLOSED|\n",
      "|       5|2013-07-25 00:00:...|      11318|       COMPLETE|\n",
      "|       6|2013-07-25 00:00:...|       7130|       COMPLETE|\n",
      "|       7|2013-07-25 00:00:...|       4530|       COMPLETE|\n",
      "|       8|2013-07-25 00:00:...|       2911|     PROCESSING|\n",
      "|       9|2013-07-25 00:00:...|       5657|PENDING_PAYMENT|\n",
      "|      10|2013-07-25 00:00:...|       5648|PENDING_PAYMENT|\n",
      "|      11|2013-07-25 00:00:...|        918| PAYMENT_REVIEW|\n",
      "|      12|2013-07-25 00:00:...|       1837|         CLOSED|\n",
      "|      13|2013-07-25 00:00:...|       9149|PENDING_PAYMENT|\n",
      "|      14|2013-07-25 00:00:...|       9842|     PROCESSING|\n",
      "|      15|2013-07-25 00:00:...|       2568|       COMPLETE|\n",
      "|      16|2013-07-25 00:00:...|       7276|PENDING_PAYMENT|\n",
      "|      17|2013-07-25 00:00:...|       2667|       COMPLETE|\n",
      "|      18|2013-07-25 00:00:...|       1205|         CLOSED|\n",
      "|      19|2013-07-25 00:00:...|       9488|PENDING_PAYMENT|\n",
      "|      20|2013-07-25 00:00:...|       9198|     PROCESSING|\n",
      "+--------+--------------------+-----------+---------------+\n",
      "only showing top 20 rows\n",
      "\n"
     ]
    }
   ],
   "source": [
    "orders.filter(date_format('order_date','yyyyMM') == 201307).show()"
   ]
  },
  {
   "cell_type": "code",
   "execution_count": 20,
   "id": "5fd091a8-42f2-4f29-8785-fb96df5fd099",
   "metadata": {},
   "outputs": [
    {
     "name": "stdout",
     "output_type": "stream",
     "text": [
      "+-----------+-----+\n",
      "|order_month|count|\n",
      "+-----------+-----+\n",
      "|     201401| 5908|\n",
      "|     201405| 5467|\n",
      "|     201312| 5892|\n",
      "|     201310| 5335|\n",
      "|     201311| 6381|\n",
      "|     201307| 1533|\n",
      "|     201407| 4468|\n",
      "|     201403| 5778|\n",
      "|     201404| 5657|\n",
      "|     201402| 5635|\n",
      "|     201309| 5841|\n",
      "|     201406| 5308|\n",
      "|     201308| 5680|\n",
      "+-----------+-----+\n",
      "\n"
     ]
    }
   ],
   "source": [
    "orders.groupby(date_format('order_date','yyyyMM').alias('order_month')).count().show()"
   ]
  },
  {
   "cell_type": "code",
   "execution_count": null,
   "id": "69dfa8c9-7e1e-4290-af68-ad93429f127c",
   "metadata": {},
   "outputs": [],
   "source": []
  }
 ],
 "metadata": {
  "kernelspec": {
   "display_name": "Python 3 (ipykernel)",
   "language": "python",
   "name": "python3"
  },
  "language_info": {
   "codemirror_mode": {
    "name": "ipython",
    "version": 3
   },
   "file_extension": ".py",
   "mimetype": "text/x-python",
   "name": "python",
   "nbconvert_exporter": "python",
   "pygments_lexer": "ipython3",
   "version": "3.8.10"
  }
 },
 "nbformat": 4,
 "nbformat_minor": 5
}
