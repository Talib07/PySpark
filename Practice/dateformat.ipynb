{
 "cells": [
  {
   "cell_type": "code",
   "execution_count": 4,
   "id": "12c8702b-3c48-4e3b-94e4-e2cbe7c83d73",
   "metadata": {},
   "outputs": [],
   "source": [
    "from pyspark.sql.functions import *\n",
    "from pyspark.sql import SparkSession"
   ]
  },
  {
   "cell_type": "code",
   "execution_count": 5,
   "id": "acbd87be-6be1-4558-b596-46a9972500a6",
   "metadata": {},
   "outputs": [
    {
     "name": "stderr",
     "output_type": "stream",
     "text": [
      "Setting default log level to \"WARN\".\n",
      "To adjust logging level use sc.setLogLevel(newLevel). For SparkR, use setLogLevel(newLevel).\n",
      "23/08/18 14:36:27 WARN NativeCodeLoader: Unable to load native-hadoop library for your platform... using builtin-java classes where applicable\n"
     ]
    }
   ],
   "source": [
    "spark = SparkSession.builder.appName('Test').getOrCreate()"
   ]
  },
  {
   "cell_type": "code",
   "execution_count": 6,
   "id": "73a61994-258c-4537-bc3d-4a05b7898f0e",
   "metadata": {},
   "outputs": [],
   "source": [
    "datetimes = [(\"2014-02-28\", \"2014-02-28 10:00:00.123\"),\n",
    "                     (\"2016-02-29\", \"2016-02-29 08:08:08.999\"),\n",
    "                     (\"2017-10-31\", \"2017-12-31 11:59:59.123\"),\n",
    "                     (\"2019-11-30\", \"2019-08-31 00:00:00.000\")\n",
    "                ]"
   ]
  },
  {
   "cell_type": "code",
   "execution_count": 14,
   "id": "ed89b865-9d95-43c0-a1c6-155dd073a2b3",
   "metadata": {},
   "outputs": [],
   "source": [
    "datetimesDF = spark.createDataFrame(datetimes).toDF('date','time')"
   ]
  },
  {
   "cell_type": "code",
   "execution_count": 15,
   "id": "54bfa17b-6d36-4010-a707-551ec4e00a67",
   "metadata": {},
   "outputs": [
    {
     "name": "stdout",
     "output_type": "stream",
     "text": [
      "root\n",
      " |-- date: string (nullable = true)\n",
      " |-- time: string (nullable = true)\n",
      "\n"
     ]
    }
   ],
   "source": [
    "datetimesDF.printSchema()"
   ]
  },
  {
   "cell_type": "code",
   "execution_count": 29,
   "id": "6696af55-c36b-476d-a5a2-8b770c07d7c7",
   "metadata": {},
   "outputs": [
    {
     "name": "stdout",
     "output_type": "stream",
     "text": [
      "+----------+-----------------------+-------+-------+\n",
      "|date      |time                   |date_ym|time_ym|\n",
      "+----------+-----------------------+-------+-------+\n",
      "|2014-02-28|2014-02-28 10:00:00.123|201402 |201402 |\n",
      "|2016-02-29|2016-02-29 08:08:08.999|201602 |201602 |\n",
      "|2017-10-31|2017-12-31 11:59:59.123|201710 |201712 |\n",
      "|2019-11-30|2019-08-31 00:00:00.000|201911 |201908 |\n",
      "+----------+-----------------------+-------+-------+\n",
      "\n"
     ]
    }
   ],
   "source": [
    "datetimesDF. \\\n",
    "    withColumn(\"date_ym\", date_format(\"date\", \"yyyyMM\")). \\\n",
    "    withColumn(\"time_ym\", date_format(\"time\", \"yyyyMM\")). \\\n",
    "    show(truncate=False)\n",
    "\n",
    "# yyyy\n",
    "# MM\n",
    "# dd\n",
    "# DD\n",
    "# HH\n",
    "# hh\n",
    "# mm\n",
    "# ss\n",
    "# SSS"
   ]
  },
  {
   "cell_type": "code",
   "execution_count": 30,
   "id": "aa000ecd-87e3-4cf4-9cbd-99ffc80d579e",
   "metadata": {},
   "outputs": [
    {
     "name": "stdout",
     "output_type": "stream",
     "text": [
      "root\n",
      " |-- date: string (nullable = true)\n",
      " |-- time: string (nullable = true)\n",
      " |-- date_ym: string (nullable = true)\n",
      " |-- time_ym: string (nullable = true)\n",
      "\n"
     ]
    }
   ],
   "source": [
    "datetimesDF. \\\n",
    "    withColumn(\"date_ym\", date_format(\"date\", \"yyyyMM\")). \\\n",
    "    withColumn(\"time_ym\", date_format(\"time\", \"yyyy-MMM\")). \\\n",
    "    printSchema()"
   ]
  },
  {
   "cell_type": "code",
   "execution_count": 35,
   "id": "348d254e-5ac4-4366-aaf1-911e72084455",
   "metadata": {},
   "outputs": [
    {
     "name": "stdout",
     "output_type": "stream",
     "text": [
      "root\n",
      " |-- date: string (nullable = true)\n",
      " |-- time: string (nullable = true)\n",
      " |-- date_ym: integer (nullable = true)\n",
      " |-- time_ym: integer (nullable = true)\n",
      "\n"
     ]
    }
   ],
   "source": [
    "datetimesDF. \\\n",
    "    withColumn(\"date_ym\", date_format(\"date\", \"yyyyMM\").cast('int')). \\\n",
    "    withColumn(\"time_ym\", date_format(\"time\", \"yyyyMM\").cast('int')). \\\n",
    "    printSchema()"
   ]
  },
  {
   "cell_type": "code",
   "execution_count": 36,
   "id": "02b62bad-989d-495b-aa22-32eb07ffa70e",
   "metadata": {},
   "outputs": [
    {
     "name": "stdout",
     "output_type": "stream",
     "text": [
      "+----------+-----------------------+-------+-------+\n",
      "|date      |time                   |date_ym|time_ym|\n",
      "+----------+-----------------------+-------+-------+\n",
      "|2014-02-28|2014-02-28 10:00:00.123|201402 |201402 |\n",
      "|2016-02-29|2016-02-29 08:08:08.999|201602 |201602 |\n",
      "|2017-10-31|2017-12-31 11:59:59.123|201710 |201712 |\n",
      "|2019-11-30|2019-08-31 00:00:00.000|201911 |201908 |\n",
      "+----------+-----------------------+-------+-------+\n",
      "\n"
     ]
    }
   ],
   "source": [
    "datetimesDF. \\\n",
    "    withColumn(\"date_ym\", date_format(\"date\", \"yyyyMM\").cast('int')). \\\n",
    "    withColumn(\"time_ym\", date_format(\"time\", \"yyyyMM\").cast('int')). \\\n",
    "    show(truncate=False)"
   ]
  },
  {
   "cell_type": "code",
   "execution_count": 37,
   "id": "cd1366cb-a29a-45a7-a6b3-6075734e02c1",
   "metadata": {},
   "outputs": [
    {
     "name": "stdout",
     "output_type": "stream",
     "text": [
      "+----------+-----------------------+--------------+--------------+\n",
      "|date      |time                   |date_dt       |date_ts       |\n",
      "+----------+-----------------------+--------------+--------------+\n",
      "|2014-02-28|2014-02-28 10:00:00.123|20140228000000|20140228100000|\n",
      "|2016-02-29|2016-02-29 08:08:08.999|20160229000000|20160229080808|\n",
      "|2017-10-31|2017-12-31 11:59:59.123|20171031000000|20171231115959|\n",
      "|2019-11-30|2019-08-31 00:00:00.000|20191130000000|20190831000000|\n",
      "+----------+-----------------------+--------------+--------------+\n",
      "\n"
     ]
    }
   ],
   "source": [
    "datetimesDF. \\\n",
    "    withColumn(\"date_dt\", date_format(\"date\", \"yyyyMMddHHmmss\")). \\\n",
    "    withColumn(\"date_ts\", date_format(\"time\", \"yyyyMMddHHmmss\")). \\\n",
    "    show(truncate=False)"
   ]
  },
  {
   "cell_type": "code",
   "execution_count": 41,
   "id": "f7159b17-56e1-47af-9d0b-b15afa64866d",
   "metadata": {},
   "outputs": [
    {
     "name": "stdout",
     "output_type": "stream",
     "text": [
      "+----------+-----------------------+--------------+--------------+\n",
      "|date      |time                   |date_dt       |date_ts       |\n",
      "+----------+-----------------------+--------------+--------------+\n",
      "|2014-02-28|2014-02-28 10:00:00.123|20140228000000|20140228100000|\n",
      "|2016-02-29|2016-02-29 08:08:08.999|20160229000000|20160229080808|\n",
      "|2017-10-31|2017-12-31 11:59:59.123|20171031000000|20171231115959|\n",
      "|2019-11-30|2019-08-31 00:00:00.000|20191130000000|20190831000000|\n",
      "+----------+-----------------------+--------------+--------------+\n",
      "\n"
     ]
    }
   ],
   "source": [
    "datetimesDF. \\\n",
    "    withColumn(\"date_dt\", date_format(\"date\", \"yyyyMMddHHmmss\").cast('long')). \\\n",
    "    withColumn(\"date_ts\", date_format(\"time\", \"yyyyMMddHHmmss\").cast('long')). \\\n",
    "    show(truncate=False)"
   ]
  },
  {
   "cell_type": "code",
   "execution_count": 42,
   "id": "eb9d9cd7-29a4-4e84-9502-964708ebd51d",
   "metadata": {},
   "outputs": [
    {
     "name": "stdout",
     "output_type": "stream",
     "text": [
      "+----------+-----------------------+-------+-------+\n",
      "|date      |time                   |date_yd|time_yd|\n",
      "+----------+-----------------------+-------+-------+\n",
      "|2014-02-28|2014-02-28 10:00:00.123|2014059|2014059|\n",
      "|2016-02-29|2016-02-29 08:08:08.999|2016060|2016060|\n",
      "|2017-10-31|2017-12-31 11:59:59.123|2017304|2017365|\n",
      "|2019-11-30|2019-08-31 00:00:00.000|2019334|2019243|\n",
      "+----------+-----------------------+-------+-------+\n",
      "\n"
     ]
    }
   ],
   "source": [
    "datetimesDF. \\\n",
    "    withColumn(\"date_yd\", date_format(\"date\", \"yyyyDDD\").cast('int')). \\\n",
    "    withColumn(\"time_yd\", date_format(\"time\", \"yyyyDDD\").cast('int')). \\\n",
    "    show(truncate=False)"
   ]
  },
  {
   "cell_type": "code",
   "execution_count": 53,
   "id": "69f12b3c-95a0-4c73-87c6-42fa9409208a",
   "metadata": {},
   "outputs": [
    {
     "name": "stdout",
     "output_type": "stream",
     "text": [
      "+----------+-----------------------+-----------------+\n",
      "|date      |time                   |date_desc        |\n",
      "+----------+-----------------------+-----------------+\n",
      "|2014-02-28|2014-02-28 10:00:00.123|February 28, 2014|\n",
      "|2016-02-29|2016-02-29 08:08:08.999|February 29, 2016|\n",
      "|2017-10-31|2017-12-31 11:59:59.123|October 31, 2017 |\n",
      "|2019-11-30|2019-08-31 00:00:00.000|November 30, 2019|\n",
      "+----------+-----------------------+-----------------+\n",
      "\n"
     ]
    }
   ],
   "source": [
    "datetimesDF. \\\n",
    "    withColumn(\"date_desc\", date_format(\"date\", \"MMMM dd, yyy\")). \\\n",
    "    show(truncate = False)"
   ]
  },
  {
   "cell_type": "code",
   "execution_count": 54,
   "id": "a8e2da4f-8aaa-4a32-9f5a-05de7199bc04",
   "metadata": {},
   "outputs": [
    {
     "name": "stdout",
     "output_type": "stream",
     "text": [
      "+----------+-----------------------+-------------+\n",
      "|date      |time                   |day_name_full|\n",
      "+----------+-----------------------+-------------+\n",
      "|2014-02-28|2014-02-28 10:00:00.123|Friday       |\n",
      "|2016-02-29|2016-02-29 08:08:08.999|Monday       |\n",
      "|2017-10-31|2017-12-31 11:59:59.123|Tuesday      |\n",
      "|2019-11-30|2019-08-31 00:00:00.000|Saturday     |\n",
      "+----------+-----------------------+-------------+\n",
      "\n"
     ]
    }
   ],
   "source": [
    "datetimesDF. \\\n",
    "    withColumn(\"day_name_full\", date_format(\"date\", \"EEEE\")). \\\n",
    "    show(truncate=False)"
   ]
  },
  {
   "cell_type": "code",
   "execution_count": 55,
   "id": "2576c8ab-0d7f-49a0-a28e-d6704979823d",
   "metadata": {},
   "outputs": [
    {
     "name": "stdout",
     "output_type": "stream",
     "text": [
      "+----------+-----------------------+-------------+\n",
      "|date      |time                   |day_name_full|\n",
      "+----------+-----------------------+-------------+\n",
      "|2014-02-28|2014-02-28 10:00:00.123|Fri          |\n",
      "|2016-02-29|2016-02-29 08:08:08.999|Mon          |\n",
      "|2017-10-31|2017-12-31 11:59:59.123|Tue          |\n",
      "|2019-11-30|2019-08-31 00:00:00.000|Sat          |\n",
      "+----------+-----------------------+-------------+\n",
      "\n"
     ]
    }
   ],
   "source": [
    "datetimesDF. \\\n",
    "    withColumn(\"day_name_full\", date_format(\"date\", \"EE\")). \\\n",
    "    show(truncate=False)"
   ]
  },
  {
   "cell_type": "code",
   "execution_count": null,
   "id": "60b212fc-5f63-47f5-bf74-2d35bdc61cbe",
   "metadata": {},
   "outputs": [],
   "source": []
  }
 ],
 "metadata": {
  "kernelspec": {
   "display_name": "Python 3 (ipykernel)",
   "language": "python",
   "name": "python3"
  },
  "language_info": {
   "codemirror_mode": {
    "name": "ipython",
    "version": 3
   },
   "file_extension": ".py",
   "mimetype": "text/x-python",
   "name": "python",
   "nbconvert_exporter": "python",
   "pygments_lexer": "ipython3",
   "version": "3.8.10"
  }
 },
 "nbformat": 4,
 "nbformat_minor": 5
}
