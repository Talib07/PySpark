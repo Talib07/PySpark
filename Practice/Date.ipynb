{
 "cells": [
  {
   "cell_type": "code",
   "execution_count": 1,
   "id": "b224a950-12d8-4ca7-9f9d-f320a5c14464",
   "metadata": {},
   "outputs": [],
   "source": [
    "from pyspark.sql.functions import *\n",
    "from pyspark.sql import SparkSession"
   ]
  },
  {
   "cell_type": "code",
   "execution_count": 2,
   "id": "84f8c7f0-93b2-451f-bb14-ceffeea25097",
   "metadata": {},
   "outputs": [
    {
     "name": "stderr",
     "output_type": "stream",
     "text": [
      "Setting default log level to \"WARN\".\n",
      "To adjust logging level use sc.setLogLevel(newLevel). For SparkR, use setLogLevel(newLevel).\n",
      "23/08/16 18:30:43 WARN NativeCodeLoader: Unable to load native-hadoop library for your platform... using builtin-java classes where applicable\n"
     ]
    }
   ],
   "source": [
    "spark = SparkSession.builder.appName('Date').getOrCreate()"
   ]
  },
  {
   "cell_type": "code",
   "execution_count": 3,
   "id": "e52b65ab-bc9a-492f-bc7e-1c4a1d3bd18d",
   "metadata": {},
   "outputs": [],
   "source": [
    "l = [('X',)]"
   ]
  },
  {
   "cell_type": "code",
   "execution_count": 4,
   "id": "95111081-856b-474f-98e3-6f64a508a71f",
   "metadata": {},
   "outputs": [],
   "source": [
    "df = spark.createDataFrame(l).toDF('dummy')"
   ]
  },
  {
   "cell_type": "code",
   "execution_count": 5,
   "id": "bd94d9d8-cc54-4e95-a71c-425833d3886b",
   "metadata": {},
   "outputs": [
    {
     "name": "stderr",
     "output_type": "stream",
     "text": [
      "                                                                                \r"
     ]
    },
    {
     "name": "stdout",
     "output_type": "stream",
     "text": [
      "+-----+\n",
      "|dummy|\n",
      "+-----+\n",
      "|    X|\n",
      "+-----+\n",
      "\n"
     ]
    }
   ],
   "source": [
    "df.show()"
   ]
  },
  {
   "cell_type": "code",
   "execution_count": 6,
   "id": "956067d3-d8f3-409c-bdf7-c1d12d1c04f1",
   "metadata": {},
   "outputs": [
    {
     "name": "stdout",
     "output_type": "stream",
     "text": [
      "root\n",
      " |-- dummy: string (nullable = true)\n",
      "\n"
     ]
    }
   ],
   "source": [
    "df.printSchema()"
   ]
  },
  {
   "cell_type": "code",
   "execution_count": 7,
   "id": "83e0f6d4-0f90-4f08-ba4a-cfa2d2937c64",
   "metadata": {},
   "outputs": [
    {
     "name": "stdout",
     "output_type": "stream",
     "text": [
      "+------------+\n",
      "|current date|\n",
      "+------------+\n",
      "|  2023-08-16|\n",
      "+------------+\n",
      "\n"
     ]
    }
   ],
   "source": [
    "df.select(current_date().alias('current date')).show()"
   ]
  },
  {
   "cell_type": "code",
   "execution_count": 8,
   "id": "f33b25ab-872d-4ff1-8a52-83f2c12fd3f1",
   "metadata": {},
   "outputs": [
    {
     "name": "stdout",
     "output_type": "stream",
     "text": [
      "+--------------------------+\n",
      "|current timestamp         |\n",
      "+--------------------------+\n",
      "|2023-08-16 18:30:51.429877|\n",
      "+--------------------------+\n",
      "\n"
     ]
    }
   ],
   "source": [
    "df.select(current_timestamp().alias('current timestamp')).show(truncate = False)"
   ]
  },
  {
   "cell_type": "code",
   "execution_count": 9,
   "id": "846d1d84-1623-4f04-80f7-4406e14c1ce6",
   "metadata": {},
   "outputs": [
    {
     "name": "stdout",
     "output_type": "stream",
     "text": [
      "+----------+\n",
      "|      date|\n",
      "+----------+\n",
      "|2018-01-01|\n",
      "+----------+\n",
      "\n"
     ]
    }
   ],
   "source": [
    "df.select(to_date(lit('20180101'),'yyyyMMdd').alias('date')).show()"
   ]
  },
  {
   "cell_type": "code",
   "execution_count": 10,
   "id": "f57b40b6-16cb-4dfb-97b0-a065bed83ec7",
   "metadata": {},
   "outputs": [
    {
     "name": "stdout",
     "output_type": "stream",
     "text": [
      "+-----------------------+\n",
      "|timestamp              |\n",
      "+-----------------------+\n",
      "|2018-12-03 17:50:43.987|\n",
      "+-----------------------+\n",
      "\n"
     ]
    }
   ],
   "source": [
    "df.select(to_timestamp(lit('20181203 175043987'),'yyyyMMdd HHmmssSSS').alias('timestamp')).show(truncate = False)"
   ]
  },
  {
   "cell_type": "code",
   "execution_count": 11,
   "id": "0ead1185-f6ad-4fc6-afaf-1e04b136856a",
   "metadata": {},
   "outputs": [],
   "source": [
    "datetimes = [(\"2014-02-28\", \"2014-02-28 10:00:00.123\"),\n",
    "                     (\"2016-02-29\", \"2016-02-29 08:08:08.999\"),\n",
    "                     (\"2017-10-31\", \"2017-12-31 11:59:59.123\"),\n",
    "                     (\"2019-11-30\", \"2019-08-31 00:00:00.000\")\n",
    "                ]"
   ]
  },
  {
   "cell_type": "code",
   "execution_count": 12,
   "id": "dab86606-166a-4d6a-8c61-a49796603c2d",
   "metadata": {},
   "outputs": [],
   "source": [
    "datetimeDF = spark.createDataFrame(datetimes,schema = \"\"\"date STRING, timestamp STRING\"\"\")"
   ]
  },
  {
   "cell_type": "code",
   "execution_count": 13,
   "id": "dd8665fc-f4fb-40e9-8794-6e3797b8f0c4",
   "metadata": {},
   "outputs": [
    {
     "name": "stdout",
     "output_type": "stream",
     "text": [
      "+----------+-----------------------+\n",
      "|date      |timestamp              |\n",
      "+----------+-----------------------+\n",
      "|2014-02-28|2014-02-28 10:00:00.123|\n",
      "|2016-02-29|2016-02-29 08:08:08.999|\n",
      "|2017-10-31|2017-12-31 11:59:59.123|\n",
      "|2019-11-30|2019-08-31 00:00:00.000|\n",
      "+----------+-----------------------+\n",
      "\n"
     ]
    }
   ],
   "source": [
    "datetimeDF.show(truncate = False)"
   ]
  },
  {
   "cell_type": "code",
   "execution_count": 14,
   "id": "d1696cf1-827a-4027-89d9-3b7473e87d72",
   "metadata": {},
   "outputs": [
    {
     "name": "stdout",
     "output_type": "stream",
     "text": [
      "root\n",
      " |-- date: string (nullable = true)\n",
      " |-- timestamp: string (nullable = true)\n",
      "\n"
     ]
    }
   ],
   "source": [
    "datetimeDF.printSchema()"
   ]
  },
  {
   "cell_type": "code",
   "execution_count": 16,
   "id": "bb326d05-1724-4294-8c35-6400b50592f7",
   "metadata": {},
   "outputs": [
    {
     "name": "stdout",
     "output_type": "stream",
     "text": [
      "+----------+-----------------------+----------+-------------+----------+-------------+\n",
      "|date      |timestamp              |Add date  |Add timestamp|Sub date  |Sub timestamp|\n",
      "+----------+-----------------------+----------+-------------+----------+-------------+\n",
      "|2014-02-28|2014-02-28 10:00:00.123|2014-03-10|2014-03-10   |2014-02-18|2014-02-18   |\n",
      "|2016-02-29|2016-02-29 08:08:08.999|2016-03-10|2016-03-10   |2016-02-19|2016-02-19   |\n",
      "|2017-10-31|2017-12-31 11:59:59.123|2017-11-10|2018-01-10   |2017-10-21|2017-10-21   |\n",
      "|2019-11-30|2019-08-31 00:00:00.000|2019-12-10|2019-09-10   |2019-11-20|2019-11-20   |\n",
      "+----------+-----------------------+----------+-------------+----------+-------------+\n",
      "\n"
     ]
    }
   ],
   "source": [
    "datetimeDF.withColumn('Add date',date_add('date',10)). \\\n",
    "            withColumn('Add timestamp',date_add('timestamp',10)). \\\n",
    "            withColumn('Sub date',date_sub('date',10)). \\\n",
    "            withColumn('Sub timestamp',date_sub('date',10)).show(truncate = False)"
   ]
  },
  {
   "cell_type": "code",
   "execution_count": 17,
   "id": "346df4ea-f992-4728-9019-cc6ae91a4a54",
   "metadata": {},
   "outputs": [
    {
     "name": "stdout",
     "output_type": "stream",
     "text": [
      "+----------+-----------------------+-------------+------------------+\n",
      "|date      |timestamp              |datediff date|datediff timestamp|\n",
      "+----------+-----------------------+-------------+------------------+\n",
      "|2014-02-28|2014-02-28 10:00:00.123|3456         |3456              |\n",
      "|2016-02-29|2016-02-29 08:08:08.999|2725         |2725              |\n",
      "|2017-10-31|2017-12-31 11:59:59.123|2115         |2054              |\n",
      "|2019-11-30|2019-08-31 00:00:00.000|1355         |1446              |\n",
      "+----------+-----------------------+-------------+------------------+\n",
      "\n"
     ]
    }
   ],
   "source": [
    "datetimeDF.withColumn('datediff date',datediff(current_date(),'date')). \\\n",
    "            withColumn('datediff timestamp',datediff(current_timestamp(),'timestamp')). \\\n",
    "            show(truncate = False)"
   ]
  },
  {
   "cell_type": "code",
   "execution_count": 24,
   "id": "a759cfcd-cb54-46f9-a0be-3cb427478a4f",
   "metadata": {},
   "outputs": [
    {
     "name": "stdout",
     "output_type": "stream",
     "text": [
      "+----------+--------------------+--------------+-------------------+------------------+-----------------------+\n",
      "|      date|           timestamp|add month date|add month timestamp|month between date|month between timestamp|\n",
      "+----------+--------------------+--------------+-------------------+------------------+-----------------------+\n",
      "|2014-02-28|2014-02-28 10:00:...|    2014-05-28|         2014-05-28|            113.61|                  113.6|\n",
      "|2016-02-29|2016-02-29 08:08:...|    2016-05-29|         2016-05-29|             89.58|                  89.57|\n",
      "|2017-10-31|2017-12-31 11:59:...|    2018-01-31|         2018-03-31|             69.52|                   67.5|\n",
      "|2019-11-30|2019-08-31 00:00:...|    2020-02-29|         2019-11-30|             44.55|                  47.52|\n",
      "+----------+--------------------+--------------+-------------------+------------------+-----------------------+\n",
      "\n"
     ]
    }
   ],
   "source": [
    "datetimeDF.withColumn('add month date',add_months('date',3)). \\\n",
    "            withColumn('add month timestamp',add_months('timestamp',3)). \\\n",
    "            withColumn('month between date',round(months_between(current_date(),'date'),2)). \\\n",
    "            withColumn('month between timestamp',round(months_between(current_date(),'timestamp'),2)). \\\n",
    "            show()"
   ]
  },
  {
   "cell_type": "code",
   "execution_count": null,
   "id": "640bc090-7828-4f7b-ae98-786fbd2d76a4",
   "metadata": {},
   "outputs": [],
   "source": []
  }
 ],
 "metadata": {
  "kernelspec": {
   "display_name": "Python 3 (ipykernel)",
   "language": "python",
   "name": "python3"
  },
  "language_info": {
   "codemirror_mode": {
    "name": "ipython",
    "version": 3
   },
   "file_extension": ".py",
   "mimetype": "text/x-python",
   "name": "python",
   "nbconvert_exporter": "python",
   "pygments_lexer": "ipython3",
   "version": "3.8.10"
  }
 },
 "nbformat": 4,
 "nbformat_minor": 5
}
