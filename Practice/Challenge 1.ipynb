{
 "cells": [
  {
   "cell_type": "code",
   "execution_count": 1,
   "id": "3cc96bcd-7b8e-4d93-9bf5-6703f479c864",
   "metadata": {},
   "outputs": [],
   "source": [
    "# Get total number of flights as well as number of flights which are delayed in departure and \n",
    "# number of flights delayed in arrival.\n",
    "\n",
    "# Output should contain 3 columns - FlightCount, DepDelayedCount, ArrDelayedCount"
   ]
  },
  {
   "cell_type": "code",
   "execution_count": 2,
   "id": "6696a846-5070-4651-885b-44a9d2ce0f20",
   "metadata": {},
   "outputs": [
    {
     "name": "stderr",
     "output_type": "stream",
     "text": [
      "Setting default log level to \"WARN\".\n",
      "To adjust logging level use sc.setLogLevel(newLevel). For SparkR, use setLogLevel(newLevel).\n",
      "23/08/23 14:46:53 WARN NativeCodeLoader: Unable to load native-hadoop library for your platform... using builtin-java classes where applicable\n"
     ]
    }
   ],
   "source": [
    "from pyspark.sql import SparkSession\n",
    "from pyspark.sql.functions import *\n",
    "\n",
    "spark = SparkSession.builder.appName('Test').getOrCreate()"
   ]
  },
  {
   "cell_type": "code",
   "execution_count": 3,
   "id": "0cfa2f59-6ff7-4704-b6a9-a0ea76988a7f",
   "metadata": {},
   "outputs": [],
   "source": [
    "path = 'airtrafficdata/airtraffic_all/airtraffic-part/flightmonth=200801/part-00252-5cde1303-4ebf-4a12-8fad-f5d9f9c9124a-Copy1.c000.snappy.parquet'\n"
   ]
  },
  {
   "cell_type": "code",
   "execution_count": 4,
   "id": "0d38bc29-d7ea-434d-966f-518e3848139b",
   "metadata": {},
   "outputs": [
    {
     "name": "stderr",
     "output_type": "stream",
     "text": [
      "                                                                                \r"
     ]
    }
   ],
   "source": [
    "airtraffic = spark.read.parquet(path)"
   ]
  },
  {
   "cell_type": "code",
   "execution_count": 5,
   "id": "46400c9e-f8c9-44c3-882b-1ece557e0d7c",
   "metadata": {},
   "outputs": [
    {
     "name": "stdout",
     "output_type": "stream",
     "text": [
      "root\n",
      " |-- Year: integer (nullable = true)\n",
      " |-- Month: integer (nullable = true)\n",
      " |-- DayofMonth: integer (nullable = true)\n",
      " |-- DayOfWeek: integer (nullable = true)\n",
      " |-- DepTime: string (nullable = true)\n",
      " |-- CRSDepTime: integer (nullable = true)\n",
      " |-- ArrTime: string (nullable = true)\n",
      " |-- CRSArrTime: integer (nullable = true)\n",
      " |-- UniqueCarrier: string (nullable = true)\n",
      " |-- FlightNum: integer (nullable = true)\n",
      " |-- TailNum: string (nullable = true)\n",
      " |-- ActualElapsedTime: string (nullable = true)\n",
      " |-- CRSElapsedTime: integer (nullable = true)\n",
      " |-- AirTime: string (nullable = true)\n",
      " |-- ArrDelay: string (nullable = true)\n",
      " |-- DepDelay: string (nullable = true)\n",
      " |-- Origin: string (nullable = true)\n",
      " |-- Dest: string (nullable = true)\n",
      " |-- Distance: string (nullable = true)\n",
      " |-- TaxiIn: string (nullable = true)\n",
      " |-- TaxiOut: string (nullable = true)\n",
      " |-- Cancelled: integer (nullable = true)\n",
      " |-- CancellationCode: string (nullable = true)\n",
      " |-- Diverted: integer (nullable = true)\n",
      " |-- CarrierDelay: string (nullable = true)\n",
      " |-- WeatherDelay: string (nullable = true)\n",
      " |-- NASDelay: string (nullable = true)\n",
      " |-- SecurityDelay: string (nullable = true)\n",
      " |-- LateAircraftDelay: string (nullable = true)\n",
      " |-- IsArrDelayed: string (nullable = true)\n",
      " |-- IsDepDelayed: string (nullable = true)\n",
      "\n"
     ]
    }
   ],
   "source": [
    "airtraffic.printSchema()"
   ]
  },
  {
   "cell_type": "code",
   "execution_count": 6,
   "id": "97d456bd-6838-4023-84b8-422cd6197983",
   "metadata": {},
   "outputs": [
    {
     "data": {
      "text/plain": [
       "605659"
      ]
     },
     "execution_count": 6,
     "metadata": {},
     "output_type": "execute_result"
    }
   ],
   "source": [
    "airtraffic.count()"
   ]
  },
  {
   "cell_type": "code",
   "execution_count": 7,
   "id": "1cb7d82c-c068-4584-b0f0-6081645e0bfd",
   "metadata": {},
   "outputs": [
    {
     "name": "stderr",
     "output_type": "stream",
     "text": [
      "[Stage 4:============================================>              (3 + 1) / 4]\r"
     ]
    },
    {
     "name": "stdout",
     "output_type": "stream",
     "text": [
      "+------------+\n",
      "|IsArrDelayed|\n",
      "+------------+\n",
      "|         YES|\n",
      "|          NO|\n",
      "+------------+\n",
      "\n"
     ]
    },
    {
     "name": "stderr",
     "output_type": "stream",
     "text": [
      "                                                                                \r"
     ]
    }
   ],
   "source": [
    "airtraffic.select('IsArrDelayed').distinct().show()"
   ]
  },
  {
   "cell_type": "code",
   "execution_count": 8,
   "id": "ee5b8134-9d00-4eff-9f02-c5cdd20703ba",
   "metadata": {},
   "outputs": [
    {
     "data": {
      "text/plain": [
       "280663"
      ]
     },
     "execution_count": 8,
     "metadata": {},
     "output_type": "execute_result"
    }
   ],
   "source": [
    "airtraffic.filter((col('IsArrDelayed') == 'YES') & (col('Cancelled') == 0)).count()"
   ]
  },
  {
   "cell_type": "code",
   "execution_count": 9,
   "id": "d79b452b-3033-4d07-b8ab-96799bcd5b0e",
   "metadata": {},
   "outputs": [
    {
     "data": {
      "text/plain": [
       "247905"
      ]
     },
     "execution_count": 9,
     "metadata": {},
     "output_type": "execute_result"
    }
   ],
   "source": [
    "airtraffic.filter((col('IsDepDelayed') == 'YES') & (col('Cancelled') == 0)).count()"
   ]
  },
  {
   "cell_type": "code",
   "execution_count": 14,
   "id": "6a5433b9-8810-42e0-a549-11cfd8a7c863",
   "metadata": {},
   "outputs": [
    {
     "name": "stdout",
     "output_type": "stream",
     "text": [
      "+----+-----+----------+---------+------------+------------+\n",
      "|Year|Month|DayOfMonth|FlightNum|IsDepDelayed|IsArrDelayed|\n",
      "+----+-----+----------+---------+------------+------------+\n",
      "|2008|    1|        17|     4977|         YES|         YES|\n",
      "|2008|    1|        17|     5426|          NO|         YES|\n",
      "|2008|    1|        18|     5260|         YES|         YES|\n",
      "|2008|    1|        19|     5276|          NO|         YES|\n",
      "|2008|    1|        20|     5215|          NO|         YES|\n",
      "|2008|    1|        20|     5324|          NO|         YES|\n",
      "|2008|    1|        21|     5056|          NO|         YES|\n",
      "|2008|    1|        21|     5215|         YES|          NO|\n",
      "|2008|    1|        21|     5595|         YES|         YES|\n",
      "|2008|    1|        21|     5610|          NO|         YES|\n",
      "|2008|    1|        22|     5032|         YES|         YES|\n",
      "|2008|    1|        22|     5331|          NO|         YES|\n",
      "|2008|    1|        23|     5033|          NO|         YES|\n",
      "|2008|    1|        23|     5355|          NO|         YES|\n",
      "|2008|    1|        24|     5689|          NO|         YES|\n",
      "|2008|    1|        27|     5433|          NO|         YES|\n",
      "|2008|    1|        27|     5645|          NO|         YES|\n",
      "|2008|    1|        29|     5249|          NO|         YES|\n",
      "|2008|    1|        29|     5670|          NO|         YES|\n",
      "|2008|    1|        31|     5107|          NO|         YES|\n",
      "+----+-----+----------+---------+------------+------------+\n",
      "only showing top 20 rows\n",
      "\n"
     ]
    }
   ],
   "source": [
    "airtraffic.filter(((col('IsArrDelayed') == 'YES') & (col('Cancelled') == 0)) | \n",
    "                 ((col('IsDepDelayed') == 'YES') & (col('Cancelled') == 0))). \\\n",
    "    select('Year', 'Month', 'DayOfMonth', \n",
    "           'FlightNum', 'IsDepDelayed', 'IsArrDelayed').show()"
   ]
  },
  {
   "cell_type": "code",
   "execution_count": 16,
   "id": "48e760dc-2814-471c-b0f8-85e552d852f2",
   "metadata": {},
   "outputs": [
    {
     "name": "stdout",
     "output_type": "stream",
     "text": [
      "+-----------+---------------+---------------+\n",
      "|FlightCount|DepDelayedCount|ArrDelayedCount|\n",
      "+-----------+---------------+---------------+\n",
      "|     588366|         247905|         280663|\n",
      "+-----------+---------------+---------------+\n",
      "\n"
     ]
    }
   ],
   "source": [
    "airtraffic. \\\n",
    "    filter((col('Cancelled') == 0)). \\\n",
    "    agg(count(lit('1')).alias('FlightCount'),\n",
    "       sum(when(col('IsDepDelayed')=='YES',1).otherwise(0)).alias('DepDelayedCount'),\n",
    "        sum(when(col('IsArrDelayed')=='YES',1).otherwise(0)).alias('ArrDelayedCount')). \\\n",
    "    show()\n",
    "        "
   ]
  },
  {
   "cell_type": "code",
   "execution_count": null,
   "id": "34f2a2a6-f6c2-4500-aafd-5bab0adce8c7",
   "metadata": {},
   "outputs": [],
   "source": []
  }
 ],
 "metadata": {
  "kernelspec": {
   "display_name": "Python 3 (ipykernel)",
   "language": "python",
   "name": "python3"
  },
  "language_info": {
   "codemirror_mode": {
    "name": "ipython",
    "version": 3
   },
   "file_extension": ".py",
   "mimetype": "text/x-python",
   "name": "python",
   "nbconvert_exporter": "python",
   "pygments_lexer": "ipython3",
   "version": "3.8.10"
  }
 },
 "nbformat": 4,
 "nbformat_minor": 5
}
