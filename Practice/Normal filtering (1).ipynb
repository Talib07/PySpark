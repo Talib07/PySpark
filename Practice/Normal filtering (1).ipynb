{
 "cells": [
  {
   "cell_type": "code",
   "execution_count": 1,
   "id": "6821ddab-f214-4122-9494-3b9a9ac5340f",
   "metadata": {},
   "outputs": [],
   "source": [
    "from pyspark.sql import SparkSession\n",
    "from pyspark.sql.functions import *"
   ]
  },
  {
   "cell_type": "code",
   "execution_count": 2,
   "id": "a547fd20-ed15-4bbe-b75b-03847dab0df3",
   "metadata": {},
   "outputs": [
    {
     "name": "stderr",
     "output_type": "stream",
     "text": [
      "Setting default log level to \"WARN\".\n",
      "To adjust logging level use sc.setLogLevel(newLevel). For SparkR, use setLogLevel(newLevel).\n",
      "23/08/21 10:51:57 WARN NativeCodeLoader: Unable to load native-hadoop library for your platform... using builtin-java classes where applicable\n"
     ]
    }
   ],
   "source": [
    "spark = SparkSession.builder.appName('Test').getOrCreate()"
   ]
  },
  {
   "cell_type": "code",
   "execution_count": 3,
   "id": "72770e6f-9398-49fb-bc7c-b7bbef591aba",
   "metadata": {},
   "outputs": [],
   "source": [
    "path = 'airtrafficdata/airtraffic_all/airtraffic-part/flightmonth=200801/part-00252-5cde1303-4ebf-4a12-8fad-f5d9f9c9124a-Copy1.c000.snappy.parquet'"
   ]
  },
  {
   "cell_type": "code",
   "execution_count": 4,
   "id": "882d7957-f7f5-4107-9336-aa63a07692bb",
   "metadata": {},
   "outputs": [
    {
     "name": "stderr",
     "output_type": "stream",
     "text": [
      "                                                                                \r"
     ]
    }
   ],
   "source": [
    "df = spark.read.parquet(path)"
   ]
  },
  {
   "cell_type": "code",
   "execution_count": 5,
   "id": "7067f654-b013-4090-9999-b0d097b78745",
   "metadata": {},
   "outputs": [
    {
     "name": "stdout",
     "output_type": "stream",
     "text": [
      "root\n",
      " |-- Year: integer (nullable = true)\n",
      " |-- Month: integer (nullable = true)\n",
      " |-- DayofMonth: integer (nullable = true)\n",
      " |-- DayOfWeek: integer (nullable = true)\n",
      " |-- DepTime: string (nullable = true)\n",
      " |-- CRSDepTime: integer (nullable = true)\n",
      " |-- ArrTime: string (nullable = true)\n",
      " |-- CRSArrTime: integer (nullable = true)\n",
      " |-- UniqueCarrier: string (nullable = true)\n",
      " |-- FlightNum: integer (nullable = true)\n",
      " |-- TailNum: string (nullable = true)\n",
      " |-- ActualElapsedTime: string (nullable = true)\n",
      " |-- CRSElapsedTime: integer (nullable = true)\n",
      " |-- AirTime: string (nullable = true)\n",
      " |-- ArrDelay: string (nullable = true)\n",
      " |-- DepDelay: string (nullable = true)\n",
      " |-- Origin: string (nullable = true)\n",
      " |-- Dest: string (nullable = true)\n",
      " |-- Distance: string (nullable = true)\n",
      " |-- TaxiIn: string (nullable = true)\n",
      " |-- TaxiOut: string (nullable = true)\n",
      " |-- Cancelled: integer (nullable = true)\n",
      " |-- CancellationCode: string (nullable = true)\n",
      " |-- Diverted: integer (nullable = true)\n",
      " |-- CarrierDelay: string (nullable = true)\n",
      " |-- WeatherDelay: string (nullable = true)\n",
      " |-- NASDelay: string (nullable = true)\n",
      " |-- SecurityDelay: string (nullable = true)\n",
      " |-- LateAircraftDelay: string (nullable = true)\n",
      " |-- IsArrDelayed: string (nullable = true)\n",
      " |-- IsDepDelayed: string (nullable = true)\n",
      "\n"
     ]
    }
   ],
   "source": [
    "df.printSchema()"
   ]
  },
  {
   "cell_type": "code",
   "execution_count": 6,
   "id": "ddf55291-89a8-4169-83d0-f46504512ebc",
   "metadata": {},
   "outputs": [
    {
     "name": "stderr",
     "output_type": "stream",
     "text": [
      "[Stage 1:============================================>              (3 + 1) / 4]\r"
     ]
    },
    {
     "name": "stdout",
     "output_type": "stream",
     "text": [
      "+----+-----+----------+\n",
      "|Year|Month|DayofMonth|\n",
      "+----+-----+----------+\n",
      "|2008|    1|        28|\n",
      "|2008|    1|        25|\n",
      "|2008|    1|        20|\n",
      "|2008|    1|        11|\n",
      "|2008|    1|         4|\n",
      "|2008|    1|         5|\n",
      "|2008|    1|        15|\n",
      "|2008|    1|         3|\n",
      "|2008|    1|        16|\n",
      "|2008|    1|         9|\n",
      "|2008|    1|        17|\n",
      "|2008|    1|        19|\n",
      "|2008|    1|        12|\n",
      "|2008|    1|         6|\n",
      "|2008|    1|        21|\n",
      "|2008|    1|        18|\n",
      "|2008|    1|         7|\n",
      "|2008|    1|         1|\n",
      "|2008|    1|        26|\n",
      "|2008|    1|        24|\n",
      "+----+-----+----------+\n",
      "only showing top 20 rows\n",
      "\n"
     ]
    },
    {
     "name": "stderr",
     "output_type": "stream",
     "text": [
      "                                                                                \r"
     ]
    }
   ],
   "source": [
    "df.select('Year','Month','DayofMonth').distinct().show()"
   ]
  },
  {
   "cell_type": "code",
   "execution_count": 7,
   "id": "50bde679-3acf-4268-a9a7-c78075664a2c",
   "metadata": {},
   "outputs": [
    {
     "name": "stdout",
     "output_type": "stream",
     "text": [
      "+---------+\n",
      "|Cancelled|\n",
      "+---------+\n",
      "|        1|\n",
      "|        0|\n",
      "+---------+\n",
      "\n"
     ]
    }
   ],
   "source": [
    "df.select('Cancelled').distinct().show()"
   ]
  },
  {
   "cell_type": "code",
   "execution_count": 8,
   "id": "6d9f1320-1c8e-438f-b75c-5e04469c930c",
   "metadata": {},
   "outputs": [
    {
     "data": {
      "text/plain": [
       "17293"
      ]
     },
     "execution_count": 8,
     "metadata": {},
     "output_type": "execute_result"
    }
   ],
   "source": [
    "df.filter('Cancelled = 1').count()"
   ]
  },
  {
   "cell_type": "code",
   "execution_count": 9,
   "id": "b12a5beb-a88b-48a7-909a-37063eebd0ae",
   "metadata": {},
   "outputs": [
    {
     "data": {
      "text/plain": [
       "17293"
      ]
     },
     "execution_count": 9,
     "metadata": {},
     "output_type": "execute_result"
    }
   ],
   "source": [
    "df.filter(df['Cancelled'] == '1').count()"
   ]
  },
  {
   "cell_type": "code",
   "execution_count": 10,
   "id": "24377522-58e7-4b94-b6a1-50a34bdc840d",
   "metadata": {},
   "outputs": [
    {
     "data": {
      "text/plain": [
       "11573"
      ]
     },
     "execution_count": 10,
     "metadata": {},
     "output_type": "execute_result"
    }
   ],
   "source": [
    "df.filter(df.Origin == 'SFO').count()"
   ]
  },
  {
   "cell_type": "code",
   "execution_count": 11,
   "id": "7c681e84-5eb4-402b-811a-0c5b0d731485",
   "metadata": {},
   "outputs": [
    {
     "data": {
      "text/plain": [
       "11573"
      ]
     },
     "execution_count": 11,
     "metadata": {},
     "output_type": "execute_result"
    }
   ],
   "source": [
    "df.filter('Origin = \"SFO\"').count()"
   ]
  },
  {
   "cell_type": "code",
   "execution_count": 12,
   "id": "6301d54c-ea57-40cb-ae31-742c5555b1c8",
   "metadata": {},
   "outputs": [
    {
     "name": "stdout",
     "output_type": "stream",
     "text": [
      "+------------+\n",
      "|IsDepDelayed|\n",
      "+------------+\n",
      "|         YES|\n",
      "|          NO|\n",
      "+------------+\n",
      "\n"
     ]
    }
   ],
   "source": [
    "df.select('IsDepDelayed').distinct().show()"
   ]
  },
  {
   "cell_type": "code",
   "execution_count": 13,
   "id": "48c9bc4a-630f-4378-9f78-95aac401c631",
   "metadata": {},
   "outputs": [
    {
     "data": {
      "text/plain": [
       "265198"
      ]
     },
     "execution_count": 13,
     "metadata": {},
     "output_type": "execute_result"
    }
   ],
   "source": [
    "df.filter('IsDepDelayed = \"YES\"').count()"
   ]
  },
  {
   "cell_type": "code",
   "execution_count": 14,
   "id": "0b5747f1-9901-4b03-ac74-aeaa45dd69d7",
   "metadata": {},
   "outputs": [
    {
     "data": {
      "text/plain": [
       "265198"
      ]
     },
     "execution_count": 14,
     "metadata": {},
     "output_type": "execute_result"
    }
   ],
   "source": [
    "df.filter(df['IsDepDelayed'] == \"YES\").count()"
   ]
  },
  {
   "cell_type": "code",
   "execution_count": 15,
   "id": "af0b551b-201f-41a6-81af-d6b2f4e01bcb",
   "metadata": {},
   "outputs": [
    {
     "data": {
      "text/plain": [
       "265198"
      ]
     },
     "execution_count": 15,
     "metadata": {},
     "output_type": "execute_result"
    }
   ],
   "source": [
    "df.filter(df.IsDepDelayed == \"YES\").count()"
   ]
  },
  {
   "cell_type": "code",
   "execution_count": 16,
   "id": "4e3bf373-03c9-4099-ab17-e9c15e5cbdb1",
   "metadata": {},
   "outputs": [
    {
     "name": "stdout",
     "output_type": "stream",
     "text": [
      "+----+-----+----------+\n",
      "|Year|Month|DayofMonth|\n",
      "+----+-----+----------+\n",
      "|2008|    1|        28|\n",
      "|2008|    1|        25|\n",
      "|2008|    1|        20|\n",
      "|2008|    1|        11|\n",
      "|2008|    1|         4|\n",
      "|2008|    1|         5|\n",
      "|2008|    1|        15|\n",
      "|2008|    1|         3|\n",
      "|2008|    1|        16|\n",
      "|2008|    1|         9|\n",
      "|2008|    1|        17|\n",
      "|2008|    1|        19|\n",
      "|2008|    1|        12|\n",
      "|2008|    1|         6|\n",
      "|2008|    1|        21|\n",
      "|2008|    1|        18|\n",
      "|2008|    1|         7|\n",
      "|2008|    1|         1|\n",
      "|2008|    1|        26|\n",
      "|2008|    1|        24|\n",
      "+----+-----+----------+\n",
      "only showing top 20 rows\n",
      "\n"
     ]
    }
   ],
   "source": [
    "df.select('Year','Month','DayofMonth').distinct().show()"
   ]
  },
  {
   "cell_type": "code",
   "execution_count": 17,
   "id": "fd298a5f-e358-49a3-90fa-54cdd59a4d95",
   "metadata": {},
   "outputs": [
    {
     "name": "stdout",
     "output_type": "stream",
     "text": [
      "+----------+----------------------+\n",
      "|DayofMonth|lpad(DayofMonth, 2, 0)|\n",
      "+----------+----------------------+\n",
      "|         6|                    06|\n",
      "|        23|                    23|\n",
      "|        30|                    30|\n",
      "|         1|                    01|\n",
      "|        28|                    28|\n",
      "|        31|                    31|\n",
      "|         2|                    02|\n",
      "|         5|                    05|\n",
      "|         8|                    08|\n",
      "|        12|                    12|\n",
      "|        17|                    17|\n",
      "|        25|                    25|\n",
      "|        29|                    29|\n",
      "|         9|                    09|\n",
      "|        10|                    10|\n",
      "|        15|                    15|\n",
      "|         3|                    03|\n",
      "|        14|                    14|\n",
      "|        21|                    21|\n",
      "|        13|                    13|\n",
      "+----------+----------------------+\n",
      "only showing top 20 rows\n",
      "\n"
     ]
    }
   ],
   "source": [
    "df.select('DayofMonth',lpad('DayofMonth',2,'0')).distinct().show()"
   ]
  },
  {
   "cell_type": "code",
   "execution_count": 18,
   "id": "9381c7e0-1172-4e69-ad7d-110772a8fd89",
   "metadata": {},
   "outputs": [
    {
     "name": "stdout",
     "output_type": "stream",
     "text": [
      "+--------+\n",
      "|     NEW|\n",
      "+--------+\n",
      "|16012008|\n",
      "|17012008|\n",
      "|17012008|\n",
      "|17012008|\n",
      "|17012008|\n",
      "|18012008|\n",
      "|18012008|\n",
      "|19012008|\n",
      "|20012008|\n",
      "|20012008|\n",
      "|21012008|\n",
      "|21012008|\n",
      "|21012008|\n",
      "|21012008|\n",
      "|21012008|\n",
      "|22012008|\n",
      "|22012008|\n",
      "|23012008|\n",
      "|23012008|\n",
      "|23012008|\n",
      "+--------+\n",
      "only showing top 20 rows\n",
      "\n"
     ]
    }
   ],
   "source": [
    "df.select(concat(lpad('DayofMonth',2,'0'),lpad('Month',2,'0'),col('Year')).alias('NEW')).show()"
   ]
  },
  {
   "cell_type": "code",
   "execution_count": 19,
   "id": "b80ebc0e-1517-4acd-b681-f0c17013e6a6",
   "metadata": {},
   "outputs": [
    {
     "name": "stdout",
     "output_type": "stream",
     "text": [
      "+---------+\n",
      "|      DAY|\n",
      "+---------+\n",
      "|Wednesday|\n",
      "| Thursday|\n",
      "| Thursday|\n",
      "| Thursday|\n",
      "| Thursday|\n",
      "|   Friday|\n",
      "|   Friday|\n",
      "| Saturday|\n",
      "|   Sunday|\n",
      "|   Sunday|\n",
      "|   Monday|\n",
      "|   Monday|\n",
      "|   Monday|\n",
      "|   Monday|\n",
      "|   Monday|\n",
      "|  Tuesday|\n",
      "|  Tuesday|\n",
      "|Wednesday|\n",
      "|Wednesday|\n",
      "|Wednesday|\n",
      "+---------+\n",
      "only showing top 20 rows\n",
      "\n"
     ]
    }
   ],
   "source": [
    "df.select(concat(lpad('DayofMonth',2,'0'),lpad('Month',2,'0'),col('Year')).alias('NEW')). \\\n",
    "    select(date_format(to_date('NEW','ddMMyyyy'),'EEEE').alias('DAY')).show()"
   ]
  },
  {
   "cell_type": "code",
   "execution_count": 20,
   "id": "c79628a1-5a6d-47c8-bf28-98388ad50bb3",
   "metadata": {},
   "outputs": [
    {
     "name": "stderr",
     "output_type": "stream",
     "text": [
      "[Stage 41:===========================================>              (3 + 1) / 4]\r"
     ]
    },
    {
     "data": {
      "text/plain": [
       "76395"
      ]
     },
     "execution_count": 20,
     "metadata": {},
     "output_type": "execute_result"
    },
    {
     "name": "stderr",
     "output_type": "stream",
     "text": [
      "                                                                                \r"
     ]
    }
   ],
   "source": [
    "df.select(concat(lpad('DayofMonth',2,'0'),lpad('Month',2,'0'),col('Year')).alias('NEW')). \\\n",
    "    filter(date_format(to_date('NEW','ddMMyyyy'),'EEEE').alias('DAY') == 'Sunday').count()"
   ]
  },
  {
   "cell_type": "code",
   "execution_count": 21,
   "id": "7415af3a-20b2-4722-bfbe-fa9f41704d9a",
   "metadata": {},
   "outputs": [
    {
     "name": "stderr",
     "output_type": "stream",
     "text": [
      "                                                                                \r"
     ]
    },
    {
     "data": {
      "text/plain": [
       "34708"
      ]
     },
     "execution_count": 21,
     "metadata": {},
     "output_type": "execute_result"
    }
   ],
   "source": [
    "df.select(concat(lpad('DayofMonth',2,'0'),lpad('Month',2,'0'),col('Year')).alias('NEW')). \\\n",
    "    filter((col(\"IsDepDelayed\") == \"YES\") & (date_format(to_date('NEW','ddMMyyyy'),'EEEE'). \\\n",
    "                                             alias('DAY') == 'Sunday')).count()"
   ]
  },
  {
   "cell_type": "code",
   "execution_count": 22,
   "id": "f7b71ed5-a92e-4e4f-ad6f-eb822ef33b32",
   "metadata": {},
   "outputs": [
    {
     "name": "stdout",
     "output_type": "stream",
     "text": [
      "root\n",
      " |-- Year: integer (nullable = true)\n",
      " |-- Month: integer (nullable = true)\n",
      " |-- DayofMonth: integer (nullable = true)\n",
      " |-- DayOfWeek: integer (nullable = true)\n",
      " |-- DepTime: string (nullable = true)\n",
      " |-- CRSDepTime: integer (nullable = true)\n",
      " |-- ArrTime: string (nullable = true)\n",
      " |-- CRSArrTime: integer (nullable = true)\n",
      " |-- UniqueCarrier: string (nullable = true)\n",
      " |-- FlightNum: integer (nullable = true)\n",
      " |-- TailNum: string (nullable = true)\n",
      " |-- ActualElapsedTime: string (nullable = true)\n",
      " |-- CRSElapsedTime: integer (nullable = true)\n",
      " |-- AirTime: string (nullable = true)\n",
      " |-- ArrDelay: string (nullable = true)\n",
      " |-- DepDelay: string (nullable = true)\n",
      " |-- Origin: string (nullable = true)\n",
      " |-- Dest: string (nullable = true)\n",
      " |-- Distance: string (nullable = true)\n",
      " |-- TaxiIn: string (nullable = true)\n",
      " |-- TaxiOut: string (nullable = true)\n",
      " |-- Cancelled: integer (nullable = true)\n",
      " |-- CancellationCode: string (nullable = true)\n",
      " |-- Diverted: integer (nullable = true)\n",
      " |-- CarrierDelay: string (nullable = true)\n",
      " |-- WeatherDelay: string (nullable = true)\n",
      " |-- NASDelay: string (nullable = true)\n",
      " |-- SecurityDelay: string (nullable = true)\n",
      " |-- LateAircraftDelay: string (nullable = true)\n",
      " |-- IsArrDelayed: string (nullable = true)\n",
      " |-- IsDepDelayed: string (nullable = true)\n",
      "\n"
     ]
    }
   ],
   "source": [
    "df.printSchema()"
   ]
  },
  {
   "cell_type": "code",
   "execution_count": 23,
   "id": "8e78e918-47d7-4f59-bf69-25bc58f04c32",
   "metadata": {},
   "outputs": [
    {
     "name": "stdout",
     "output_type": "stream",
     "text": [
      "+------------+------------+---------+\n",
      "|IsDepDelayed|IsArrDelayed|Cancelled|\n",
      "+------------+------------+---------+\n",
      "|          NO|          NO|        0|\n",
      "|         YES|         YES|        1|\n",
      "|          NO|         YES|        0|\n",
      "|         YES|          NO|        0|\n",
      "|         YES|         YES|        0|\n",
      "+------------+------------+---------+\n",
      "\n"
     ]
    }
   ],
   "source": [
    "df.select('IsDepDelayed','IsArrDelayed','Cancelled').distinct().show()"
   ]
  },
  {
   "cell_type": "code",
   "execution_count": 24,
   "id": "855b0414-9f03-4ab6-beae-5e546d209dd3",
   "metadata": {},
   "outputs": [
    {
     "data": {
      "text/plain": [
       "54233"
      ]
     },
     "execution_count": 24,
     "metadata": {},
     "output_type": "execute_result"
    }
   ],
   "source": [
    "df.filter((df.IsDepDelayed == 'YES') & (df.IsArrDelayed == 'NO') & (df.Cancelled == 0)). \\\n",
    "count()"
   ]
  },
  {
   "cell_type": "code",
   "execution_count": 25,
   "id": "597d210f-7edd-4886-bb6e-14fe15d7a1c7",
   "metadata": {},
   "outputs": [
    {
     "data": {
      "text/plain": [
       "20705"
      ]
     },
     "execution_count": 25,
     "metadata": {},
     "output_type": "execute_result"
    }
   ],
   "source": [
    "df.filter(\"IsDepDelayed = 'NO' AND IsArrDelayed = 'YES' AND ArrDelay >= 15\").count()"
   ]
  },
  {
   "cell_type": "code",
   "execution_count": 26,
   "id": "99a5222d-6d98-43ac-b9c4-5cf96674d561",
   "metadata": {},
   "outputs": [
    {
     "name": "stderr",
     "output_type": "stream",
     "text": [
      "                                                                                \r"
     ]
    },
    {
     "data": {
      "text/plain": [
       "57873"
      ]
     },
     "execution_count": 26,
     "metadata": {},
     "output_type": "execute_result"
    }
   ],
   "source": [
    "df.withColumn('date',concat(lpad(col('DayofMonth'),2,'0'),lpad(col('Month'),2,'0'),col('Year'))). \\\n",
    "    filter((df.IsDepDelayed == 'YES') & (col('Cancelled') == '0') & ((date_format(to_date('date','ddMMyyyy'),'EEEE') == 'Saturday') | \n",
    "                                       (date_format(to_date('date','ddMMyyyy'),'EEEE') == 'Sunday'))).count()"
   ]
  },
  {
   "cell_type": "code",
   "execution_count": 28,
   "id": "4a2842b3-68bf-4184-bf31-78c728d0c09f",
   "metadata": {},
   "outputs": [
    {
     "name": "stderr",
     "output_type": "stream",
     "text": [
      "                                                                                \r"
     ]
    },
    {
     "data": {
      "text/plain": [
       "57873"
      ]
     },
     "execution_count": 28,
     "metadata": {},
     "output_type": "execute_result"
    }
   ],
   "source": [
    "df.withColumn('date',concat(lpad(col('DayofMonth'),2,'0'),lpad(col('Month'),2,'0'),col('Year'))). \\\n",
    "    filter((df.IsDepDelayed == 'YES') & (col('Cancelled') == '0') &\n",
    "           ((date_format(to_date('date','ddMMyyyy'),'EEEE').isin('Saturday','Sunday')))).count()"
   ]
  },
  {
   "cell_type": "code",
   "execution_count": null,
   "id": "64813855-004c-4a34-b70c-3e2ac2c8e986",
   "metadata": {},
   "outputs": [],
   "source": []
  }
 ],
 "metadata": {
  "kernelspec": {
   "display_name": "Python 3 (ipykernel)",
   "language": "python",
   "name": "python3"
  },
  "language_info": {
   "codemirror_mode": {
    "name": "ipython",
    "version": 3
   },
   "file_extension": ".py",
   "mimetype": "text/x-python",
   "name": "python",
   "nbconvert_exporter": "python",
   "pygments_lexer": "ipython3",
   "version": "3.8.10"
  }
 },
 "nbformat": 4,
 "nbformat_minor": 5
}
