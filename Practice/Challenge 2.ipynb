{
 "cells": [
  {
   "cell_type": "code",
   "execution_count": 1,
   "id": "337abf62-bb6b-48dd-acf9-5698f56b6d4a",
   "metadata": {},
   "outputs": [
    {
     "name": "stderr",
     "output_type": "stream",
     "text": [
      "Setting default log level to \"WARN\".\n",
      "To adjust logging level use sc.setLogLevel(newLevel). For SparkR, use setLogLevel(newLevel).\n",
      "23/08/23 15:54:58 WARN NativeCodeLoader: Unable to load native-hadoop library for your platform... using builtin-java classes where applicable\n"
     ]
    }
   ],
   "source": [
    "from pyspark.sql import SparkSession\n",
    "from pyspark.sql.functions import *\n",
    "\n",
    "spark = SparkSession.builder.appName('Challenge2').getOrCreate()"
   ]
  },
  {
   "cell_type": "code",
   "execution_count": 2,
   "id": "c91ff79a-5fd6-4a45-99e0-a8e9eae3446d",
   "metadata": {},
   "outputs": [],
   "source": [
    "path = 'airtrafficdata/airtraffic_all/airtraffic-part/flightmonth=200801'"
   ]
  },
  {
   "cell_type": "code",
   "execution_count": 3,
   "id": "ffe76883-a990-4380-acc0-7948b5959a90",
   "metadata": {},
   "outputs": [
    {
     "name": "stderr",
     "output_type": "stream",
     "text": [
      "                                                                                \r"
     ]
    }
   ],
   "source": [
    "airtraffic = spark.read.parquet(path)"
   ]
  },
  {
   "cell_type": "code",
   "execution_count": 4,
   "id": "2ba0e19d-8515-44f1-90d5-31161dce943c",
   "metadata": {},
   "outputs": [
    {
     "name": "stdout",
     "output_type": "stream",
     "text": [
      "root\n",
      " |-- Year: integer (nullable = true)\n",
      " |-- Month: integer (nullable = true)\n",
      " |-- DayofMonth: integer (nullable = true)\n",
      " |-- DayOfWeek: integer (nullable = true)\n",
      " |-- DepTime: string (nullable = true)\n",
      " |-- CRSDepTime: integer (nullable = true)\n",
      " |-- ArrTime: string (nullable = true)\n",
      " |-- CRSArrTime: integer (nullable = true)\n",
      " |-- UniqueCarrier: string (nullable = true)\n",
      " |-- FlightNum: integer (nullable = true)\n",
      " |-- TailNum: string (nullable = true)\n",
      " |-- ActualElapsedTime: string (nullable = true)\n",
      " |-- CRSElapsedTime: integer (nullable = true)\n",
      " |-- AirTime: string (nullable = true)\n",
      " |-- ArrDelay: string (nullable = true)\n",
      " |-- DepDelay: string (nullable = true)\n",
      " |-- Origin: string (nullable = true)\n",
      " |-- Dest: string (nullable = true)\n",
      " |-- Distance: string (nullable = true)\n",
      " |-- TaxiIn: string (nullable = true)\n",
      " |-- TaxiOut: string (nullable = true)\n",
      " |-- Cancelled: integer (nullable = true)\n",
      " |-- CancellationCode: string (nullable = true)\n",
      " |-- Diverted: integer (nullable = true)\n",
      " |-- CarrierDelay: string (nullable = true)\n",
      " |-- WeatherDelay: string (nullable = true)\n",
      " |-- NASDelay: string (nullable = true)\n",
      " |-- SecurityDelay: string (nullable = true)\n",
      " |-- LateAircraftDelay: string (nullable = true)\n",
      " |-- IsArrDelayed: string (nullable = true)\n",
      " |-- IsDepDelayed: string (nullable = true)\n",
      "\n"
     ]
    }
   ],
   "source": [
    "airtraffic.printSchema()"
   ]
  },
  {
   "cell_type": "code",
   "execution_count": 5,
   "id": "6b836853-b914-479a-abb6-5c99bcdc76fa",
   "metadata": {},
   "outputs": [],
   "source": [
    "# Get number of flights which are delayed in departure and number of flights delayed in arrival\n",
    "# for each day along with number of flights departed for each day.\n",
    "\n",
    "# Output should contain 4 columns - FlightDate, FlightCount, DepDelayedCount, ArrDelayedCount\n",
    "\n",
    "# FlightDate should be of yyyy-MM-dd format.\n",
    "\n",
    "# Data should be sorted in ascending order by flightDate"
   ]
  },
  {
   "cell_type": "code",
   "execution_count": 6,
   "id": "5343fd6e-4efd-47c6-855a-35eac7011b13",
   "metadata": {},
   "outputs": [
    {
     "name": "stderr",
     "output_type": "stream",
     "text": [
      "[Stage 1:============================================>              (3 + 1) / 4]\r"
     ]
    },
    {
     "name": "stdout",
     "output_type": "stream",
     "text": [
      "+----------+-----------+---------------+---------------+\n",
      "|FlightDate|FlightCount|DepDelayedCount|ArrDelayedCount|\n",
      "+----------+-----------+---------------+---------------+\n",
      "|2008-01-01|      18623|          10501|          11173|\n",
      "|2008-01-02|      20442|          13294|          13749|\n",
      "|2008-01-03|      20462|          11819|          12013|\n",
      "|2008-01-04|      20160|           9406|           9824|\n",
      "|2008-01-05|      17610|           9051|           9345|\n",
      "|2008-01-06|      19210|          10542|          10705|\n",
      "|2008-01-07|      19762|           8122|           8683|\n",
      "|2008-01-08|      19140|           7483|           8938|\n",
      "|2008-01-09|      19443|           5962|           6857|\n",
      "|2008-01-10|      19956|           7033|           8565|\n",
      "|2008-01-11|      19825|           7255|           8164|\n",
      "|2008-01-12|      16346|           3902|           4078|\n",
      "|2008-01-13|      18587|           6634|           7473|\n",
      "|2008-01-14|      19267|           5921|           7104|\n",
      "|2008-01-15|      19204|           5304|           6389|\n",
      "|2008-01-16|      19232|           5102|           6228|\n",
      "|2008-01-17|      19401|           9635|          11229|\n",
      "|2008-01-18|      20117|          10038|          10860|\n",
      "|2008-01-19|      15373|           6399|           6810|\n",
      "|2008-01-20|      18406|           6700|           7005|\n",
      "|2008-01-21|      19658|          10055|          11032|\n",
      "|2008-01-22|      18716|           9129|          10669|\n",
      "|2008-01-23|      19239|           7349|           9324|\n",
      "|2008-01-24|      19935|           8112|           9972|\n",
      "|2008-01-25|      19787|           8826|          10479|\n",
      "|2008-01-26|      15860|           5740|           7163|\n",
      "|2008-01-27|      18265|           8905|          10331|\n",
      "|2008-01-28|      19493|           7580|           9013|\n",
      "|2008-01-29|      18596|           6324|           8370|\n",
      "|2008-01-30|      19072|           6655|           7814|\n",
      "|2008-01-31|      19179|           9127|          11304|\n",
      "+----------+-----------+---------------+---------------+\n",
      "\n"
     ]
    },
    {
     "name": "stderr",
     "output_type": "stream",
     "text": [
      "                                                                                \r"
     ]
    }
   ],
   "source": [
    "airtraffic. \\\n",
    "    filter(col('Cancelled')==0). \\\n",
    "    groupby((to_date(concat(col('Year'),\n",
    "                  lpad(col('Month'),2,'0'),\n",
    "                  lpad(col('DayofMonth'),2,'0')),'yyyyMMdd').alias('FlightDate'))). \\\n",
    "    agg(count(lit('1')).alias('FlightCount') , \n",
    "       sum(when((col('IsDepDelayed')=='YES'),1).otherwise(0)).alias('DepDelayedCount'),\n",
    "       sum(when((col('IsArrDelayed')=='YES'),1).otherwise(0)).alias('ArrDelayedCount')). \\\n",
    "    orderBy('FlightDate').show(31)"
   ]
  },
  {
   "cell_type": "code",
   "execution_count": null,
   "id": "1a4b362b-e36b-4adb-ad56-02d53fa03b5d",
   "metadata": {},
   "outputs": [],
   "source": []
  }
 ],
 "metadata": {
  "kernelspec": {
   "display_name": "Python 3 (ipykernel)",
   "language": "python",
   "name": "python3"
  },
  "language_info": {
   "codemirror_mode": {
    "name": "ipython",
    "version": 3
   },
   "file_extension": ".py",
   "mimetype": "text/x-python",
   "name": "python",
   "nbconvert_exporter": "python",
   "pygments_lexer": "ipython3",
   "version": "3.8.10"
  }
 },
 "nbformat": 4,
 "nbformat_minor": 5
}
