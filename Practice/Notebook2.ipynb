{
 "cells": [
  {
   "cell_type": "code",
   "execution_count": 1,
   "id": "f2866c75-71cd-4473-b51f-fafbf3ac5a3c",
   "metadata": {},
   "outputs": [],
   "source": [
    "#Overview of Dataframe"
   ]
  },
  {
   "cell_type": "code",
   "execution_count": 2,
   "id": "fedf46ac-fbf9-4036-a150-88edb3a67974",
   "metadata": {},
   "outputs": [],
   "source": [
    "from pyspark.sql import SparkSession"
   ]
  },
  {
   "cell_type": "code",
   "execution_count": 16,
   "id": "13561068-b54e-4124-87ac-c5fa23339d04",
   "metadata": {},
   "outputs": [],
   "source": [
    "spark = SparkSession.builder.appName('Test').getOrCreate()"
   ]
  },
  {
   "cell_type": "code",
   "execution_count": 17,
   "id": "7fef0ea0-154b-4472-9e30-1e53f105eca1",
   "metadata": {},
   "outputs": [],
   "source": [
    "employees = [(1, \"Scott\", \"Tiger\", 1000.0, \"united states\"),\n",
    "             (2, \"Henry\", \"Ford\", 1250.0, \"India\"),\n",
    "             (3, \"Nick\", \"Junior\", 750.0, \"united KINGDOM\"),\n",
    "             (4, \"Bill\", \"Gomes\", 1500.0, \"AUSTRALIA\")\n",
    "            ]"
   ]
  },
  {
   "cell_type": "code",
   "execution_count": 18,
   "id": "659c837a-158f-4d58-b5eb-16dcda86f77d",
   "metadata": {},
   "outputs": [],
   "source": [
    "employeesDF = spark.createDataFrame(employees, \n",
    "                                    schema = \n",
    "                                    \"\"\"Emp_ID INT,First_Name STRING,\n",
    "                                    Last_Name STRING,Salary FLOAT,Country STRING\"\"\")"
   ]
  },
  {
   "cell_type": "code",
   "execution_count": 19,
   "id": "e4c41f12-2dd2-41a0-90b1-4c1d928c5877",
   "metadata": {},
   "outputs": [
    {
     "name": "stdout",
     "output_type": "stream",
     "text": [
      "+------+----------+---------+------+--------------+\n",
      "|Emp_ID|First_Name|Last_Name|Salary|       Country|\n",
      "+------+----------+---------+------+--------------+\n",
      "|     1|     Scott|    Tiger|1000.0| united states|\n",
      "|     2|     Henry|     Ford|1250.0|         India|\n",
      "|     3|      Nick|   Junior| 750.0|united KINGDOM|\n",
      "|     4|      Bill|    Gomes|1500.0|     AUSTRALIA|\n",
      "+------+----------+---------+------+--------------+\n",
      "\n"
     ]
    }
   ],
   "source": [
    "employeesDF.show()"
   ]
  },
  {
   "cell_type": "code",
   "execution_count": 20,
   "id": "d92508dc-05d8-44b4-9ea2-bf5b12dbce76",
   "metadata": {},
   "outputs": [
    {
     "name": "stdout",
     "output_type": "stream",
     "text": [
      "root\n",
      " |-- Emp_ID: integer (nullable = true)\n",
      " |-- First_Name: string (nullable = true)\n",
      " |-- Last_Name: string (nullable = true)\n",
      " |-- Salary: float (nullable = true)\n",
      " |-- Country: string (nullable = true)\n",
      "\n"
     ]
    }
   ],
   "source": [
    "employeesDF.printSchema()"
   ]
  },
  {
   "cell_type": "code",
   "execution_count": 21,
   "id": "389e4b65-1f82-4cc9-b231-985775cb1f6b",
   "metadata": {},
   "outputs": [],
   "source": [
    "from pyspark.sql.functions import *"
   ]
  },
  {
   "cell_type": "code",
   "execution_count": 22,
   "id": "ba78457b-beb7-4fe2-bb99-de88ad79fb6e",
   "metadata": {},
   "outputs": [
    {
     "name": "stdout",
     "output_type": "stream",
     "text": [
      "+------+----------+---------+------+--------------+-----------+\n",
      "|Emp_ID|First_Name|Last_Name|Salary|       Country|  Full_Name|\n",
      "+------+----------+---------+------+--------------+-----------+\n",
      "|     1|     Scott|    Tiger|1000.0| united states|Scott Tiger|\n",
      "|     2|     Henry|     Ford|1250.0|         India| Henry Ford|\n",
      "|     3|      Nick|   Junior| 750.0|united KINGDOM|Nick Junior|\n",
      "|     4|      Bill|    Gomes|1500.0|     AUSTRALIA| Bill Gomes|\n",
      "+------+----------+---------+------+--------------+-----------+\n",
      "\n"
     ]
    }
   ],
   "source": [
    "employeesDF.withColumn('Full_Name',concat('First_Name',lit(' '),'Last_Name')).show()"
   ]
  },
  {
   "cell_type": "code",
   "execution_count": 23,
   "id": "d88508b1-f5b9-4db4-9fef-a46a8ff22edc",
   "metadata": {},
   "outputs": [],
   "source": [
    "s = [1,2,3,4]\n"
   ]
  },
  {
   "cell_type": "code",
   "execution_count": 27,
   "id": "6cefe1bc-432c-42da-a136-ac50cc226162",
   "metadata": {},
   "outputs": [
    {
     "ename": "AttributeError",
     "evalue": "'NoneType' object has no attribute 'withColumn'",
     "output_type": "error",
     "traceback": [
      "\u001b[0;31m---------------------------------------------------------------------------\u001b[0m",
      "\u001b[0;31mAttributeError\u001b[0m                            Traceback (most recent call last)",
      "Cell \u001b[0;32mIn[27], line 1\u001b[0m\n\u001b[0;32m----> 1\u001b[0m employeesDF \u001b[38;5;241m=\u001b[39m \u001b[43memployeesDF\u001b[49m\u001b[38;5;241;43m.\u001b[39;49m\u001b[43mwithColumn\u001b[49m(\u001b[38;5;124m\"\u001b[39m\u001b[38;5;124mexperience\u001b[39m\u001b[38;5;124m\"\u001b[39m, \n\u001b[1;32m      2\u001b[0m                                      expr(\u001b[38;5;124mf\u001b[39m\u001b[38;5;124m\"\u001b[39m\u001b[38;5;124marray(\u001b[39m\u001b[38;5;132;01m{\u001b[39;00m\u001b[38;5;124m'\u001b[39m\u001b[38;5;124m,\u001b[39m\u001b[38;5;124m'\u001b[39m\u001b[38;5;241m.\u001b[39mjoin(\u001b[38;5;28mmap\u001b[39m(\u001b[38;5;28mstr\u001b[39m,\u001b[38;5;250m \u001b[39ms))\u001b[38;5;132;01m}\u001b[39;00m\u001b[38;5;124m)[First_Name]\u001b[39m\u001b[38;5;124m\"\u001b[39m))\u001b[38;5;241m.\u001b[39mshow()\n",
      "\u001b[0;31mAttributeError\u001b[0m: 'NoneType' object has no attribute 'withColumn'"
     ]
    }
   ],
   "source": [
    "employeesDF = employeesDF.withColumn(\"experience\", \n",
    "                                     expr(f\"array({','.join(map(str, s))})[First_Name]\")).show()"
   ]
  },
  {
   "cell_type": "code",
   "execution_count": 25,
   "id": "21ac1431-e404-4181-91d1-9459a6eccf6f",
   "metadata": {},
   "outputs": [
    {
     "ename": "AttributeError",
     "evalue": "'NoneType' object has no attribute 'Select'",
     "output_type": "error",
     "traceback": [
      "\u001b[0;31m---------------------------------------------------------------------------\u001b[0m",
      "\u001b[0;31mAttributeError\u001b[0m                            Traceback (most recent call last)",
      "Cell \u001b[0;32mIn[25], line 1\u001b[0m\n\u001b[0;32m----> 1\u001b[0m \u001b[43memployeesDF\u001b[49m\u001b[38;5;241;43m.\u001b[39;49m\u001b[43mSelect\u001b[49m(\u001b[38;5;124m'\u001b[39m\u001b[38;5;124m*\u001b[39m\u001b[38;5;124m'\u001b[39m,concat(\u001b[38;5;124m'\u001b[39m\u001b[38;5;124mFirst_Name\u001b[39m\u001b[38;5;124m'\u001b[39m, lit(\u001b[38;5;124m'\u001b[39m\u001b[38;5;124m \u001b[39m\u001b[38;5;124m'\u001b[39m), \u001b[38;5;124m'\u001b[39m\u001b[38;5;124mLast_Name\u001b[39m\u001b[38;5;124m'\u001b[39m)\u001b[38;5;241m.\u001b[39malias(\u001b[38;5;124m'\u001b[39m\u001b[38;5;124mFull_Name\u001b[39m\u001b[38;5;124m'\u001b[39m))\u001b[38;5;241m.\u001b[39mshow()\n",
      "\u001b[0;31mAttributeError\u001b[0m: 'NoneType' object has no attribute 'Select'"
     ]
    }
   ],
   "source": [
    "employeesDF.Select('*',concat('First_Name', lit(' '), 'Last_Name').alias('Full_Name')).show()"
   ]
  },
  {
   "cell_type": "code",
   "execution_count": 26,
   "id": "6c07e59c-829e-4894-b205-f776eb769b2f",
   "metadata": {},
   "outputs": [
    {
     "ename": "AttributeError",
     "evalue": "'NoneType' object has no attribute 'select'",
     "output_type": "error",
     "traceback": [
      "\u001b[0;31m---------------------------------------------------------------------------\u001b[0m",
      "\u001b[0;31mAttributeError\u001b[0m                            Traceback (most recent call last)",
      "Cell \u001b[0;32mIn[26], line 1\u001b[0m\n\u001b[0;32m----> 1\u001b[0m \u001b[43memployeesDF\u001b[49m\u001b[38;5;241;43m.\u001b[39;49m\u001b[43m \u001b[49m\u001b[43m\\\u001b[49m\n\u001b[1;32m      2\u001b[0m \u001b[43m    \u001b[49m\u001b[43mselect\u001b[49m(\u001b[38;5;124m\"\u001b[39m\u001b[38;5;124memployee_id\u001b[39m\u001b[38;5;124m\"\u001b[39m,\n\u001b[1;32m      3\u001b[0m            concat(\u001b[38;5;124m\"\u001b[39m\u001b[38;5;124mfirst_name\u001b[39m\u001b[38;5;124m\"\u001b[39m, lit(\u001b[38;5;124m\"\u001b[39m\u001b[38;5;124m, \u001b[39m\u001b[38;5;124m\"\u001b[39m), \u001b[38;5;124m\"\u001b[39m\u001b[38;5;124mlast_name\u001b[39m\u001b[38;5;124m\"\u001b[39m)\u001b[38;5;241m.\u001b[39malias(\u001b[38;5;124m\"\u001b[39m\u001b[38;5;124mfull_name\u001b[39m\u001b[38;5;124m\"\u001b[39m),\n\u001b[1;32m      4\u001b[0m            \u001b[38;5;124m\"\u001b[39m\u001b[38;5;124msalary\u001b[39m\u001b[38;5;124m\"\u001b[39m,\n\u001b[1;32m      5\u001b[0m            \u001b[38;5;124m\"\u001b[39m\u001b[38;5;124mnationality\u001b[39m\u001b[38;5;124m\"\u001b[39m\n\u001b[1;32m      6\u001b[0m           )\u001b[38;5;241m.\u001b[39m \\\n\u001b[1;32m      7\u001b[0m     show()\n",
      "\u001b[0;31mAttributeError\u001b[0m: 'NoneType' object has no attribute 'select'"
     ]
    }
   ],
   "source": [
    "employeesDF. \\\n",
    "    select(\"employee_id\",\n",
    "           concat(\"first_name\", lit(\", \"), \"last_name\").alias(\"full_name\"),\n",
    "           \"salary\",\n",
    "           \"nationality\"\n",
    "          ). \\\n",
    "    show()"
   ]
  },
  {
   "cell_type": "code",
   "execution_count": null,
   "id": "883401b7-c4d6-4c93-a478-7b0c8c330a24",
   "metadata": {},
   "outputs": [],
   "source": []
  }
 ],
 "metadata": {
  "kernelspec": {
   "display_name": "Python 3 (ipykernel)",
   "language": "python",
   "name": "python3"
  },
  "language_info": {
   "codemirror_mode": {
    "name": "ipython",
    "version": 3
   },
   "file_extension": ".py",
   "mimetype": "text/x-python",
   "name": "python",
   "nbconvert_exporter": "python",
   "pygments_lexer": "ipython3",
   "version": "3.8.10"
  }
 },
 "nbformat": 4,
 "nbformat_minor": 5
}
